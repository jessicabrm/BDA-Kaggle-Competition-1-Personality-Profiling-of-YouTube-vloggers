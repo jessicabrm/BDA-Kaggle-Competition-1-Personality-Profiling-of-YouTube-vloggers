{
 "cells": [
  {
   "cell_type": "code",
   "execution_count": 1,
   "id": "76352503",
   "metadata": {
    "_cell_guid": "39fc8038-1e29-4bb3-8486-160aa629127b",
    "_execution_state": "idle",
    "_uuid": "047afe52-49c0-4445-bc38-8ce6b6825e9d",
    "collapsed": false,
    "execution": {
     "iopub.execute_input": "2021-12-29T17:11:00.500368Z",
     "iopub.status.busy": "2021-12-29T17:11:00.496995Z",
     "iopub.status.idle": "2021-12-29T17:11:03.929917Z",
     "shell.execute_reply": "2021-12-29T17:11:03.928370Z"
    },
    "jupyter": {
     "outputs_hidden": false
    },
    "papermill": {
     "duration": 3.510635,
     "end_time": "2021-12-29T17:11:03.930246",
     "exception": false,
     "start_time": "2021-12-29T17:11:00.419611",
     "status": "completed"
    },
    "tags": []
   },
   "outputs": [
    {
     "name": "stderr",
     "output_type": "stream",
     "text": [
      "── \u001b[1mAttaching packages\u001b[22m ─────────────────────────────────────── tidyverse 1.3.1 ──\n",
      "\n",
      "\u001b[32m✔\u001b[39m \u001b[34mggplot2\u001b[39m 3.3.4     \u001b[32m✔\u001b[39m \u001b[34mpurrr  \u001b[39m 0.3.4\n",
      "\u001b[32m✔\u001b[39m \u001b[34mtibble \u001b[39m 3.1.2     \u001b[32m✔\u001b[39m \u001b[34mdplyr  \u001b[39m 1.0.7\n",
      "\u001b[32m✔\u001b[39m \u001b[34mtidyr  \u001b[39m 1.1.3     \u001b[32m✔\u001b[39m \u001b[34mstringr\u001b[39m 1.4.0\n",
      "\u001b[32m✔\u001b[39m \u001b[34mreadr  \u001b[39m 1.4.0     \u001b[32m✔\u001b[39m \u001b[34mforcats\u001b[39m 0.5.1\n",
      "\n",
      "── \u001b[1mConflicts\u001b[22m ────────────────────────────────────────── tidyverse_conflicts() ──\n",
      "\u001b[31m✖\u001b[39m \u001b[34mdplyr\u001b[39m::\u001b[32mfilter()\u001b[39m masks \u001b[34mstats\u001b[39m::filter()\n",
      "\u001b[31m✖\u001b[39m \u001b[34mdplyr\u001b[39m::\u001b[32mlag()\u001b[39m    masks \u001b[34mstats\u001b[39m::lag()\n",
      "\n",
      "Package version: 3.0.0\n",
      "Unicode version: 13.0\n",
      "ICU version: 66.1\n",
      "\n",
      "Parallel computing: 4 of 4 threads used.\n",
      "\n",
      "See https://quanteda.io for tutorials and examples.\n",
      "\n"
     ]
    },
    {
     "data": {
      "text/html": [
       "'bda2021big5'"
      ],
      "text/latex": [
       "'bda2021big5'"
      ],
      "text/markdown": [
       "'bda2021big5'"
      ],
      "text/plain": [
       "[1] \"bda2021big5\""
      ]
     },
     "metadata": {},
     "output_type": "display_data"
    }
   ],
   "source": [
    "# This R environment comes with all of CRAN and many other helpful packages preinstalled.\n",
    "# You can see which packages are installed by checking out the kaggle/rstats docker image: \n",
    "# https://github.com/kaggle/docker-rstats\n",
    "\n",
    "library(tidyverse) # metapackage with lots of helpful functions\n",
    "library(tidytext)\n",
    "library(dplyr)\n",
    "library(stringr)\n",
    "library(quanteda)\n",
    "\n",
    "# Input data files are available in the read-only \"../input/\" directory\n",
    "# For example, running this cell (by clicking ▶️, run or pressing Shift+Enter) will list \n",
    "# all files under the \"../input/\" directory\n",
    "\n",
    "list.files(path = \"../input\")\n",
    "\n",
    "# You can write up to 5GB to the current directory (/kaggle/working/) that gets preserved \n",
    "# as output when you create a version using \"⟳ Save & Run All\". From the resulting output\n",
    "# section in the Viewer you can submit an output file as your entry to the competition.\n",
    "# You can also write temporary files to /kaggle/temp/, but they won't be saved outside of \n",
    "# the current session"
   ]
  },
  {
   "cell_type": "markdown",
   "id": "596f8497",
   "metadata": {
    "_cell_guid": "e96f7417-8cec-4390-aa25-b7fb7b0d137f",
    "_uuid": "dcb2b11f-1f84-42ed-bcea-e423337c4200",
    "papermill": {
     "duration": 0.070309,
     "end_time": "2021-12-29T17:11:04.071698",
     "exception": false,
     "start_time": "2021-12-29T17:11:04.001389",
     "status": "completed"
    },
    "tags": []
   },
   "source": [
    "There are three .csv files in the directory structure:"
   ]
  },
  {
   "cell_type": "code",
   "execution_count": 2,
   "id": "1a0f3b23",
   "metadata": {
    "_cell_guid": "60fffa58-51df-4b85-8405-7208ac965554",
    "_uuid": "5a7e0e4d-bd75-4313-ad70-0df228feef48",
    "collapsed": false,
    "execution": {
     "iopub.execute_input": "2021-12-29T17:11:04.249119Z",
     "iopub.status.busy": "2021-12-29T17:11:04.216978Z",
     "iopub.status.idle": "2021-12-29T17:11:04.274855Z",
     "shell.execute_reply": "2021-12-29T17:11:04.273461Z"
    },
    "jupyter": {
     "outputs_hidden": false
    },
    "papermill": {
     "duration": 0.132441,
     "end_time": "2021-12-29T17:11:04.275044",
     "exception": false,
     "start_time": "2021-12-29T17:11:04.142603",
     "status": "completed"
    },
    "tags": []
   },
   "outputs": [
    {
     "name": "stdout",
     "output_type": "stream",
     "text": [
      "[1] \"../input/bda2021big5/youtube-personality/README.txt\"                                                 \n",
      "[2] \"../input/bda2021big5/youtube-personality/transcripts\"                                                \n",
      "[3] \"../input/bda2021big5/youtube-personality/YouTube-Personality-audiovisual_features.csv\"               \n",
      "[4] \"../input/bda2021big5/youtube-personality/YouTube-Personality-gender.csv\"                             \n",
      "[5] \"../input/bda2021big5/youtube-personality/YouTube-Personality-Personality_impression_scores_train.csv\"\n"
     ]
    }
   ],
   "source": [
    "directory_content <- list.files(\"../input/bda2021big5/youtube-personality\", full.names = TRUE)\n",
    "print(directory_content)"
   ]
  },
  {
   "cell_type": "markdown",
   "id": "fe76e3c2",
   "metadata": {
    "_cell_guid": "f8049998-2ebe-4324-8f2d-48050b8d95bc",
    "_uuid": "f4f5800e-e781-4c2b-a2da-8d42ea353a2d",
    "papermill": {
     "duration": 0.073294,
     "end_time": "2021-12-29T17:11:04.420158",
     "exception": false,
     "start_time": "2021-12-29T17:11:04.346864",
     "status": "completed"
    },
    "tags": []
   },
   "source": [
    "In addition there's a \"transcript\" folder (see number \\[2\\] in the output above) in which the actual video transcripts are stored in `.txt` files. \n",
    "\n",
    "Store these file paths in variables for easy reference later on:"
   ]
  },
  {
   "cell_type": "code",
   "execution_count": 3,
   "id": "f51b646e",
   "metadata": {
    "_cell_guid": "94e0f55e-2f9a-4849-9bde-34feb94dc4f4",
    "_uuid": "a73254cd-f66d-4422-9d4c-2521f79b39fc",
    "collapsed": false,
    "execution": {
     "iopub.execute_input": "2021-12-29T17:11:04.569708Z",
     "iopub.status.busy": "2021-12-29T17:11:04.568098Z",
     "iopub.status.idle": "2021-12-29T17:11:04.588765Z",
     "shell.execute_reply": "2021-12-29T17:11:04.587270Z"
    },
    "jupyter": {
     "outputs_hidden": false
    },
    "papermill": {
     "duration": 0.09618,
     "end_time": "2021-12-29T17:11:04.588940",
     "exception": false,
     "start_time": "2021-12-29T17:11:04.492760",
     "status": "completed"
    },
    "tags": []
   },
   "outputs": [],
   "source": [
    "# Path to the transcripts directory with transcript .txt files\n",
    "path_to_transcripts <- directory_content[2] \n",
    "\n",
    "# .csv filenames (see output above)\n",
    "AudioVisual_file    <- directory_content[3]\n",
    "Gender_file         <- directory_content[4]\n",
    "Personality_file    <- directory_content[5]"
   ]
  },
  {
   "cell_type": "markdown",
   "id": "91c57e2f",
   "metadata": {
    "_cell_guid": "1e2591f6-6257-49b6-b8ca-5211d63b2c15",
    "_uuid": "5564aff0-1b9a-4ad0-8deb-c59822efb02f",
    "papermill": {
     "duration": 0.070639,
     "end_time": "2021-12-29T17:11:04.731974",
     "exception": false,
     "start_time": "2021-12-29T17:11:04.661335",
     "status": "completed"
    },
    "tags": []
   },
   "source": [
    "# 2. Data Import and Merging\n",
    "\n",
    "We'll import\n",
    "\n",
    "- Transcripts\n",
    "- Personality scores\n",
    "- Gender\n",
    "\n",
    "## 2.1 Importing transcripts\n",
    "\n",
    "The transcript text files are stored in the subfolder 'transcripts'. They can be listed with the following commands:"
   ]
  },
  {
   "cell_type": "code",
   "execution_count": 4,
   "id": "ba5a6d39",
   "metadata": {
    "_cell_guid": "83284cd6-8b82-4e44-b327-a7bb30035ea1",
    "_uuid": "9bb0363f-c1e8-4e78-95e8-240628cd1c56",
    "collapsed": false,
    "execution": {
     "iopub.execute_input": "2021-12-29T17:11:04.882691Z",
     "iopub.status.busy": "2021-12-29T17:11:04.880710Z",
     "iopub.status.idle": "2021-12-29T17:11:04.946092Z",
     "shell.execute_reply": "2021-12-29T17:11:04.944472Z"
    },
    "jupyter": {
     "outputs_hidden": false
    },
    "papermill": {
     "duration": 0.142116,
     "end_time": "2021-12-29T17:11:04.946285",
     "exception": false,
     "start_time": "2021-12-29T17:11:04.804169",
     "status": "completed"
    },
    "tags": []
   },
   "outputs": [
    {
     "name": "stdout",
     "output_type": "stream",
     "text": [
      "[1] \"../input/bda2021big5/youtube-personality/transcripts/VLOG1.txt\"  \n",
      "[2] \"../input/bda2021big5/youtube-personality/transcripts/VLOG10.txt\" \n",
      "[3] \"../input/bda2021big5/youtube-personality/transcripts/VLOG100.txt\"\n",
      "[4] \"../input/bda2021big5/youtube-personality/transcripts/VLOG102.txt\"\n",
      "[5] \"../input/bda2021big5/youtube-personality/transcripts/VLOG103.txt\"\n",
      "[6] \"../input/bda2021big5/youtube-personality/transcripts/VLOG104.txt\"\n"
     ]
    }
   ],
   "source": [
    "transcript_files <- list.files(path_to_transcripts, full.names = TRUE) \n",
    "\n",
    "print(head(transcript_files))"
   ]
  },
  {
   "cell_type": "markdown",
   "id": "c84d880c",
   "metadata": {
    "_cell_guid": "c87a60dd-6c43-4ed6-a35f-45d4efc47db6",
    "_uuid": "4e3cb8fd-83db-4698-a565-2115a202fe9b",
    "papermill": {
     "duration": 0.072447,
     "end_time": "2021-12-29T17:11:05.090588",
     "exception": false,
     "start_time": "2021-12-29T17:11:05.018141",
     "status": "completed"
    },
    "tags": []
   },
   "source": [
    "The transcript file names encode the vlogger ID that you will need for joining information from the different data frames. A clean way to extract the vlogger ID's from the names is by using the funcation `basename()` and removing the file extension \".txt\"."
   ]
  },
  {
   "cell_type": "code",
   "execution_count": 5,
   "id": "10d88591",
   "metadata": {
    "_cell_guid": "93382a21-dd15-4747-94b4-203131cbe705",
    "_uuid": "9a179032-bde8-462a-b223-89a45b1338d9",
    "collapsed": false,
    "execution": {
     "iopub.execute_input": "2021-12-29T17:11:05.239156Z",
     "iopub.status.busy": "2021-12-29T17:11:05.237499Z",
     "iopub.status.idle": "2021-12-29T17:11:05.272907Z",
     "shell.execute_reply": "2021-12-29T17:11:05.271232Z"
    },
    "jupyter": {
     "outputs_hidden": false
    },
    "papermill": {
     "duration": 0.111276,
     "end_time": "2021-12-29T17:11:05.273069",
     "exception": false,
     "start_time": "2021-12-29T17:11:05.161793",
     "status": "completed"
    },
    "tags": []
   },
   "outputs": [
    {
     "data": {
      "text/html": [
       "<style>\n",
       ".list-inline {list-style: none; margin:0; padding: 0}\n",
       ".list-inline>li {display: inline-block}\n",
       ".list-inline>li:not(:last-child)::after {content: \"\\00b7\"; padding: 0 .5ex}\n",
       "</style>\n",
       "<ol class=list-inline><li>'VLOG1'</li><li>'VLOG10'</li><li>'VLOG100'</li><li>'VLOG102'</li><li>'VLOG103'</li><li>'VLOG104'</li></ol>\n"
      ],
      "text/latex": [
       "\\begin{enumerate*}\n",
       "\\item 'VLOG1'\n",
       "\\item 'VLOG10'\n",
       "\\item 'VLOG100'\n",
       "\\item 'VLOG102'\n",
       "\\item 'VLOG103'\n",
       "\\item 'VLOG104'\n",
       "\\end{enumerate*}\n"
      ],
      "text/markdown": [
       "1. 'VLOG1'\n",
       "2. 'VLOG10'\n",
       "3. 'VLOG100'\n",
       "4. 'VLOG102'\n",
       "5. 'VLOG103'\n",
       "6. 'VLOG104'\n",
       "\n",
       "\n"
      ],
      "text/plain": [
       "[1] \"VLOG1\"   \"VLOG10\"  \"VLOG100\" \"VLOG102\" \"VLOG103\" \"VLOG104\""
      ]
     },
     "metadata": {},
     "output_type": "display_data"
    }
   ],
   "source": [
    "vlogId = basename(transcript_files)\n",
    "vlogId = str_replace(vlogId, pattern = \".txt$\", replacement = \"\")\n",
    "head(vlogId)"
   ]
  },
  {
   "cell_type": "markdown",
   "id": "b8b175b1",
   "metadata": {
    "_cell_guid": "e5bd1c34-e28f-4b02-a1a5-c49037d8e40d",
    "_uuid": "a48356cc-bb9c-4edd-9cca-0082f5dfcdaf",
    "papermill": {
     "duration": 0.07175,
     "end_time": "2021-12-29T17:11:05.416956",
     "exception": false,
     "start_time": "2021-12-29T17:11:05.345206",
     "status": "completed"
    },
    "tags": []
   },
   "source": [
    "To include features extracted from the transcript texts you will have to read the text from files and store them in a data frame. For this, you will need the full file paths as stored in `transcript_files`.\n",
    "\n",
    "Here are some tips to do that programmatically\n",
    "\n",
    "- use either a `for` loop, the `sapply()` function, or the `map_chr()` from the `tidyverse`\n",
    "- don't forget to also store `vlogId` extracted with the code above \n",
    "\n",
    "We will use the `map_chr()` function here:"
   ]
  },
  {
   "cell_type": "code",
   "execution_count": 6,
   "id": "d9e5a7d2",
   "metadata": {
    "_cell_guid": "1553130b-5066-4d9b-8219-9c1ca9b3ba1a",
    "_uuid": "bb66ae39-9ef8-46fb-8971-082dc333bdb8",
    "collapsed": false,
    "execution": {
     "iopub.execute_input": "2021-12-29T17:11:05.567700Z",
     "iopub.status.busy": "2021-12-29T17:11:05.566083Z",
     "iopub.status.idle": "2021-12-29T17:11:06.915547Z",
     "shell.execute_reply": "2021-12-29T17:11:06.914003Z"
    },
    "jupyter": {
     "outputs_hidden": false
    },
    "papermill": {
     "duration": 1.42667,
     "end_time": "2021-12-29T17:11:06.915824",
     "exception": false,
     "start_time": "2021-12-29T17:11:05.489154",
     "status": "completed"
    },
    "tags": []
   },
   "outputs": [
    {
     "name": "stderr",
     "output_type": "stream",
     "text": [
      "Warning message in readLines(.x):\n",
      "“incomplete final line found on '../input/bda2021big5/youtube-personality/transcripts/VLOG11.txt'”\n"
     ]
    }
   ],
   "source": [
    "transcripts_df = tibble(\n",
    "    \n",
    "    # vlogId connects each transcripts to a vlogger\n",
    "    vlogId=vlogId,\n",
    "    \n",
    "    # Read the transcript text from all file and store as a string\n",
    "    Text = map_chr(transcript_files, ~ paste(readLines(.x), collapse = \"\\\\n\")), \n",
    "    \n",
    "    # `filename` keeps track of the specific video transcript\n",
    "    filename = transcript_files\n",
    ")"
   ]
  },
  {
   "cell_type": "code",
   "execution_count": 7,
   "id": "aeaf7d4d",
   "metadata": {
    "_cell_guid": "6a33e296-2dbb-4aff-b538-a664c3b0c5ea",
    "_uuid": "71cac44a-ef63-4905-9301-3cac5bdb4853",
    "collapsed": false,
    "execution": {
     "iopub.execute_input": "2021-12-29T17:11:07.070081Z",
     "iopub.status.busy": "2021-12-29T17:11:07.067907Z",
     "iopub.status.idle": "2021-12-29T17:11:07.107953Z",
     "shell.execute_reply": "2021-12-29T17:11:07.105828Z"
    },
    "jupyter": {
     "outputs_hidden": false
    },
    "papermill": {
     "duration": 0.11767,
     "end_time": "2021-12-29T17:11:07.108185",
     "exception": false,
     "start_time": "2021-12-29T17:11:06.990515",
     "status": "completed"
    },
    "tags": []
   },
   "outputs": [
    {
     "data": {
      "text/html": [
       "<table class=\"dataframe\">\n",
       "<caption>A tibble: 2 × 3</caption>\n",
       "<thead>\n",
       "\t<tr><th scope=col>vlogId</th><th scope=col>Text</th><th scope=col>filename</th></tr>\n",
       "\t<tr><th scope=col>&lt;chr&gt;</th><th scope=col>&lt;chr&gt;</th><th scope=col>&lt;chr&gt;</th></tr>\n",
       "</thead>\n",
       "<tbody>\n",
       "\t<tr><td>VLOG1 </td><td>You know what I see - - no, more like hear a lot these days, is people calling other people gay as an insult. Now what makes people come up with calling others gay? Now here's an example. Hey, hey, you wanna trade Pokemon or Ziegfield cards? Or, or, or we can play, we can play superheroes. Oh, can I be Optimus Prime? Dude, you are so gay. Dude, the cool kids do crack. Oh, my mommy says, say no to drugs. Okay, how the hell does playing Pokemon cards or -- or --- or dancing or holding hands with another guy make me homosexual? I don't get these people. \\nThis is how it is in my school. Okay, here's an example. All right, um, when they see two guys are gay, they're together, they're like no, ew, no. No, no that -- that doesn't go together - - you know, two guys, no. two sticks, no. It just doesn't work like . But when they see two girls, they're like, get it on. And I don't get these people. I've never seen someone say like, oh, you're so homosexual or you're so lesbian or you're such a child molester. It is always the word gay, cause apparently gay is now an insult, even though the word means like happy and lively and that kinda giddy feeling you have inside, like -- -- but no you have to turn that happy word into a mean word. Apparently, we can do that now, turning good things into bad things. It's like how Spiderman felt good, but then that -- that -- that grease that gets all over him and then and then evil Dr. Octopus. That's so gay, you like Spiderman. Lar, I'm going to the movies with the guys to watch Mama Mia. \\nYou never know if other people are offended by what you say. I'm not saying you're a bad person if you do it. I used to do it all the time. I'm more focused on why we say it. In the end, we're all the same. You know, there's nothing wrong with it. I was just wondering where it all came from, you know. All right, thanks a lot for watching. Oh, yeah and the club channel is up and running. So, make sure to check that out because there's gonna be a lot of cool stuff on there. We'll do up to like four challenges at a time. We'll do contests, dares, questions. In the end, there's gonna be a lot of viewer interactions, so it's gonna be really fun. We may even put other people on the video too. So check it.                                                                                                                                                                                                                                                                                                                         </td><td>../input/bda2021big5/youtube-personality/transcripts/VLOG1.txt </td></tr>\n",
       "\t<tr><td>VLOG10</td><td>Hey everybody, it's Monday, July twenty seventh, two thousand and nine and that means it's time for another edition of XXXX. \\nGovernor Palin's back in the news this week as she transitions from Alaska governor to Alaskan citizen. Pending all power to Lieutenant Governor Parnell, she had a few choice words for the Media. \\nIt is, as throughout all Alaska, that big wild, good wife teaming along the road that is north to the future. That's what we get to see every day. Now what the rest of America gets to see along with us, is in this last frontier there is hope and opportunity and there is country pride. And it is our man and women in uniform securing it. And we are facing tough challenges in America with some seeming to just be hell bent maybe on tearing down our nation, perpetuating some pessimism and suggesting American apologetics. \\nWhat? \\nAnd we can resist enslavement to big central government that pressures hope and opportunity. Be wary of accepting government largesse. It doesn't come free and often accepting it takes away everything that is free. Melting into Washington's powerful, caretaking arms will just suck incentive to work hard and charge our own course right out of us. \\nUh, wait. Is that -- no way, what? She made a good point there at the end. But sometimes I have to wonder if I'm listening to Sarah Palin or Nicholas Fain . \\nIn other news over the weekend I heard the story of Troy Anthony Davis. Do you know who he is? You should. \\nMister Davis was sentenced to death for the murder of an off duty Savannah, Georgia police officer named Mark McPhail back in nineteen ninety one. Davis was convicted solely on the testimony of nine eye witnesses. Since that time three eye witnesses have recanted, admitting that they were coerced and two other eye witnesses admitted that they never even saw the murder take place. \\nDespite a wealth of information that has been presented to the court and some new evidence yet to be presented, Mister Davis remains on death row after eighteen years. For more information about Troy Anthony Davis and how you can help in his case, check out IAMTROY dot com. \\nThat's all I've got for this week for everybody. I hope you enjoyed the show because although I started recording on Monday, July twenty seventh, it's Tuesday, July twenty eighth and that time has come. Gotta get out of here for work, new work schedule, so until next time, keep checking out XXXX dot com for daily blog posts, updates and etcetera and meet me back here Monday for new video or XXXX. Thanks for watching. </td><td>../input/bda2021big5/youtube-personality/transcripts/VLOG10.txt</td></tr>\n",
       "</tbody>\n",
       "</table>\n"
      ],
      "text/latex": [
       "A tibble: 2 × 3\n",
       "\\begin{tabular}{lll}\n",
       " vlogId & Text & filename\\\\\n",
       " <chr> & <chr> & <chr>\\\\\n",
       "\\hline\n",
       "\t VLOG1  & You know what I see - - no, more like hear a lot these days, is people calling other people gay as an insult. Now what makes people come up with calling others gay? Now here's an example. Hey, hey, you wanna trade Pokemon or Ziegfield cards? Or, or, or we can play, we can play superheroes. Oh, can I be Optimus Prime? Dude, you are so gay. Dude, the cool kids do crack. Oh, my mommy says, say no to drugs. Okay, how the hell does playing Pokemon cards or -- or --- or dancing or holding hands with another guy make me homosexual? I don't get these people. \\textbackslash{}nThis is how it is in my school. Okay, here's an example. All right, um, when they see two guys are gay, they're together, they're like no, ew, no. No, no that -- that doesn't go together - - you know, two guys, no. two sticks, no. It just doesn't work like . But when they see two girls, they're like, get it on. And I don't get these people. I've never seen someone say like, oh, you're so homosexual or you're so lesbian or you're such a child molester. It is always the word gay, cause apparently gay is now an insult, even though the word means like happy and lively and that kinda giddy feeling you have inside, like -- -- but no you have to turn that happy word into a mean word. Apparently, we can do that now, turning good things into bad things. It's like how Spiderman felt good, but then that -- that -- that grease that gets all over him and then and then evil Dr. Octopus. That's so gay, you like Spiderman. Lar, I'm going to the movies with the guys to watch Mama Mia. \\textbackslash{}nYou never know if other people are offended by what you say. I'm not saying you're a bad person if you do it. I used to do it all the time. I'm more focused on why we say it. In the end, we're all the same. You know, there's nothing wrong with it. I was just wondering where it all came from, you know. All right, thanks a lot for watching. Oh, yeah and the club channel is up and running. So, make sure to check that out because there's gonna be a lot of cool stuff on there. We'll do up to like four challenges at a time. We'll do contests, dares, questions. In the end, there's gonna be a lot of viewer interactions, so it's gonna be really fun. We may even put other people on the video too. So check it.                                                                                                                                                                                                                                                                                                                          & ../input/bda2021big5/youtube-personality/transcripts/VLOG1.txt \\\\\n",
       "\t VLOG10 & Hey everybody, it's Monday, July twenty seventh, two thousand and nine and that means it's time for another edition of XXXX. \\textbackslash{}nGovernor Palin's back in the news this week as she transitions from Alaska governor to Alaskan citizen. Pending all power to Lieutenant Governor Parnell, she had a few choice words for the Media. \\textbackslash{}nIt is, as throughout all Alaska, that big wild, good wife teaming along the road that is north to the future. That's what we get to see every day. Now what the rest of America gets to see along with us, is in this last frontier there is hope and opportunity and there is country pride. And it is our man and women in uniform securing it. And we are facing tough challenges in America with some seeming to just be hell bent maybe on tearing down our nation, perpetuating some pessimism and suggesting American apologetics. \\textbackslash{}nWhat? \\textbackslash{}nAnd we can resist enslavement to big central government that pressures hope and opportunity. Be wary of accepting government largesse. It doesn't come free and often accepting it takes away everything that is free. Melting into Washington's powerful, caretaking arms will just suck incentive to work hard and charge our own course right out of us. \\textbackslash{}nUh, wait. Is that -- no way, what? She made a good point there at the end. But sometimes I have to wonder if I'm listening to Sarah Palin or Nicholas Fain . \\textbackslash{}nIn other news over the weekend I heard the story of Troy Anthony Davis. Do you know who he is? You should. \\textbackslash{}nMister Davis was sentenced to death for the murder of an off duty Savannah, Georgia police officer named Mark McPhail back in nineteen ninety one. Davis was convicted solely on the testimony of nine eye witnesses. Since that time three eye witnesses have recanted, admitting that they were coerced and two other eye witnesses admitted that they never even saw the murder take place. \\textbackslash{}nDespite a wealth of information that has been presented to the court and some new evidence yet to be presented, Mister Davis remains on death row after eighteen years. For more information about Troy Anthony Davis and how you can help in his case, check out IAMTROY dot com. \\textbackslash{}nThat's all I've got for this week for everybody. I hope you enjoyed the show because although I started recording on Monday, July twenty seventh, it's Tuesday, July twenty eighth and that time has come. Gotta get out of here for work, new work schedule, so until next time, keep checking out XXXX dot com for daily blog posts, updates and etcetera and meet me back here Monday for new video or XXXX. Thanks for watching.  & ../input/bda2021big5/youtube-personality/transcripts/VLOG10.txt\\\\\n",
       "\\end{tabular}\n"
      ],
      "text/markdown": [
       "\n",
       "A tibble: 2 × 3\n",
       "\n",
       "| vlogId &lt;chr&gt; | Text &lt;chr&gt; | filename &lt;chr&gt; |\n",
       "|---|---|---|\n",
       "| VLOG1  | You know what I see - - no, more like hear a lot these days, is people calling other people gay as an insult. Now what makes people come up with calling others gay? Now here's an example. Hey, hey, you wanna trade Pokemon or Ziegfield cards? Or, or, or we can play, we can play superheroes. Oh, can I be Optimus Prime? Dude, you are so gay. Dude, the cool kids do crack. Oh, my mommy says, say no to drugs. Okay, how the hell does playing Pokemon cards or -- or --- or dancing or holding hands with another guy make me homosexual? I don't get these people. \\nThis is how it is in my school. Okay, here's an example. All right, um, when they see two guys are gay, they're together, they're like no, ew, no. No, no that -- that doesn't go together - - you know, two guys, no. two sticks, no. It just doesn't work like . But when they see two girls, they're like, get it on. And I don't get these people. I've never seen someone say like, oh, you're so homosexual or you're so lesbian or you're such a child molester. It is always the word gay, cause apparently gay is now an insult, even though the word means like happy and lively and that kinda giddy feeling you have inside, like -- -- but no you have to turn that happy word into a mean word. Apparently, we can do that now, turning good things into bad things. It's like how Spiderman felt good, but then that -- that -- that grease that gets all over him and then and then evil Dr. Octopus. That's so gay, you like Spiderman. Lar, I'm going to the movies with the guys to watch Mama Mia. \\nYou never know if other people are offended by what you say. I'm not saying you're a bad person if you do it. I used to do it all the time. I'm more focused on why we say it. In the end, we're all the same. You know, there's nothing wrong with it. I was just wondering where it all came from, you know. All right, thanks a lot for watching. Oh, yeah and the club channel is up and running. So, make sure to check that out because there's gonna be a lot of cool stuff on there. We'll do up to like four challenges at a time. We'll do contests, dares, questions. In the end, there's gonna be a lot of viewer interactions, so it's gonna be really fun. We may even put other people on the video too. So check it.                                                                                                                                                                                                                                                                                                                          | ../input/bda2021big5/youtube-personality/transcripts/VLOG1.txt  |\n",
       "| VLOG10 | Hey everybody, it's Monday, July twenty seventh, two thousand and nine and that means it's time for another edition of XXXX. \\nGovernor Palin's back in the news this week as she transitions from Alaska governor to Alaskan citizen. Pending all power to Lieutenant Governor Parnell, she had a few choice words for the Media. \\nIt is, as throughout all Alaska, that big wild, good wife teaming along the road that is north to the future. That's what we get to see every day. Now what the rest of America gets to see along with us, is in this last frontier there is hope and opportunity and there is country pride. And it is our man and women in uniform securing it. And we are facing tough challenges in America with some seeming to just be hell bent maybe on tearing down our nation, perpetuating some pessimism and suggesting American apologetics. \\nWhat? \\nAnd we can resist enslavement to big central government that pressures hope and opportunity. Be wary of accepting government largesse. It doesn't come free and often accepting it takes away everything that is free. Melting into Washington's powerful, caretaking arms will just suck incentive to work hard and charge our own course right out of us. \\nUh, wait. Is that -- no way, what? She made a good point there at the end. But sometimes I have to wonder if I'm listening to Sarah Palin or Nicholas Fain . \\nIn other news over the weekend I heard the story of Troy Anthony Davis. Do you know who he is? You should. \\nMister Davis was sentenced to death for the murder of an off duty Savannah, Georgia police officer named Mark McPhail back in nineteen ninety one. Davis was convicted solely on the testimony of nine eye witnesses. Since that time three eye witnesses have recanted, admitting that they were coerced and two other eye witnesses admitted that they never even saw the murder take place. \\nDespite a wealth of information that has been presented to the court and some new evidence yet to be presented, Mister Davis remains on death row after eighteen years. For more information about Troy Anthony Davis and how you can help in his case, check out IAMTROY dot com. \\nThat's all I've got for this week for everybody. I hope you enjoyed the show because although I started recording on Monday, July twenty seventh, it's Tuesday, July twenty eighth and that time has come. Gotta get out of here for work, new work schedule, so until next time, keep checking out XXXX dot com for daily blog posts, updates and etcetera and meet me back here Monday for new video or XXXX. Thanks for watching.  | ../input/bda2021big5/youtube-personality/transcripts/VLOG10.txt |\n",
       "\n"
      ],
      "text/plain": [
       "  vlogId\n",
       "1 VLOG1 \n",
       "2 VLOG10\n",
       "  Text                                                                                                                                                                                                                                                                                                                                                                                                                                                                                                                                                                                                                                                                                                                                                                                                                                                                                                                                                                                                                                                                                                                                                                                                                                                                                                                                                                                                                                                                                                                                                                                                                                                                                                                                                                                                                                                                                                                                                                                                                                                                                                                                                                                                                                                                                                                                                                                                                                                                                                                                                                                                                                                                   \n",
       "1 You know what I see - - no, more like hear a lot these days, is people calling other people gay as an insult. Now what makes people come up with calling others gay? Now here's an example. Hey, hey, you wanna trade Pokemon or Ziegfield cards? Or, or, or we can play, we can play superheroes. Oh, can I be Optimus Prime? Dude, you are so gay. Dude, the cool kids do crack. Oh, my mommy says, say no to drugs. Okay, how the hell does playing Pokemon cards or -- or --- or dancing or holding hands with another guy make me homosexual? I don't get these people. \\\\nThis is how it is in my school. Okay, here's an example. All right, um, when they see two guys are gay, they're together, they're like no, ew, no. No, no that -- that doesn't go together - - you know, two guys, no. two sticks, no. It just doesn't work like . But when they see two girls, they're like, get it on. And I don't get these people. I've never seen someone say like, oh, you're so homosexual or you're so lesbian or you're such a child molester. It is always the word gay, cause apparently gay is now an insult, even though the word means like happy and lively and that kinda giddy feeling you have inside, like -- -- but no you have to turn that happy word into a mean word. Apparently, we can do that now, turning good things into bad things. It's like how Spiderman felt good, but then that -- that -- that grease that gets all over him and then and then evil Dr. Octopus. That's so gay, you like Spiderman. Lar, I'm going to the movies with the guys to watch Mama Mia. \\\\nYou never know if other people are offended by what you say. I'm not saying you're a bad person if you do it. I used to do it all the time. I'm more focused on why we say it. In the end, we're all the same. You know, there's nothing wrong with it. I was just wondering where it all came from, you know. All right, thanks a lot for watching. Oh, yeah and the club channel is up and running. So, make sure to check that out because there's gonna be a lot of cool stuff on there. We'll do up to like four challenges at a time. We'll do contests, dares, questions. In the end, there's gonna be a lot of viewer interactions, so it's gonna be really fun. We may even put other people on the video too. So check it.                                                                                                                                                                                                                                                                                                                         \n",
       "2 Hey everybody, it's Monday, July twenty seventh, two thousand and nine and that means it's time for another edition of XXXX. \\\\nGovernor Palin's back in the news this week as she transitions from Alaska governor to Alaskan citizen. Pending all power to Lieutenant Governor Parnell, she had a few choice words for the Media. \\\\nIt is, as throughout all Alaska, that big wild, good wife teaming along the road that is north to the future. That's what we get to see every day. Now what the rest of America gets to see along with us, is in this last frontier there is hope and opportunity and there is country pride. And it is our man and women in uniform securing it. And we are facing tough challenges in America with some seeming to just be hell bent maybe on tearing down our nation, perpetuating some pessimism and suggesting American apologetics. \\\\nWhat? \\\\nAnd we can resist enslavement to big central government that pressures hope and opportunity. Be wary of accepting government largesse. It doesn't come free and often accepting it takes away everything that is free. Melting into Washington's powerful, caretaking arms will just suck incentive to work hard and charge our own course right out of us. \\\\nUh, wait. Is that -- no way, what? She made a good point there at the end. But sometimes I have to wonder if I'm listening to Sarah Palin or Nicholas Fain . \\\\nIn other news over the weekend I heard the story of Troy Anthony Davis. Do you know who he is? You should. \\\\nMister Davis was sentenced to death for the murder of an off duty Savannah, Georgia police officer named Mark McPhail back in nineteen ninety one. Davis was convicted solely on the testimony of nine eye witnesses. Since that time three eye witnesses have recanted, admitting that they were coerced and two other eye witnesses admitted that they never even saw the murder take place. \\\\nDespite a wealth of information that has been presented to the court and some new evidence yet to be presented, Mister Davis remains on death row after eighteen years. For more information about Troy Anthony Davis and how you can help in his case, check out IAMTROY dot com. \\\\nThat's all I've got for this week for everybody. I hope you enjoyed the show because although I started recording on Monday, July twenty seventh, it's Tuesday, July twenty eighth and that time has come. Gotta get out of here for work, new work schedule, so until next time, keep checking out XXXX dot com for daily blog posts, updates and etcetera and meet me back here Monday for new video or XXXX. Thanks for watching. \n",
       "  filename                                                       \n",
       "1 ../input/bda2021big5/youtube-personality/transcripts/VLOG1.txt \n",
       "2 ../input/bda2021big5/youtube-personality/transcripts/VLOG10.txt"
      ]
     },
     "metadata": {},
     "output_type": "display_data"
    }
   ],
   "source": [
    "transcripts_df %>% \n",
    "    head(2)"
   ]
  },
  {
   "cell_type": "markdown",
   "id": "3d8f673b",
   "metadata": {
    "papermill": {
     "duration": 0.07326,
     "end_time": "2021-12-29T17:11:07.270044",
     "exception": false,
     "start_time": "2021-12-29T17:11:07.196784",
     "status": "completed"
    },
    "tags": []
   },
   "source": [
    "## 2.2 Importing AudioVisual features"
   ]
  },
  {
   "cell_type": "code",
   "execution_count": 8,
   "id": "3b2ddb5a",
   "metadata": {
    "execution": {
     "iopub.execute_input": "2021-12-29T17:11:07.424067Z",
     "iopub.status.busy": "2021-12-29T17:11:07.421895Z",
     "iopub.status.idle": "2021-12-29T17:11:07.629774Z",
     "shell.execute_reply": "2021-12-29T17:11:07.628108Z"
    },
    "papermill": {
     "duration": 0.28605,
     "end_time": "2021-12-29T17:11:07.629948",
     "exception": false,
     "start_time": "2021-12-29T17:11:07.343898",
     "status": "completed"
    },
    "tags": []
   },
   "outputs": [
    {
     "name": "stderr",
     "output_type": "stream",
     "text": [
      "\n",
      "\u001b[36m──\u001b[39m \u001b[1m\u001b[1mColumn specification\u001b[1m\u001b[22m \u001b[36m────────────────────────────────────────────────────────\u001b[39m\n",
      "cols(\n",
      "  .default = col_double(),\n",
      "  vlogId = \u001b[31mcol_character()\u001b[39m\n",
      ")\n",
      "\u001b[36mℹ\u001b[39m Use \u001b[30m\u001b[47m\u001b[30m\u001b[47m`spec()`\u001b[47m\u001b[30m\u001b[49m\u001b[39m for the full column specifications.\n",
      "\n",
      "\n"
     ]
    }
   ],
   "source": [
    "audiovisual_df <- read_delim(AudioVisual_file, delim = \" \")"
   ]
  },
  {
   "cell_type": "markdown",
   "id": "4d5855d1",
   "metadata": {
    "_cell_guid": "e6ae9665-5609-4491-a478-51e691e68549",
    "_uuid": "cbeff62e-1658-4d36-8343-e9a44a69b631",
    "papermill": {
     "duration": 0.084658,
     "end_time": "2021-12-29T17:11:07.791267",
     "exception": false,
     "start_time": "2021-12-29T17:11:07.706609",
     "status": "completed"
    },
    "tags": []
   },
   "source": [
    "## 2.3 Import personality scores\n",
    "\n",
    "The other data files can be read in with `read_delim` (not `read_csv` because the files are not actually comma separated). For instance, the following should work:"
   ]
  },
  {
   "cell_type": "code",
   "execution_count": 9,
   "id": "f3365beb",
   "metadata": {
    "_cell_guid": "3b23f306-d346-457a-86e5-e567b85fc8c0",
    "_uuid": "a4f9c3b5-7277-4b3f-838e-e51d3acd321e",
    "collapsed": false,
    "execution": {
     "iopub.execute_input": "2021-12-29T17:11:07.947332Z",
     "iopub.status.busy": "2021-12-29T17:11:07.945545Z",
     "iopub.status.idle": "2021-12-29T17:11:07.992067Z",
     "shell.execute_reply": "2021-12-29T17:11:07.990730Z"
    },
    "jupyter": {
     "outputs_hidden": false
    },
    "papermill": {
     "duration": 0.125336,
     "end_time": "2021-12-29T17:11:07.992224",
     "exception": false,
     "start_time": "2021-12-29T17:11:07.866888",
     "status": "completed"
    },
    "tags": []
   },
   "outputs": [
    {
     "name": "stderr",
     "output_type": "stream",
     "text": [
      "\n",
      "\u001b[36m──\u001b[39m \u001b[1m\u001b[1mColumn specification\u001b[1m\u001b[22m \u001b[36m────────────────────────────────────────────────────────\u001b[39m\n",
      "cols(\n",
      "  vlogId = \u001b[31mcol_character()\u001b[39m,\n",
      "  Extr = \u001b[32mcol_double()\u001b[39m,\n",
      "  Agr = \u001b[32mcol_double()\u001b[39m,\n",
      "  Cons = \u001b[32mcol_double()\u001b[39m,\n",
      "  Emot = \u001b[32mcol_double()\u001b[39m,\n",
      "  Open = \u001b[32mcol_double()\u001b[39m\n",
      ")\n",
      "\n",
      "\n"
     ]
    }
   ],
   "source": [
    "# Import the Personality scores\n",
    "pers_df = read_delim(Personality_file, delim = \" \")"
   ]
  },
  {
   "cell_type": "code",
   "execution_count": 10,
   "id": "d288851b",
   "metadata": {
    "_cell_guid": "610ba114-99e1-4b15-b451-1738110c3e93",
    "_uuid": "5d8dbb05-81b7-41eb-9ff5-b793c9da7a5f",
    "collapsed": false,
    "execution": {
     "iopub.execute_input": "2021-12-29T17:11:08.149664Z",
     "iopub.status.busy": "2021-12-29T17:11:08.148231Z",
     "iopub.status.idle": "2021-12-29T17:11:08.188526Z",
     "shell.execute_reply": "2021-12-29T17:11:08.187023Z"
    },
    "jupyter": {
     "outputs_hidden": false
    },
    "papermill": {
     "duration": 0.122173,
     "end_time": "2021-12-29T17:11:08.188690",
     "exception": false,
     "start_time": "2021-12-29T17:11:08.066517",
     "status": "completed"
    },
    "tags": []
   },
   "outputs": [
    {
     "data": {
      "text/html": [
       "<table class=\"dataframe\">\n",
       "<caption>A tibble: 6 × 6</caption>\n",
       "<thead>\n",
       "\t<tr><th scope=col>vlogId</th><th scope=col>Extr</th><th scope=col>Agr</th><th scope=col>Cons</th><th scope=col>Emot</th><th scope=col>Open</th></tr>\n",
       "\t<tr><th scope=col>&lt;chr&gt;</th><th scope=col>&lt;dbl&gt;</th><th scope=col>&lt;dbl&gt;</th><th scope=col>&lt;dbl&gt;</th><th scope=col>&lt;dbl&gt;</th><th scope=col>&lt;dbl&gt;</th></tr>\n",
       "</thead>\n",
       "<tbody>\n",
       "\t<tr><td>VLOG1</td><td>4.9</td><td>3.7</td><td>3.6</td><td>3.2</td><td>5.5</td></tr>\n",
       "\t<tr><td>VLOG3</td><td>5.0</td><td>5.0</td><td>4.6</td><td>5.3</td><td>4.4</td></tr>\n",
       "\t<tr><td>VLOG5</td><td>5.9</td><td>5.3</td><td>5.3</td><td>5.8</td><td>5.5</td></tr>\n",
       "\t<tr><td>VLOG6</td><td>5.4</td><td>4.8</td><td>4.4</td><td>4.8</td><td>5.7</td></tr>\n",
       "\t<tr><td>VLOG7</td><td>4.7</td><td>5.1</td><td>4.4</td><td>5.1</td><td>4.7</td></tr>\n",
       "\t<tr><td>VLOG9</td><td>5.6</td><td>5.0</td><td>4.0</td><td>4.2</td><td>4.9</td></tr>\n",
       "</tbody>\n",
       "</table>\n"
      ],
      "text/latex": [
       "A tibble: 6 × 6\n",
       "\\begin{tabular}{llllll}\n",
       " vlogId & Extr & Agr & Cons & Emot & Open\\\\\n",
       " <chr> & <dbl> & <dbl> & <dbl> & <dbl> & <dbl>\\\\\n",
       "\\hline\n",
       "\t VLOG1 & 4.9 & 3.7 & 3.6 & 3.2 & 5.5\\\\\n",
       "\t VLOG3 & 5.0 & 5.0 & 4.6 & 5.3 & 4.4\\\\\n",
       "\t VLOG5 & 5.9 & 5.3 & 5.3 & 5.8 & 5.5\\\\\n",
       "\t VLOG6 & 5.4 & 4.8 & 4.4 & 4.8 & 5.7\\\\\n",
       "\t VLOG7 & 4.7 & 5.1 & 4.4 & 5.1 & 4.7\\\\\n",
       "\t VLOG9 & 5.6 & 5.0 & 4.0 & 4.2 & 4.9\\\\\n",
       "\\end{tabular}\n"
      ],
      "text/markdown": [
       "\n",
       "A tibble: 6 × 6\n",
       "\n",
       "| vlogId &lt;chr&gt; | Extr &lt;dbl&gt; | Agr &lt;dbl&gt; | Cons &lt;dbl&gt; | Emot &lt;dbl&gt; | Open &lt;dbl&gt; |\n",
       "|---|---|---|---|---|---|\n",
       "| VLOG1 | 4.9 | 3.7 | 3.6 | 3.2 | 5.5 |\n",
       "| VLOG3 | 5.0 | 5.0 | 4.6 | 5.3 | 4.4 |\n",
       "| VLOG5 | 5.9 | 5.3 | 5.3 | 5.8 | 5.5 |\n",
       "| VLOG6 | 5.4 | 4.8 | 4.4 | 4.8 | 5.7 |\n",
       "| VLOG7 | 4.7 | 5.1 | 4.4 | 5.1 | 4.7 |\n",
       "| VLOG9 | 5.6 | 5.0 | 4.0 | 4.2 | 4.9 |\n",
       "\n"
      ],
      "text/plain": [
       "  vlogId Extr Agr Cons Emot Open\n",
       "1 VLOG1  4.9  3.7 3.6  3.2  5.5 \n",
       "2 VLOG3  5.0  5.0 4.6  5.3  4.4 \n",
       "3 VLOG5  5.9  5.3 5.3  5.8  5.5 \n",
       "4 VLOG6  5.4  4.8 4.4  4.8  5.7 \n",
       "5 VLOG7  4.7  5.1 4.4  5.1  4.7 \n",
       "6 VLOG9  5.6  5.0 4.0  4.2  4.9 "
      ]
     },
     "metadata": {},
     "output_type": "display_data"
    }
   ],
   "source": [
    "head(pers_df)"
   ]
  },
  {
   "cell_type": "markdown",
   "id": "e25656b7",
   "metadata": {
    "_cell_guid": "0f1b8dec-eccb-4fe8-964d-f6ee2a2bfa2e",
    "_uuid": "483309a5-f1d9-4c52-99f6-7981af701b15",
    "papermill": {
     "duration": 0.074711,
     "end_time": "2021-12-29T17:11:08.338155",
     "exception": false,
     "start_time": "2021-12-29T17:11:08.263444",
     "status": "completed"
    },
    "tags": []
   },
   "source": [
    "## 2.4 Import gender\n",
    "\n",
    "Gender info is stored in a separate `.csv` which is also delimited with a space. This file doesn't have column names, so we have to add them ourselves:"
   ]
  },
  {
   "cell_type": "code",
   "execution_count": 11,
   "id": "2b2d9540",
   "metadata": {
    "_cell_guid": "4addc5a4-5b6f-4fbe-a84f-7ee5733a8271",
    "_uuid": "42642c23-d42f-4265-afd8-e03477f0ec07",
    "collapsed": false,
    "execution": {
     "iopub.execute_input": "2021-12-29T17:11:08.494488Z",
     "iopub.status.busy": "2021-12-29T17:11:08.492396Z",
     "iopub.status.idle": "2021-12-29T17:11:08.529346Z",
     "shell.execute_reply": "2021-12-29T17:11:08.527587Z"
    },
    "jupyter": {
     "outputs_hidden": false
    },
    "papermill": {
     "duration": 0.116771,
     "end_time": "2021-12-29T17:11:08.529510",
     "exception": false,
     "start_time": "2021-12-29T17:11:08.412739",
     "status": "completed"
    },
    "tags": []
   },
   "outputs": [
    {
     "data": {
      "text/html": [
       "<table class=\"dataframe\">\n",
       "<caption>A data.frame: 6 × 2</caption>\n",
       "<thead>\n",
       "\t<tr><th></th><th scope=col>vlogId</th><th scope=col>gender</th></tr>\n",
       "\t<tr><th></th><th scope=col>&lt;chr&gt;</th><th scope=col>&lt;chr&gt;</th></tr>\n",
       "</thead>\n",
       "<tbody>\n",
       "\t<tr><th scope=row>1</th><td>VLOG3</td><td>Female</td></tr>\n",
       "\t<tr><th scope=row>2</th><td>VLOG5</td><td>Male  </td></tr>\n",
       "\t<tr><th scope=row>3</th><td>VLOG6</td><td>Male  </td></tr>\n",
       "\t<tr><th scope=row>4</th><td>VLOG7</td><td>Male  </td></tr>\n",
       "\t<tr><th scope=row>5</th><td>VLOG8</td><td>Female</td></tr>\n",
       "\t<tr><th scope=row>6</th><td>VLOG9</td><td>Female</td></tr>\n",
       "</tbody>\n",
       "</table>\n"
      ],
      "text/latex": [
       "A data.frame: 6 × 2\n",
       "\\begin{tabular}{r|ll}\n",
       "  & vlogId & gender\\\\\n",
       "  & <chr> & <chr>\\\\\n",
       "\\hline\n",
       "\t1 & VLOG3 & Female\\\\\n",
       "\t2 & VLOG5 & Male  \\\\\n",
       "\t3 & VLOG6 & Male  \\\\\n",
       "\t4 & VLOG7 & Male  \\\\\n",
       "\t5 & VLOG8 & Female\\\\\n",
       "\t6 & VLOG9 & Female\\\\\n",
       "\\end{tabular}\n"
      ],
      "text/markdown": [
       "\n",
       "A data.frame: 6 × 2\n",
       "\n",
       "| <!--/--> | vlogId &lt;chr&gt; | gender &lt;chr&gt; |\n",
       "|---|---|---|\n",
       "| 1 | VLOG3 | Female |\n",
       "| 2 | VLOG5 | Male   |\n",
       "| 3 | VLOG6 | Male   |\n",
       "| 4 | VLOG7 | Male   |\n",
       "| 5 | VLOG8 | Female |\n",
       "| 6 | VLOG9 | Female |\n",
       "\n"
      ],
      "text/plain": [
       "  vlogId gender\n",
       "1 VLOG3  Female\n",
       "2 VLOG5  Male  \n",
       "3 VLOG6  Male  \n",
       "4 VLOG7  Male  \n",
       "5 VLOG8  Female\n",
       "6 VLOG9  Female"
      ]
     },
     "metadata": {},
     "output_type": "display_data"
    }
   ],
   "source": [
    "gender_df <- read.delim(Gender_file, head = FALSE, sep = \" \", skip = 2)\n",
    "\n",
    "# Add column names\n",
    "names(gender_df) = c('vlogId', 'gender')\n",
    "\n",
    "\n",
    "head(gender_df)"
   ]
  },
  {
   "cell_type": "markdown",
   "id": "53dfe8a7",
   "metadata": {
    "_cell_guid": "252e73f9-ed0f-4161-a6e8-f287e6dfaddc",
    "_uuid": "4093194b-da93-4b07-996f-82c1fe810418",
    "papermill": {
     "duration": 0.07735,
     "end_time": "2021-12-29T17:11:08.683200",
     "exception": false,
     "start_time": "2021-12-29T17:11:08.605850",
     "status": "completed"
    },
    "tags": []
   },
   "source": [
    "### 2.4.1 Merging the `gender` and `pers` dataframes\n",
    "\n",
    "Obviously, we want all the information in a single tidy data frame. While the builtin R function `merge()` can do that, the `tidyverse()` has a number of more versatile and consistent functions called `left_join`, `right_join`, `inner_join`, `outer_join`, and `anti_join`. We'll use `left_join` here to merge the gender and personality data frames:"
   ]
  },
  {
   "cell_type": "code",
   "execution_count": 12,
   "id": "fa118d8d",
   "metadata": {
    "_cell_guid": "15d7bd85-f197-4803-8daa-6193f7929978",
    "_uuid": "58eb0582-3c68-458e-a807-187ef63fd52a",
    "collapsed": false,
    "execution": {
     "iopub.execute_input": "2021-12-29T17:11:08.842682Z",
     "iopub.status.busy": "2021-12-29T17:11:08.841187Z",
     "iopub.status.idle": "2021-12-29T17:11:08.887479Z",
     "shell.execute_reply": "2021-12-29T17:11:08.885884Z"
    },
    "jupyter": {
     "outputs_hidden": false
    },
    "papermill": {
     "duration": 0.127812,
     "end_time": "2021-12-29T17:11:08.887641",
     "exception": false,
     "start_time": "2021-12-29T17:11:08.759829",
     "status": "completed"
    },
    "tags": []
   },
   "outputs": [
    {
     "name": "stderr",
     "output_type": "stream",
     "text": [
      "Joining, by = \"vlogId\"\n",
      "\n"
     ]
    },
    {
     "data": {
      "text/html": [
       "<table class=\"dataframe\">\n",
       "<caption>A data.frame: 6 × 7</caption>\n",
       "<thead>\n",
       "\t<tr><th></th><th scope=col>vlogId</th><th scope=col>gender</th><th scope=col>Extr</th><th scope=col>Agr</th><th scope=col>Cons</th><th scope=col>Emot</th><th scope=col>Open</th></tr>\n",
       "\t<tr><th></th><th scope=col>&lt;chr&gt;</th><th scope=col>&lt;chr&gt;</th><th scope=col>&lt;dbl&gt;</th><th scope=col>&lt;dbl&gt;</th><th scope=col>&lt;dbl&gt;</th><th scope=col>&lt;dbl&gt;</th><th scope=col>&lt;dbl&gt;</th></tr>\n",
       "</thead>\n",
       "<tbody>\n",
       "\t<tr><th scope=row>1</th><td>VLOG3</td><td>Female</td><td>5.0</td><td>5.0</td><td>4.6</td><td>5.3</td><td>4.4</td></tr>\n",
       "\t<tr><th scope=row>2</th><td>VLOG5</td><td>Male  </td><td>5.9</td><td>5.3</td><td>5.3</td><td>5.8</td><td>5.5</td></tr>\n",
       "\t<tr><th scope=row>3</th><td>VLOG6</td><td>Male  </td><td>5.4</td><td>4.8</td><td>4.4</td><td>4.8</td><td>5.7</td></tr>\n",
       "\t<tr><th scope=row>4</th><td>VLOG7</td><td>Male  </td><td>4.7</td><td>5.1</td><td>4.4</td><td>5.1</td><td>4.7</td></tr>\n",
       "\t<tr><th scope=row>5</th><td>VLOG8</td><td>Female</td><td> NA</td><td> NA</td><td> NA</td><td> NA</td><td> NA</td></tr>\n",
       "\t<tr><th scope=row>6</th><td>VLOG9</td><td>Female</td><td>5.6</td><td>5.0</td><td>4.0</td><td>4.2</td><td>4.9</td></tr>\n",
       "</tbody>\n",
       "</table>\n"
      ],
      "text/latex": [
       "A data.frame: 6 × 7\n",
       "\\begin{tabular}{r|lllllll}\n",
       "  & vlogId & gender & Extr & Agr & Cons & Emot & Open\\\\\n",
       "  & <chr> & <chr> & <dbl> & <dbl> & <dbl> & <dbl> & <dbl>\\\\\n",
       "\\hline\n",
       "\t1 & VLOG3 & Female & 5.0 & 5.0 & 4.6 & 5.3 & 4.4\\\\\n",
       "\t2 & VLOG5 & Male   & 5.9 & 5.3 & 5.3 & 5.8 & 5.5\\\\\n",
       "\t3 & VLOG6 & Male   & 5.4 & 4.8 & 4.4 & 4.8 & 5.7\\\\\n",
       "\t4 & VLOG7 & Male   & 4.7 & 5.1 & 4.4 & 5.1 & 4.7\\\\\n",
       "\t5 & VLOG8 & Female &  NA &  NA &  NA &  NA &  NA\\\\\n",
       "\t6 & VLOG9 & Female & 5.6 & 5.0 & 4.0 & 4.2 & 4.9\\\\\n",
       "\\end{tabular}\n"
      ],
      "text/markdown": [
       "\n",
       "A data.frame: 6 × 7\n",
       "\n",
       "| <!--/--> | vlogId &lt;chr&gt; | gender &lt;chr&gt; | Extr &lt;dbl&gt; | Agr &lt;dbl&gt; | Cons &lt;dbl&gt; | Emot &lt;dbl&gt; | Open &lt;dbl&gt; |\n",
       "|---|---|---|---|---|---|---|---|\n",
       "| 1 | VLOG3 | Female | 5.0 | 5.0 | 4.6 | 5.3 | 4.4 |\n",
       "| 2 | VLOG5 | Male   | 5.9 | 5.3 | 5.3 | 5.8 | 5.5 |\n",
       "| 3 | VLOG6 | Male   | 5.4 | 4.8 | 4.4 | 4.8 | 5.7 |\n",
       "| 4 | VLOG7 | Male   | 4.7 | 5.1 | 4.4 | 5.1 | 4.7 |\n",
       "| 5 | VLOG8 | Female |  NA |  NA |  NA |  NA |  NA |\n",
       "| 6 | VLOG9 | Female | 5.6 | 5.0 | 4.0 | 4.2 | 4.9 |\n",
       "\n"
      ],
      "text/plain": [
       "  vlogId gender Extr Agr Cons Emot Open\n",
       "1 VLOG3  Female 5.0  5.0 4.6  5.3  4.4 \n",
       "2 VLOG5  Male   5.9  5.3 5.3  5.8  5.5 \n",
       "3 VLOG6  Male   5.4  4.8 4.4  4.8  5.7 \n",
       "4 VLOG7  Male   4.7  5.1 4.4  5.1  4.7 \n",
       "5 VLOG8  Female  NA   NA  NA   NA   NA \n",
       "6 VLOG9  Female 5.6  5.0 4.0  4.2  4.9 "
      ]
     },
     "metadata": {},
     "output_type": "display_data"
    }
   ],
   "source": [
    "vlogger_df = left_join(gender_df, pers_df)\n",
    "head(vlogger_df) # VLOG8 has missing personality scores: those should be predicted"
   ]
  },
  {
   "cell_type": "markdown",
   "id": "7b2517f1",
   "metadata": {
    "_cell_guid": "5ef44461-656c-4d24-8e4f-c137159fbc16",
    "_uuid": "d99b97d2-a621-4347-bde2-39e316bdf494",
    "papermill": {
     "duration": 0.077666,
     "end_time": "2021-12-29T17:11:09.042687",
     "exception": false,
     "start_time": "2021-12-29T17:11:08.965021",
     "status": "completed"
    },
    "tags": []
   },
   "source": [
    "Note that some rows, like row 5, has `NA`'s for the personality scores. This is because this row corresponds to the vlogger with vlogId `VLOG8` is part of the test set. You still have to split `vlogger_df` into the training and test set, as shown below.\n",
    "\n",
    "We leave the `transcripts_df` data frame seperate for now, because you will first have to extract features from the transcripts first. Once you have those features in a tidy data frame, including a `vlogId` column, you can refer to this `left_join` example to merge your features with `vlogger_df` in one single tidy data frame."
   ]
  },
  {
   "cell_type": "markdown",
   "id": "0af5d3aa",
   "metadata": {
    "_cell_guid": "b3b16406-5f3b-45c5-b1a9-9d2f98d66210",
    "_uuid": "cda7cf6b-3680-4451-b1c5-6e276d2d5430",
    "papermill": {
     "duration": 0.094055,
     "end_time": "2021-12-29T17:11:09.224144",
     "exception": false,
     "start_time": "2021-12-29T17:11:09.130089",
     "status": "completed"
    },
    "tags": []
   },
   "source": [
    "# 3. Tokenization of transcripts"
   ]
  },
  {
   "cell_type": "code",
   "execution_count": 13,
   "id": "59ab1e0c",
   "metadata": {
    "execution": {
     "iopub.execute_input": "2021-12-29T17:11:09.385397Z",
     "iopub.status.busy": "2021-12-29T17:11:09.383564Z",
     "iopub.status.idle": "2021-12-29T17:11:09.775629Z",
     "shell.execute_reply": "2021-12-29T17:11:09.773898Z"
    },
    "papermill": {
     "duration": 0.473842,
     "end_time": "2021-12-29T17:11:09.775825",
     "exception": false,
     "start_time": "2021-12-29T17:11:09.301983",
     "status": "completed"
    },
    "tags": []
   },
   "outputs": [],
   "source": [
    "# Sentences\n",
    "tokenized_sentences <- transcripts_df %>%\n",
    "    unnest_tokens(sentence, Text, token = \"sentences\")\n",
    "\n",
    "# Words with Stop Words\n",
    "tokenized_words <- transcripts_df %>%\n",
    "    unnest_tokens(token, Text, token = \"words\")\n",
    "\n",
    "# Words without Stop Words\n",
    "stopwords <- get_stopwords()\n",
    "\n",
    "tokenized_no_stop_words <- transcripts_df %>%\n",
    "    unnest_tokens(token, Text, token = \"words\") %>%\n",
    "    anti_join(stopwords, by = c(token = \"word\"))"
   ]
  },
  {
   "cell_type": "markdown",
   "id": "e9ad6902",
   "metadata": {
    "papermill": {
     "duration": 0.078667,
     "end_time": "2021-12-29T17:11:09.931932",
     "exception": false,
     "start_time": "2021-12-29T17:11:09.853265",
     "status": "completed"
    },
    "tags": []
   },
   "source": [
    "# 4. Feature extraction from transcript texts"
   ]
  },
  {
   "cell_type": "markdown",
   "id": "9bb2bd4b",
   "metadata": {
    "papermill": {
     "duration": 0.077438,
     "end_time": "2021-12-29T17:11:10.087208",
     "exception": false,
     "start_time": "2021-12-29T17:11:10.009770",
     "status": "completed"
    },
    "tags": []
   },
   "source": [
    "## 4.1 Our features"
   ]
  },
  {
   "cell_type": "markdown",
   "id": "10f495a8",
   "metadata": {
    "papermill": {
     "duration": 0.078135,
     "end_time": "2021-12-29T17:11:10.243142",
     "exception": false,
     "start_time": "2021-12-29T17:11:10.165007",
     "status": "completed"
    },
    "tags": []
   },
   "source": [
    "In this section we extract our features. For the first round we extracted 9 features: the number of times \"um\" \"uhm\" or \"uh\" is used, NRC, BING, intonation,the number of syllables, the number of questions, the number of swear words, the number of pauses, and the number of self-eference words. After the first round we decided to add five more features from other groups: the average number of characters in a sentence, AFINN, wMEI, the relative frequency of the words \"I\" and \"we\" and the frequency of negation."
   ]
  },
  {
   "cell_type": "markdown",
   "id": "24a1d57a",
   "metadata": {
    "papermill": {
     "duration": 0.078022,
     "end_time": "2021-12-29T17:11:10.398619",
     "exception": false,
     "start_time": "2021-12-29T17:11:10.320597",
     "status": "completed"
    },
    "tags": []
   },
   "source": [
    "### Feature 1\n",
    "  #### Number of times the word \"um\" is used"
   ]
  },
  {
   "cell_type": "markdown",
   "id": "036ba27f",
   "metadata": {
    "papermill": {
     "duration": 0.077042,
     "end_time": "2021-12-29T17:11:10.587897",
     "exception": false,
     "start_time": "2021-12-29T17:11:10.510855",
     "status": "completed"
    },
    "tags": []
   },
   "source": [
    "Our first feature is the number of times the words \"um\", \"uhm\", and \"uh\" are used. These are so called filler words to avoid silences. Even though a direct relationship between the use of filler words could not be shown in earlier research (Laserna et al., 2014), they could still indicate difficulty finding words to say which might be related to for example introversion."
   ]
  },
  {
   "cell_type": "code",
   "execution_count": 14,
   "id": "d73c8092",
   "metadata": {
    "execution": {
     "iopub.execute_input": "2021-12-29T17:11:10.749325Z",
     "iopub.status.busy": "2021-12-29T17:11:10.747775Z",
     "iopub.status.idle": "2021-12-29T17:11:11.117962Z",
     "shell.execute_reply": "2021-12-29T17:11:11.116810Z"
    },
    "papermill": {
     "duration": 0.452308,
     "end_time": "2021-12-29T17:11:11.118124",
     "exception": false,
     "start_time": "2021-12-29T17:11:10.665816",
     "status": "completed"
    },
    "tags": []
   },
   "outputs": [
    {
     "name": "stderr",
     "output_type": "stream",
     "text": [
      "Joining, by = \"vlogId\"\n",
      "\n"
     ]
    }
   ],
   "source": [
    "nr_of_um <- tokenized_words %>%\n",
    "    group_by(vlogId) %>%\n",
    "    filter(token == \"um\" | token == \"uhm\" | token == \"uh\") %>%\n",
    "    count()\n",
    "\n",
    "# add vloggers with 0 counts\n",
    "um_feature <- left_join(tibble(vlogId), nr_of_um, copy = TRUE) %>% \n",
    "    replace(is.na(.),0) %>%\n",
    "    rename(um_count = n)"
   ]
  },
  {
   "cell_type": "markdown",
   "id": "ba8df596",
   "metadata": {
    "papermill": {
     "duration": 0.077905,
     "end_time": "2021-12-29T17:11:11.274010",
     "exception": false,
     "start_time": "2021-12-29T17:11:11.196105",
     "status": "completed"
    },
    "tags": []
   },
   "source": [
    "### Feature 2\n",
    "  #### NRC"
   ]
  },
  {
   "cell_type": "markdown",
   "id": "e4a4a03c",
   "metadata": {
    "papermill": {
     "duration": 0.076886,
     "end_time": "2021-12-29T17:11:11.429565",
     "exception": false,
     "start_time": "2021-12-29T17:11:11.352679",
     "status": "completed"
    },
    "tags": []
   },
   "source": [
    "Our second feature is the NRC. The NRC is a large database that enables us to associate words with 8 common emotions, which are either negative or positive. How much each emotion occurs in a text might tell us something about the personality of the speaker. In earlier research sentiment analysis using NRC was shown to be an effective personality predictor (Christian et al. 2021)."
   ]
  },
  {
   "cell_type": "code",
   "execution_count": 15,
   "id": "13bcf858",
   "metadata": {
    "_cell_guid": "f80d89e3-c233-4a5d-ba0c-7f1ca9fb1b04",
    "_uuid": "1540d512-f479-4475-aaa9-45c3acae5178",
    "collapsed": false,
    "execution": {
     "iopub.execute_input": "2021-12-29T17:11:11.589498Z",
     "iopub.status.busy": "2021-12-29T17:11:11.587998Z",
     "iopub.status.idle": "2021-12-29T17:11:14.953514Z",
     "shell.execute_reply": "2021-12-29T17:11:14.951752Z"
    },
    "jupyter": {
     "outputs_hidden": false
    },
    "papermill": {
     "duration": 3.447369,
     "end_time": "2021-12-29T17:11:14.953845",
     "exception": false,
     "start_time": "2021-12-29T17:11:11.506476",
     "status": "completed"
    },
    "tags": []
   },
   "outputs": [],
   "source": [
    "# Extracting NRC\n",
    "load_nrc <- function() {\n",
    "    if (!file.exists('nrc.txt'))\n",
    "        download.file(\"https://www.dropbox.com/s/yo5o476zk8j5ujg/NRC-Emotion-Lexicon-Wordlevel-v0.92.txt?dl=1\",\"nrc.txt\")\n",
    "    nrc <- read.table(\"nrc.txt\", col.names = c('word','sentiment','applies'), stringsAsFactors = FALSE)\n",
    "    nrc %>% filter(applies == 1) %>% \n",
    "        select(-applies)\n",
    "}\n",
    "\n",
    "nrc <- load_nrc()\n",
    "\n",
    "nrc_feature <- tokenized_no_stop_words %>%\n",
    "    inner_join(nrc, by = c(token = \"word\")) %>%\n",
    "    count(vlogId, sort = TRUE, sentiment) %>%\n",
    "    group_by(vlogId) %>%\n",
    "    spread(sentiment, n, fill = 0) %>%\n",
    "    rename(positive_nrc = positive, negative_nrc = negative)"
   ]
  },
  {
   "cell_type": "markdown",
   "id": "e5bcbd0a",
   "metadata": {
    "papermill": {
     "duration": 0.07748,
     "end_time": "2021-12-29T17:11:15.109125",
     "exception": false,
     "start_time": "2021-12-29T17:11:15.031645",
     "status": "completed"
    },
    "tags": []
   },
   "source": [
    "### Feature 3\n",
    "#### Bing"
   ]
  },
  {
   "cell_type": "markdown",
   "id": "f0a92321",
   "metadata": {
    "papermill": {
     "duration": 0.076447,
     "end_time": "2021-12-29T17:11:15.262155",
     "exception": false,
     "start_time": "2021-12-29T17:11:15.185708",
     "status": "completed"
    },
    "tags": []
   },
   "source": [
    "Our third feature is Bing. Bing doesn't allow us to assign emotions to a word but it does let us classify words as positive or negative. The number of words in a text that are positive or negative might also tell us something about de personality of the speaker. Also since the distribution of postive and negative words is different in Bing than in NRC it seems sensible to use both."
   ]
  },
  {
   "cell_type": "code",
   "execution_count": 16,
   "id": "c45328af",
   "metadata": {
    "execution": {
     "iopub.execute_input": "2021-12-29T17:11:15.422362Z",
     "iopub.status.busy": "2021-12-29T17:11:15.420244Z",
     "iopub.status.idle": "2021-12-29T17:11:15.507886Z",
     "shell.execute_reply": "2021-12-29T17:11:15.506567Z"
    },
    "papermill": {
     "duration": 0.169142,
     "end_time": "2021-12-29T17:11:15.508056",
     "exception": false,
     "start_time": "2021-12-29T17:11:15.338914",
     "status": "completed"
    },
    "tags": []
   },
   "outputs": [],
   "source": [
    "# Extracting Bing \n",
    "bing <- get_sentiments(\"bing\")\n",
    "bing_feature <- tokenized_no_stop_words %>%\n",
    "    inner_join(bing, by = c(token = \"word\")) %>%\n",
    "    count(vlogId, sort = TRUE, sentiment) %>%\n",
    "    group_by(vlogId) %>%\n",
    "    spread(sentiment, n, fill = 0) %>%\n",
    "    rename(positive_bing = positive, negative_bing = negative)\n"
   ]
  },
  {
   "cell_type": "markdown",
   "id": "f45071b6",
   "metadata": {
    "papermill": {
     "duration": 0.078404,
     "end_time": "2021-12-29T17:11:15.663281",
     "exception": false,
     "start_time": "2021-12-29T17:11:15.584877",
     "status": "completed"
    },
    "tags": []
   },
   "source": [
    "### Feature 4 \n",
    "#### Intonation combined of 3 features \n",
    "##### (pitch, energy, and average voiced segments or the syllable length)\n",
    "\n"
   ]
  },
  {
   "cell_type": "markdown",
   "id": "3c7ede7b",
   "metadata": {
    "papermill": {
     "duration": 0.078843,
     "end_time": "2021-12-29T17:11:15.822762",
     "exception": false,
     "start_time": "2021-12-29T17:11:15.743919",
     "status": "completed"
    },
    "tags": []
   },
   "source": [
    "Our fourth feature is intonation. Earlier research showed that intonation can be a very effective predictor for personality, when accessed by humans (Mohammadi et al., 2012). This indicates that data about intonation might also be effective in predicting personality. We divided intonation into three variables: pitch, energy and average voiced segments or the syllable length which is based on a study that Aydin et al. (2016) conducted. "
   ]
  },
  {
   "cell_type": "code",
   "execution_count": 17,
   "id": "1ba34fdd",
   "metadata": {
    "execution": {
     "iopub.execute_input": "2021-12-29T17:11:15.984777Z",
     "iopub.status.busy": "2021-12-29T17:11:15.983039Z",
     "iopub.status.idle": "2021-12-29T17:11:16.006118Z",
     "shell.execute_reply": "2021-12-29T17:11:16.004603Z"
    },
    "papermill": {
     "duration": 0.107031,
     "end_time": "2021-12-29T17:11:16.006270",
     "exception": false,
     "start_time": "2021-12-29T17:11:15.899239",
     "status": "completed"
    },
    "tags": []
   },
   "outputs": [],
   "source": [
    "intonation_feature <- audiovisual_df %>%\n",
    "    select(vlogId, mean.pitch, mean.energy, avg.voiced.seg) %>%\n",
    "    group_by(vlogId)"
   ]
  },
  {
   "cell_type": "markdown",
   "id": "f136b934",
   "metadata": {
    "papermill": {
     "duration": 0.077092,
     "end_time": "2021-12-29T17:11:16.160586",
     "exception": false,
     "start_time": "2021-12-29T17:11:16.083494",
     "status": "completed"
    },
    "tags": []
   },
   "source": [
    "### Feature 5 \n",
    "#### Speeach Feature\n",
    "##### Speaking time, speaking turns, and voicing rate"
   ]
  },
  {
   "cell_type": "markdown",
   "id": "eda3e09f",
   "metadata": {
    "papermill": {
     "duration": 0.076637,
     "end_time": "2021-12-29T17:11:16.314220",
     "exception": false,
     "start_time": "2021-12-29T17:11:16.237583",
     "status": "completed"
    },
    "tags": []
   },
   "source": [
    "Our fifth feature is the number of syllables that each vlogger uses. Earlier research has shown that this is an effective predictor for mainly agreeableness (Metha et al., 2020). Even though this study was on written text, this finding might also hold for speech. "
   ]
  },
  {
   "cell_type": "code",
   "execution_count": 18,
   "id": "fe6e39d0",
   "metadata": {
    "execution": {
     "iopub.execute_input": "2021-12-29T17:11:16.474689Z",
     "iopub.status.busy": "2021-12-29T17:11:16.472475Z",
     "iopub.status.idle": "2021-12-29T17:11:16.496988Z",
     "shell.execute_reply": "2021-12-29T17:11:16.495100Z"
    },
    "papermill": {
     "duration": 0.106089,
     "end_time": "2021-12-29T17:11:16.497162",
     "exception": false,
     "start_time": "2021-12-29T17:11:16.391073",
     "status": "completed"
    },
    "tags": []
   },
   "outputs": [],
   "source": [
    "speech_feature <- audiovisual_df %>%\n",
    "    select(vlogId, time.speaking, num.turns, voice.rate, avg.len.seg) %>%\n",
    "    group_by(vlogId)"
   ]
  },
  {
   "cell_type": "markdown",
   "id": "9566fd3e",
   "metadata": {
    "papermill": {
     "duration": 0.077795,
     "end_time": "2021-12-29T17:11:16.652093",
     "exception": false,
     "start_time": "2021-12-29T17:11:16.574298",
     "status": "completed"
    },
    "tags": []
   },
   "source": [
    "### Feature 6 \n",
    "#### Counting the Syllables per VlogId"
   ]
  },
  {
   "cell_type": "markdown",
   "id": "c92ebcc3",
   "metadata": {
    "papermill": {
     "duration": 0.078637,
     "end_time": "2021-12-29T17:11:16.809663",
     "exception": false,
     "start_time": "2021-12-29T17:11:16.731026",
     "status": "completed"
    },
    "tags": []
   },
   "source": [
    "Our sixth feature is the number of syllables that each vlogger uses. Earlier research has shown that this is an effective predictor for mainly agreeableness (Metha et al., 2020). Even though this study was on written text, this finding might also hold for speech. "
   ]
  },
  {
   "cell_type": "code",
   "execution_count": 19,
   "id": "be639a2a",
   "metadata": {
    "execution": {
     "iopub.execute_input": "2021-12-29T17:11:16.972328Z",
     "iopub.status.busy": "2021-12-29T17:11:16.969495Z",
     "iopub.status.idle": "2021-12-29T17:12:57.981607Z",
     "shell.execute_reply": "2021-12-29T17:12:57.980211Z"
    },
    "papermill": {
     "duration": 101.09551,
     "end_time": "2021-12-29T17:12:57.981931",
     "exception": false,
     "start_time": "2021-12-29T17:11:16.886421",
     "status": "completed"
    },
    "tags": []
   },
   "outputs": [
    {
     "data": {
      "text/html": [
       "<style>\n",
       ".dl-inline {width: auto; margin:0; padding: 0}\n",
       ".dl-inline>dt, .dl-inline>dd {float: none; width: auto; display: inline-block}\n",
       ".dl-inline>dt::after {content: \":\\0020\"; padding-right: .5ex}\n",
       ".dl-inline>dt:not(:first-of-type) {padding-left: .5ex}\n",
       "</style><dl class=dl-inline><dt>(Intercept)</dt><dd>-0.2036</dd><dt>a</dt><dd>0.73024</dd><dt>h</dt><dd>0.05169</dd><dt>r</dt><dd>0.00792</dd><dt>t</dt><dd>0.07258</dd><dt>ar</dt><dd>0.10492</dd><dt>b</dt><dd>0.17528</dd><dt>e</dt><dd>0.47854</dd><dt>i</dt><dd>0.78399</dd><dt>s</dt><dd>0.06962</dd><dt>bi</dt><dd>0.07069</dd><dt>is</dt><dd>0.05148</dd><dt>se</dt><dd>-0.09634</dd><dt>c</dt><dd>0.17673</dd><dt>d</dt><dd>0.0991</dd><dt>ca</dt><dd>0.00576</dd><dt>u</dt><dd>0.69531</dd><dt>es</dt><dd>0.13233</dd><dt>p</dt><dd>0.18459</dd><dt>f</dt><dd>0.0417</dd><dt>o</dt><dd>0.68899</dd><dt>ro</dt><dd>0.08907</dd><dt>or</dt><dd>0.18095</dd><dt>g</dt><dd>0.12883</dd><dt>n</dt><dd>0.02221</dd><dt>at</dt><dd>0.2317</dd><dt>na</dt><dd>-0.02179</dd><dt>l</dt><dd>0.04396</dd><dt>lo</dt><dd>-0.09018</dd><dt>m</dt><dd>0.25014</dd><dt>er</dt><dd>0.46798</dd><dt>v</dt><dd>0.2298</dd><dt>no</dt><dd>0.26159</dd><dt>`in`</dt><dd>0.04927</dd><dt>st</dt><dd>-0.01016</dd><dt>ta</dt><dd>0.03028</dd><dt>re</dt><dd>0.19674</dd><dt>us</dt><dd>-0.07317</dd><dt>il</dt><dd>0.01321</dd><dt>ll</dt><dd>-0.1776</dd><dt>og</dt><dd>0.29686</dd><dt>nt</dt><dd>0.01683</dd><dt>te</dt><dd>0.1419</dd><dt>ne</dt><dd>0.15158</dd><dt>y</dt><dd>0.88125</dd><dt>un</dt><dd>0.14722</dd><dt>en</dt><dd>0.3429</dd><dt>pe</dt><dd>0.02565</dd><dt>de</dt><dd>0.18883</dd><dt>co</dt><dd>0.03812</dd><dt>ma</dt><dd>-0.00778</dd><dt>ri</dt><dd>0.06745</dd><dt>tr</dt><dd>0.07329</dd><dt>di</dt><dd>0.0788</dd><dt>al</dt><dd>0.26619</dd><dt>si</dt><dd>-0.00938</dd><dt>ve</dt><dd>-0.11812</dd><dt>la</dt><dd>0.09638</dd><dt>an</dt><dd>0.15797</dd><dt>ol</dt><dd>0.2488</dd><dt>it</dt><dd>0.15649</dd><dt>pr</dt><dd>-0.00312</dd><dt>ed</dt><dd>0.02061</dd><dt>le</dt><dd>0.28708</dd><dt>all</dt><dd>0.09394</dd><dt>cal</dt><dd>0.02636</dd><dt>he</dt><dd>0.19569</dd><dt>ng</dt><dd>0.05097</dd><dt>et</dt><dd>0.35996</dd><dt>ra</dt><dd>0.09069</dd><dt>me</dt><dd>-0.00558</dd><dt>ti</dt><dd>0.05968</dd><dt>el</dt><dd>0.25094</dd><dt>on</dt><dd>0.01874</dd><dt>ac</dt><dd>0.03544</dd><dt>mi</dt><dd>0.05147</dd><dt>om</dt><dd>0.02934</dd><dt>to</dt><dd>0.15578</dd><dt>ic</dt><dd>0.11356</dd><dt>ab</dt><dd>0.17187</dd><dt>li</dt><dd>0.02639</dd><dt>ly</dt><dd>0.05491</dd><dt>ia</dt><dd>0.27002</dd><dt>ter</dt><dd>-0.08919</dd><dt>ing</dt><dd>0.05689</dd><dt>ni</dt><dd>0.0926</dd><dt>tic</dt><dd>0.03197</dd><dt>io</dt><dd>0.16195</dd><dt>ty</dt><dd>0.30213</dd><dt>ati</dt><dd>-0.08263</dd><dt>tio</dt><dd>-0.45208</dd><dt>` `</dt><dd>-0.03718</dd><dt>ica</dt><dd>-0.00656</dd></dl>\n"
      ],
      "text/latex": [
       "\\begin{description*}\n",
       "\\item[(Intercept)] -0.2036\n",
       "\\item[a] 0.73024\n",
       "\\item[h] 0.05169\n",
       "\\item[r] 0.00792\n",
       "\\item[t] 0.07258\n",
       "\\item[ar] 0.10492\n",
       "\\item[b] 0.17528\n",
       "\\item[e] 0.47854\n",
       "\\item[i] 0.78399\n",
       "\\item[s] 0.06962\n",
       "\\item[bi] 0.07069\n",
       "\\item[is] 0.05148\n",
       "\\item[se] -0.09634\n",
       "\\item[c] 0.17673\n",
       "\\item[d] 0.0991\n",
       "\\item[ca] 0.00576\n",
       "\\item[u] 0.69531\n",
       "\\item[es] 0.13233\n",
       "\\item[p] 0.18459\n",
       "\\item[f] 0.0417\n",
       "\\item[o] 0.68899\n",
       "\\item[ro] 0.08907\n",
       "\\item[or] 0.18095\n",
       "\\item[g] 0.12883\n",
       "\\item[n] 0.02221\n",
       "\\item[at] 0.2317\n",
       "\\item[na] -0.02179\n",
       "\\item[l] 0.04396\n",
       "\\item[lo] -0.09018\n",
       "\\item[m] 0.25014\n",
       "\\item[er] 0.46798\n",
       "\\item[v] 0.2298\n",
       "\\item[no] 0.26159\n",
       "\\item[`in`] 0.04927\n",
       "\\item[st] -0.01016\n",
       "\\item[ta] 0.03028\n",
       "\\item[re] 0.19674\n",
       "\\item[us] -0.07317\n",
       "\\item[il] 0.01321\n",
       "\\item[ll] -0.1776\n",
       "\\item[og] 0.29686\n",
       "\\item[nt] 0.01683\n",
       "\\item[te] 0.1419\n",
       "\\item[ne] 0.15158\n",
       "\\item[y] 0.88125\n",
       "\\item[un] 0.14722\n",
       "\\item[en] 0.3429\n",
       "\\item[pe] 0.02565\n",
       "\\item[de] 0.18883\n",
       "\\item[co] 0.03812\n",
       "\\item[ma] -0.00778\n",
       "\\item[ri] 0.06745\n",
       "\\item[tr] 0.07329\n",
       "\\item[di] 0.0788\n",
       "\\item[al] 0.26619\n",
       "\\item[si] -0.00938\n",
       "\\item[ve] -0.11812\n",
       "\\item[la] 0.09638\n",
       "\\item[an] 0.15797\n",
       "\\item[ol] 0.2488\n",
       "\\item[it] 0.15649\n",
       "\\item[pr] -0.00312\n",
       "\\item[ed] 0.02061\n",
       "\\item[le] 0.28708\n",
       "\\item[all] 0.09394\n",
       "\\item[cal] 0.02636\n",
       "\\item[he] 0.19569\n",
       "\\item[ng] 0.05097\n",
       "\\item[et] 0.35996\n",
       "\\item[ra] 0.09069\n",
       "\\item[me] -0.00558\n",
       "\\item[ti] 0.05968\n",
       "\\item[el] 0.25094\n",
       "\\item[on] 0.01874\n",
       "\\item[ac] 0.03544\n",
       "\\item[mi] 0.05147\n",
       "\\item[om] 0.02934\n",
       "\\item[to] 0.15578\n",
       "\\item[ic] 0.11356\n",
       "\\item[ab] 0.17187\n",
       "\\item[li] 0.02639\n",
       "\\item[ly] 0.05491\n",
       "\\item[ia] 0.27002\n",
       "\\item[ter] -0.08919\n",
       "\\item[ing] 0.05689\n",
       "\\item[ni] 0.0926\n",
       "\\item[tic] 0.03197\n",
       "\\item[io] 0.16195\n",
       "\\item[ty] 0.30213\n",
       "\\item[ati] -0.08263\n",
       "\\item[tio] -0.45208\n",
       "\\item[` `] -0.03718\n",
       "\\item[ica] -0.00656\n",
       "\\end{description*}\n"
      ],
      "text/markdown": [
       "(Intercept)\n",
       ":   -0.2036a\n",
       ":   0.73024h\n",
       ":   0.05169r\n",
       ":   0.00792t\n",
       ":   0.07258ar\n",
       ":   0.10492b\n",
       ":   0.17528e\n",
       ":   0.47854i\n",
       ":   0.78399s\n",
       ":   0.06962bi\n",
       ":   0.07069is\n",
       ":   0.05148se\n",
       ":   -0.09634c\n",
       ":   0.17673d\n",
       ":   0.0991ca\n",
       ":   0.00576u\n",
       ":   0.69531es\n",
       ":   0.13233p\n",
       ":   0.18459f\n",
       ":   0.0417o\n",
       ":   0.68899ro\n",
       ":   0.08907or\n",
       ":   0.18095g\n",
       ":   0.12883n\n",
       ":   0.02221at\n",
       ":   0.2317na\n",
       ":   -0.02179l\n",
       ":   0.04396lo\n",
       ":   -0.09018m\n",
       ":   0.25014er\n",
       ":   0.46798v\n",
       ":   0.2298no\n",
       ":   0.26159`in`\n",
       ":   0.04927st\n",
       ":   -0.01016ta\n",
       ":   0.03028re\n",
       ":   0.19674us\n",
       ":   -0.07317il\n",
       ":   0.01321ll\n",
       ":   -0.1776og\n",
       ":   0.29686nt\n",
       ":   0.01683te\n",
       ":   0.1419ne\n",
       ":   0.15158y\n",
       ":   0.88125un\n",
       ":   0.14722en\n",
       ":   0.3429pe\n",
       ":   0.02565de\n",
       ":   0.18883co\n",
       ":   0.03812ma\n",
       ":   -0.00778ri\n",
       ":   0.06745tr\n",
       ":   0.07329di\n",
       ":   0.0788al\n",
       ":   0.26619si\n",
       ":   -0.00938ve\n",
       ":   -0.11812la\n",
       ":   0.09638an\n",
       ":   0.15797ol\n",
       ":   0.2488it\n",
       ":   0.15649pr\n",
       ":   -0.00312ed\n",
       ":   0.02061le\n",
       ":   0.28708all\n",
       ":   0.09394cal\n",
       ":   0.02636he\n",
       ":   0.19569ng\n",
       ":   0.05097et\n",
       ":   0.35996ra\n",
       ":   0.09069me\n",
       ":   -0.00558ti\n",
       ":   0.05968el\n",
       ":   0.25094on\n",
       ":   0.01874ac\n",
       ":   0.03544mi\n",
       ":   0.05147om\n",
       ":   0.02934to\n",
       ":   0.15578ic\n",
       ":   0.11356ab\n",
       ":   0.17187li\n",
       ":   0.02639ly\n",
       ":   0.05491ia\n",
       ":   0.27002ter\n",
       ":   -0.08919ing\n",
       ":   0.05689ni\n",
       ":   0.0926tic\n",
       ":   0.03197io\n",
       ":   0.16195ty\n",
       ":   0.30213ati\n",
       ":   -0.08263tio\n",
       ":   -0.45208` `\n",
       ":   -0.03718ica\n",
       ":   -0.00656\n",
       "\n"
      ],
      "text/plain": [
       "(Intercept)           a           h           r           t          ar \n",
       "   -0.20360     0.73024     0.05169     0.00792     0.07258     0.10492 \n",
       "          b           e           i           s          bi          is \n",
       "    0.17528     0.47854     0.78399     0.06962     0.07069     0.05148 \n",
       "         se           c           d          ca           u          es \n",
       "   -0.09634     0.17673     0.09910     0.00576     0.69531     0.13233 \n",
       "          p           f           o          ro          or           g \n",
       "    0.18459     0.04170     0.68899     0.08907     0.18095     0.12883 \n",
       "          n          at          na           l          lo           m \n",
       "    0.02221     0.23170    -0.02179     0.04396    -0.09018     0.25014 \n",
       "         er           v          no        `in`          st          ta \n",
       "    0.46798     0.22980     0.26159     0.04927    -0.01016     0.03028 \n",
       "         re          us          il          ll          og          nt \n",
       "    0.19674    -0.07317     0.01321    -0.17760     0.29686     0.01683 \n",
       "         te          ne           y          un          en          pe \n",
       "    0.14190     0.15158     0.88125     0.14722     0.34290     0.02565 \n",
       "         de          co          ma          ri          tr          di \n",
       "    0.18883     0.03812    -0.00778     0.06745     0.07329     0.07880 \n",
       "         al          si          ve          la          an          ol \n",
       "    0.26619    -0.00938    -0.11812     0.09638     0.15797     0.24880 \n",
       "         it          pr          ed          le         all         cal \n",
       "    0.15649    -0.00312     0.02061     0.28708     0.09394     0.02636 \n",
       "         he          ng          et          ra          me          ti \n",
       "    0.19569     0.05097     0.35996     0.09069    -0.00558     0.05968 \n",
       "         el          on          ac          mi          om          to \n",
       "    0.25094     0.01874     0.03544     0.05147     0.02934     0.15578 \n",
       "         ic          ab          li          ly          ia         ter \n",
       "    0.11356     0.17187     0.02639     0.05491     0.27002    -0.08919 \n",
       "        ing          ni         tic          io          ty         ati \n",
       "    0.05689     0.09260     0.03197     0.16195     0.30213    -0.08263 \n",
       "        tio         ` `         ica \n",
       "   -0.45208    -0.03718    -0.00656 "
      ]
     },
     "metadata": {},
     "output_type": "display_data"
    }
   ],
   "source": [
    "download.file(\"https://bda2019syllables.netlify.com/en_syllable_3grams.csv.zip\", \"en_syllable_3grams.csv.zip\") ## downloading the data base for syllables\n",
    "unzip(\"en_syllable_3grams.csv.zip\")\n",
    "syldf <- read.csv(\"en_syllable_3grams.csv\", check.names = FALSE, \n",
    "                 stringsAsFactor = FALSE)\n",
    "\n",
    "nearZ <- syldf %>% caret::nearZeroVar() # removing syllables with near Zero Var\n",
    "syldf2 <- syldf[, -nearZ]\n",
    "\n",
    "new_syldf <- cor(syldf2[,-(1:2)]) # finding correlations among syllables above 0.9 and removing them\n",
    "high_r <- new_syldf %>%\n",
    "    caret::findCorrelation(cutoff = 0.9) + 2\n",
    "syldf3 <- syldf2[, -high_r]\n",
    "\n",
    "names(syldf3) = gsub(\"^$\", \" \", names(syldf3))\n",
    "\n",
    "fitlm <- lm(nsyl ~ . - word, syldf3)  # creating a linear model to predict the number of syllables with the remaining features\n",
    "round(coef(fitlm), 5)\n",
    "\n",
    "nsyl_est <- function(word, betas) {  # creating a function that counts the number of syllables with a given word and beta coef.\n",
    "   features = stringr::str_count(word, names(betas)[-1])\n",
    "   nsyl = betas[1] + features %*% betas[-1]\n",
    "   return(drop(nsyl))\n",
    "}\n",
    "\n",
    "\n",
    "hat_beta = coef(fitlm) \n",
    "\n",
    "tokens <- tokenized_no_stop_words %>%  # singling out tokens(words) from the tokenized transcript and grouping by VlogId\n",
    "    select(token, vlogId) %>%\n",
    "    group_by(vlogId)\n",
    "\n",
    "\n",
    "count_syl <- numeric()  # counting the number of syllables for each word in the transcript\n",
    "for(i in 1:nrow(tokens)){\n",
    "    count_syl[i] <- nsyl_est(tokens[i,1], hat_beta)\n",
    "}\n",
    "\n",
    "\n",
    "syl_feature <- tokens %>%  # creating an output with rounded count of syllables per each VlogId\n",
    "    data.frame(round(count_syl)) %>%\n",
    "    rename(syl_count = round.count_syl.) %>%\n",
    "    group_by(vlogId) %>%\n",
    "    summarise(sum = sum(syl_count))\n",
    "\n",
    "\n",
    "\n"
   ]
  },
  {
   "cell_type": "markdown",
   "id": "6606563f",
   "metadata": {
    "papermill": {
     "duration": 0.080432,
     "end_time": "2021-12-29T17:12:58.142984",
     "exception": false,
     "start_time": "2021-12-29T17:12:58.062552",
     "status": "completed"
    },
    "tags": []
   },
   "source": [
    "### Feature 7 \n",
    "####  Number of questions"
   ]
  },
  {
   "cell_type": "markdown",
   "id": "1f1b5b60",
   "metadata": {
    "papermill": {
     "duration": 0.077335,
     "end_time": "2021-12-29T17:12:58.297875",
     "exception": false,
     "start_time": "2021-12-29T17:12:58.220540",
     "status": "completed"
    },
    "tags": []
   },
   "source": [
    "Our seventh feature is the number of questions in a vlog. Asking questions might for example be related to insecurity and thus introversion or to curiousness and thus opnenness to experience. "
   ]
  },
  {
   "cell_type": "code",
   "execution_count": 20,
   "id": "30e0ceb3",
   "metadata": {
    "execution": {
     "iopub.execute_input": "2021-12-29T17:12:58.459384Z",
     "iopub.status.busy": "2021-12-29T17:12:58.457710Z",
     "iopub.status.idle": "2021-12-29T17:12:58.514563Z",
     "shell.execute_reply": "2021-12-29T17:12:58.513130Z"
    },
    "papermill": {
     "duration": 0.139345,
     "end_time": "2021-12-29T17:12:58.514738",
     "exception": false,
     "start_time": "2021-12-29T17:12:58.375393",
     "status": "completed"
    },
    "tags": []
   },
   "outputs": [
    {
     "name": "stderr",
     "output_type": "stream",
     "text": [
      "Joining, by = \"vlogId\"\n",
      "\n"
     ]
    }
   ],
   "source": [
    "nr_questions <- tokenized_sentences %>%  \n",
    "    group_by(vlogId) %>%\n",
    "    mutate(end_sentence = str_sub(sentence, start = -1)) %>%\n",
    "    filter(end_sentence == \"?\") %>%\n",
    "    count()\n",
    "\n",
    "# add vloggers with 0 counts\n",
    "question_feature <- left_join(tibble(vlogId), nr_questions, copy = TRUE) %>% \n",
    "    replace(is.na(.),0) %>%\n",
    "    rename(quest_count = n)"
   ]
  },
  {
   "cell_type": "markdown",
   "id": "ae54e7f4",
   "metadata": {
    "papermill": {
     "duration": 0.077955,
     "end_time": "2021-12-29T17:12:58.670597",
     "exception": false,
     "start_time": "2021-12-29T17:12:58.592642",
     "status": "completed"
    },
    "tags": []
   },
   "source": [
    "### Feature 8 \n",
    "#### Swear Words"
   ]
  },
  {
   "cell_type": "markdown",
   "id": "24a74bd4",
   "metadata": {
    "papermill": {
     "duration": 0.079084,
     "end_time": "2021-12-29T17:12:58.827588",
     "exception": false,
     "start_time": "2021-12-29T17:12:58.748504",
     "status": "completed"
    },
    "tags": []
   },
   "source": [
    "Our eigth feature is the number of swear words that is used. The study of Metha et al. 2020 also showed this was an effective predictor for agreeabless. Besides that it also intuitively makes sense that the number of swear words would predict agreeableness (the more swear words the lower agreeableness) and possibly other big five traits. "
   ]
  },
  {
   "cell_type": "code",
   "execution_count": 21,
   "id": "f05cbeba",
   "metadata": {
    "execution": {
     "iopub.execute_input": "2021-12-29T17:12:58.990063Z",
     "iopub.status.busy": "2021-12-29T17:12:58.988308Z",
     "iopub.status.idle": "2021-12-29T17:12:59.413875Z",
     "shell.execute_reply": "2021-12-29T17:12:59.412433Z"
    },
    "papermill": {
     "duration": 0.50858,
     "end_time": "2021-12-29T17:12:59.414048",
     "exception": false,
     "start_time": "2021-12-29T17:12:58.905468",
     "status": "completed"
    },
    "tags": []
   },
   "outputs": [
    {
     "name": "stderr",
     "output_type": "stream",
     "text": [
      "Joining, by = \"vlogId\"\n",
      "\n"
     ]
    }
   ],
   "source": [
    "\n",
    "swear_words_url <- \"http://www.bannedwordlist.com/lists/swearWords.txt\"\n",
    "download.file(swear_words_url, destfile = \"swear_words.txt\") \n",
    "swear_words <- tibble(read.table(\"swear_words.txt\", \n",
    "                                stringsAsFactor = FALSE, \n",
    "                                sep = \",\"))\n",
    "\n",
    "swear_count_tbl <- tokenized_words %>%   \n",
    "  inner_join(swear_words, by = c(token = 'V1'))%>% # inner join matches pairs of observations when keys are equal\n",
    "  count(vlogId) %>%\n",
    "  group_by(vlogId) %>%\n",
    "  rename(swear_count = n) \n",
    "\n",
    "# add vloggers with 0 counts\n",
    "swear_feature <- left_join(tibble(vlogId), swear_count_tbl, copy = TRUE) %>% \n",
    "    replace(is.na(.),0)"
   ]
  },
  {
   "cell_type": "markdown",
   "id": "dea8163f",
   "metadata": {
    "papermill": {
     "duration": 0.079413,
     "end_time": "2021-12-29T17:12:59.573513",
     "exception": false,
     "start_time": "2021-12-29T17:12:59.494100",
     "status": "completed"
    },
    "tags": []
   },
   "source": [
    "### Feature 9 \n",
    "#### Number of pauses"
   ]
  },
  {
   "cell_type": "markdown",
   "id": "afb90176",
   "metadata": {
    "papermill": {
     "duration": 0.078094,
     "end_time": "2021-12-29T17:12:59.730578",
     "exception": false,
     "start_time": "2021-12-29T17:12:59.652484",
     "status": "completed"
    },
    "tags": []
   },
   "source": [
    "Our ninth feature is the number of pauses for each vlogger. Since there are a lot of ways pauses or silence can be used in speech Kostiuk (2012) so it might predict personality in different ways. However if there are a lot of pauses this likely indicates difficulty finding words which might be associated with introversion. "
   ]
  },
  {
   "cell_type": "code",
   "execution_count": 22,
   "id": "6eecf68f",
   "metadata": {
    "execution": {
     "iopub.execute_input": "2021-12-29T17:12:59.897188Z",
     "iopub.status.busy": "2021-12-29T17:12:59.895013Z",
     "iopub.status.idle": "2021-12-29T17:12:59.981960Z",
     "shell.execute_reply": "2021-12-29T17:12:59.980244Z"
    },
    "papermill": {
     "duration": 0.170356,
     "end_time": "2021-12-29T17:12:59.982117",
     "exception": false,
     "start_time": "2021-12-29T17:12:59.811761",
     "status": "completed"
    },
    "tags": []
   },
   "outputs": [
    {
     "name": "stderr",
     "output_type": "stream",
     "text": [
      "Joining, by = \"vlogId\"\n",
      "\n"
     ]
    }
   ],
   "source": [
    "# counts each pause in a sentence once\n",
    "nr_pauses <- tokenized_sentences %>%\n",
    "    group_by(vlogId) %>%\n",
    "    mutate(sentence_with_pause = grepl(\"-\", sentence)) %>%\n",
    "    count(sentence_with_pause) %>%\n",
    "    filter(sentence_with_pause == TRUE)\n",
    "\n",
    "# add vloggers with 0 counts\n",
    "pause_feature <- left_join(tibble(vlogId), nr_pauses, copy = TRUE) %>% \n",
    "    replace(is.na(.),0) %>%\n",
    "    rename(pause_count = n) %>%\n",
    "    select(vlogId, pause_count)"
   ]
  },
  {
   "cell_type": "markdown",
   "id": "f06638c5",
   "metadata": {
    "papermill": {
     "duration": 0.07903,
     "end_time": "2021-12-29T17:13:00.140028",
     "exception": false,
     "start_time": "2021-12-29T17:13:00.060998",
     "status": "completed"
    },
    "tags": []
   },
   "source": [
    "### Feature 10 \n",
    "#### Self-Reference/\"I\" Words "
   ]
  },
  {
   "cell_type": "markdown",
   "id": "24a807d0",
   "metadata": {
    "papermill": {
     "duration": 0.086397,
     "end_time": "2021-12-29T17:13:00.315992",
     "exception": false,
     "start_time": "2021-12-29T17:13:00.229595",
     "status": "completed"
    },
    "tags": []
   },
   "source": [
    "Our tenth feature is the us of self-reference words. Self-reference words are associated with multiple personality traits so their use might be a good predictor for the Big Five. Earlier research showed for example an association between the use of the word \"I\" and neuroticism (Scully & Terry, 2011). "
   ]
  },
  {
   "cell_type": "code",
   "execution_count": 23,
   "id": "44f2f534",
   "metadata": {
    "execution": {
     "iopub.execute_input": "2021-12-29T17:13:00.494121Z",
     "iopub.status.busy": "2021-12-29T17:13:00.491814Z",
     "iopub.status.idle": "2021-12-29T17:13:00.684511Z",
     "shell.execute_reply": "2021-12-29T17:13:00.682841Z"
    },
    "papermill": {
     "duration": 0.288409,
     "end_time": "2021-12-29T17:13:00.684685",
     "exception": false,
     "start_time": "2021-12-29T17:13:00.396276",
     "status": "completed"
    },
    "tags": []
   },
   "outputs": [
    {
     "name": "stderr",
     "output_type": "stream",
     "text": [
      "Joining, by = \"vlogId\"\n",
      "\n"
     ]
    }
   ],
   "source": [
    "transcript_with_stop <- transcripts_df %>%\n",
    "    unnest_tokens(token, Text, token = \"words\")\n",
    "\n",
    "\n",
    "selfreference <- transcript_with_stop %>% \n",
    "  filter(token == \"i\"  | token ==  \"me\" | token == \"myself\" | token == \"i'm\" | token == \"mine\" |\n",
    "           token == \"my\") %>%\n",
    "  group_by(vlogId) %>%\n",
    "  tally(name = 'selfwords') %>%\n",
    "  rename(self_count = selfwords) \n",
    "\n",
    "# add vloggers with 0 counts\n",
    "selfreference_feature <- left_join(tibble(vlogId), \n",
    "                                   selfreference, \n",
    "                                   copy = TRUE) %>%\n",
    "    replace(is.na(.),0) \n",
    "\n",
    "# which(selfreference_feature$self_count == 0)"
   ]
  },
  {
   "cell_type": "markdown",
   "id": "134ae6db",
   "metadata": {
    "papermill": {
     "duration": 0.079731,
     "end_time": "2021-12-29T17:13:00.843941",
     "exception": false,
     "start_time": "2021-12-29T17:13:00.764210",
     "status": "completed"
    },
    "tags": []
   },
   "source": [
    "### Feature 11 \n",
    "#### \"We\" Words Relative Frequency "
   ]
  },
  {
   "cell_type": "code",
   "execution_count": 24,
   "id": "1a4b9eff",
   "metadata": {
    "execution": {
     "iopub.execute_input": "2021-12-29T17:13:01.011346Z",
     "iopub.status.busy": "2021-12-29T17:13:01.009194Z",
     "iopub.status.idle": "2021-12-29T17:13:01.065128Z",
     "shell.execute_reply": "2021-12-29T17:13:01.063338Z"
    },
    "papermill": {
     "duration": 0.139803,
     "end_time": "2021-12-29T17:13:01.065313",
     "exception": false,
     "start_time": "2021-12-29T17:13:00.925510",
     "status": "completed"
    },
    "tags": []
   },
   "outputs": [
    {
     "name": "stderr",
     "output_type": "stream",
     "text": [
      "Joining, by = \"vlogId\"\n",
      "\n"
     ]
    }
   ],
   "source": [
    "we_reference <- transcript_with_stop %>% \n",
    "  filter(token == \"we\"  | token ==  \"we're\" | token == \"us\" | token == \"us\" | token == \"our\" |\n",
    "           token == \"ours\" | token == \"ourselves\") %>%\n",
    "  group_by(vlogId) %>%\n",
    "  tally(name = 'we_words') %>%\n",
    "  rename(we_count = we_words) \n",
    "\n",
    "\n",
    "# add vloggers with 0 counts\n",
    "we_feature <- left_join(tibble(vlogId), we_reference, copy = TRUE) %>%\n",
    "    replace(is.na(.),0) \n",
    "\n",
    "# which(we_feature$we_count == 0)"
   ]
  },
  {
   "cell_type": "markdown",
   "id": "7cb95d21",
   "metadata": {
    "papermill": {
     "duration": 0.079985,
     "end_time": "2021-12-29T17:13:01.225304",
     "exception": false,
     "start_time": "2021-12-29T17:13:01.145319",
     "status": "completed"
    },
    "tags": []
   },
   "source": [
    "## 4.2 Stolen features"
   ]
  },
  {
   "cell_type": "markdown",
   "id": "e88b221b",
   "metadata": {
    "papermill": {
     "duration": 0.079075,
     "end_time": "2021-12-29T17:13:01.384682",
     "exception": false,
     "start_time": "2021-12-29T17:13:01.305607",
     "status": "completed"
    },
    "tags": []
   },
   "source": [
    "We did not come up with these features ourseleves, but after seeing them in the work of other groups we decided to use them either because we thought they would be good predictors or they somehow expanded on predictors we thought of in the first place. "
   ]
  },
  {
   "cell_type": "markdown",
   "id": "1df4921b",
   "metadata": {
    "papermill": {
     "duration": 0.079924,
     "end_time": "2021-12-29T17:13:01.543781",
     "exception": false,
     "start_time": "2021-12-29T17:13:01.463857",
     "status": "completed"
    },
    "tags": []
   },
   "source": [
    "### Feature 12 \n",
    "#### Average Number of characters in a sentence"
   ]
  },
  {
   "cell_type": "code",
   "execution_count": 25,
   "id": "49a402fd",
   "metadata": {
    "execution": {
     "iopub.execute_input": "2021-12-29T17:13:01.708999Z",
     "iopub.status.busy": "2021-12-29T17:13:01.707403Z",
     "iopub.status.idle": "2021-12-29T17:13:01.741978Z",
     "shell.execute_reply": "2021-12-29T17:13:01.740330Z"
    },
    "papermill": {
     "duration": 0.118984,
     "end_time": "2021-12-29T17:13:01.742148",
     "exception": false,
     "start_time": "2021-12-29T17:13:01.623164",
     "status": "completed"
    },
    "tags": []
   },
   "outputs": [],
   "source": [
    "char_len_feature <- tokenized_sentences %>%\n",
    "    mutate(nr_char = nchar(sentence)) %>%\n",
    "    group_by(vlogId) %>%\n",
    "    summarize(avg_char_len = mean(nr_char))\n",
    "\n",
    "# Code from Group 10 but some changes"
   ]
  },
  {
   "cell_type": "markdown",
   "id": "49ef7ffb",
   "metadata": {
    "papermill": {
     "duration": 0.079795,
     "end_time": "2021-12-29T17:13:01.902606",
     "exception": false,
     "start_time": "2021-12-29T17:13:01.822811",
     "status": "completed"
    },
    "tags": []
   },
   "source": [
    "### Feature 13 \n",
    "####  AFINN "
   ]
  },
  {
   "cell_type": "code",
   "execution_count": 26,
   "id": "2ef32578",
   "metadata": {
    "execution": {
     "iopub.execute_input": "2021-12-29T17:13:02.069907Z",
     "iopub.status.busy": "2021-12-29T17:13:02.068334Z",
     "iopub.status.idle": "2021-12-29T17:13:02.516539Z",
     "shell.execute_reply": "2021-12-29T17:13:02.514519Z"
    },
    "papermill": {
     "duration": 0.533603,
     "end_time": "2021-12-29T17:13:02.516734",
     "exception": false,
     "start_time": "2021-12-29T17:13:01.983131",
     "status": "completed"
    },
    "tags": []
   },
   "outputs": [],
   "source": [
    "download.file(\"http://www2.imm.dtu.dk/pubdb/edoc/imm6010.zip\",\"afinn.zip\")\n",
    " unzip(\"afinn.zip\")\n",
    " afinn = read.delim(\"AFINN/AFINN-111.txt\", sep=\"\\t\", col.names = c(\"word\",\"score\"), \n",
    "                   stringsAsFactors = FALSE)\n",
    "\n",
    "afinn_feature <- tokenized_words %>%\n",
    "    inner_join(afinn, by = c(token = 'word')) %>%\n",
    "    group_by(vlogId) %>%\n",
    "    summarise (afinn_mean = mean(score)) \n",
    "\n",
    "# Code from Group 10 but some changes"
   ]
  },
  {
   "cell_type": "markdown",
   "id": "b1a34520",
   "metadata": {
    "papermill": {
     "duration": 0.07926,
     "end_time": "2021-12-29T17:13:02.675149",
     "exception": false,
     "start_time": "2021-12-29T17:13:02.595889",
     "status": "completed"
    },
    "tags": []
   },
   "source": [
    "### Feature 14\n",
    "####  wMEI "
   ]
  },
  {
   "cell_type": "code",
   "execution_count": 27,
   "id": "0831892e",
   "metadata": {
    "execution": {
     "iopub.execute_input": "2021-12-29T17:13:02.839768Z",
     "iopub.status.busy": "2021-12-29T17:13:02.838127Z",
     "iopub.status.idle": "2021-12-29T17:13:02.858396Z",
     "shell.execute_reply": "2021-12-29T17:13:02.857036Z"
    },
    "papermill": {
     "duration": 0.104393,
     "end_time": "2021-12-29T17:13:02.858538",
     "exception": false,
     "start_time": "2021-12-29T17:13:02.754145",
     "status": "completed"
    },
    "tags": []
   },
   "outputs": [],
   "source": [
    "wMEi_feature <- audiovisual_df %>% \n",
    "                        select(vlogId, hogv.entropy, hogv.median, \n",
    "                                 hogv.cogR, hogv.cogC)\n",
    "\n",
    "# Code from Group 10 but some changes"
   ]
  },
  {
   "cell_type": "markdown",
   "id": "0e05619e",
   "metadata": {
    "papermill": {
     "duration": 0.080025,
     "end_time": "2021-12-29T17:13:03.017866",
     "exception": false,
     "start_time": "2021-12-29T17:13:02.937841",
     "status": "completed"
    },
    "tags": []
   },
   "source": [
    "### Feature 15 \n",
    "####  \"We\" relative frequency"
   ]
  },
  {
   "cell_type": "code",
   "execution_count": 28,
   "id": "0e5b7d51",
   "metadata": {
    "execution": {
     "iopub.execute_input": "2021-12-29T17:13:03.182002Z",
     "iopub.status.busy": "2021-12-29T17:13:03.180436Z",
     "iopub.status.idle": "2021-12-29T17:13:03.293796Z",
     "shell.execute_reply": "2021-12-29T17:13:03.292352Z"
    },
    "papermill": {
     "duration": 0.196831,
     "end_time": "2021-12-29T17:13:03.293968",
     "exception": false,
     "start_time": "2021-12-29T17:13:03.097137",
     "status": "completed"
    },
    "tags": []
   },
   "outputs": [],
   "source": [
    "# count total number of words\n",
    "count_words <- tokenized_words %>%\n",
    "  count(vlogId) %>%\n",
    "  rename(total_words = n)\n",
    "\n",
    "count_i <- tokenized_words %>%\n",
    "  filter(token == \"i\" |\n",
    "         token == \"i'm\" |\n",
    "         token == \"me\" |\n",
    "         token == \"my\" |\n",
    "         token == \"mine\" |\n",
    "         token == \"myself\") %>%\n",
    "  count(vlogId) %>% \n",
    "  rename(total_i = n)\n",
    "\n",
    "count_we <- tokenized_words %>%\n",
    "  filter(token == \"we\" |\n",
    "         token == \"we're\" |\n",
    "         token == \"us\" |\n",
    "         token == \"our\" |\n",
    "         token == \"ours\" |\n",
    "         token == \"ourselves\") %>%\n",
    "  count(vlogId) %>% \n",
    "  rename(total_we = n)\n",
    "\n",
    "i_we_feature <- count_words %>% \n",
    "  full_join(count_i,  by = \"vlogId\") %>%\n",
    "  full_join(count_we, by = \"vlogId\") %>%\n",
    "  replace_na(list(total_i = 0, total_we = 0)) %>%\n",
    "  mutate(freq_i = total_i / total_words,\n",
    "         freq_we = total_we / total_words,) %>% \n",
    "  select(vlogId, freq_i, freq_we)\n",
    "\n",
    "# Code from Group 3"
   ]
  },
  {
   "cell_type": "markdown",
   "id": "1602ff08",
   "metadata": {
    "papermill": {
     "duration": 0.078739,
     "end_time": "2021-12-29T17:13:03.451346",
     "exception": false,
     "start_time": "2021-12-29T17:13:03.372607",
     "status": "completed"
    },
    "tags": []
   },
   "source": [
    "### Feature 16 \n",
    "#### Negation frequency"
   ]
  },
  {
   "cell_type": "code",
   "execution_count": 29,
   "id": "6bb3900c",
   "metadata": {
    "execution": {
     "iopub.execute_input": "2021-12-29T17:13:03.615318Z",
     "iopub.status.busy": "2021-12-29T17:13:03.613660Z",
     "iopub.status.idle": "2021-12-29T17:13:04.621238Z",
     "shell.execute_reply": "2021-12-29T17:13:04.619649Z"
    },
    "papermill": {
     "duration": 1.091306,
     "end_time": "2021-12-29T17:13:04.621399",
     "exception": false,
     "start_time": "2021-12-29T17:13:03.530093",
     "status": "completed"
    },
    "tags": []
   },
   "outputs": [
    {
     "name": "stderr",
     "output_type": "stream",
     "text": [
      "Warning message in readLines(negation_url):\n",
      "“incomplete final line found on 'https://www.grammarly.com/blog/negatives/'”\n"
     ]
    }
   ],
   "source": [
    "negation_url <- \"https://www.grammarly.com/blog/negatives/\"\n",
    "negation_words <- readLines(negation_url)[63:89] %>%\n",
    "  str_replace(\"<li>\", \"\") %>% \n",
    "  str_replace(\"</li>\", \"\") %>%\n",
    "  tibble(word = .) %>%\n",
    "  filter(!grepl(\" \", word),\n",
    "         !grepl(\"<\", word),\n",
    "         word != \"\") %>% \n",
    "  mutate(word = str_to_lower(word))\n",
    "\n",
    "\n",
    "negation_feature <- tokenized_words %>%\n",
    "  filter(token %in% negation_words$word) %>%\n",
    "  count(vlogId) %>%\n",
    "  full_join(count_words, by = \"vlogId\") %>%\n",
    "  replace_na(list(n = 0)) %>%\n",
    "  mutate(negation_freq = n / total_words) %>%\n",
    "  select(vlogId, negation_freq)\n",
    "\n",
    "# Code from Group 3"
   ]
  },
  {
   "cell_type": "markdown",
   "id": "eb5ae494",
   "metadata": {
    "papermill": {
     "duration": 0.079959,
     "end_time": "2021-12-29T17:13:04.781660",
     "exception": false,
     "start_time": "2021-12-29T17:13:04.701701",
     "status": "completed"
    },
    "tags": []
   },
   "source": [
    "### Feature 17 \n",
    "### Mean Word Count Per Sentence"
   ]
  },
  {
   "cell_type": "code",
   "execution_count": 30,
   "id": "564f1b43",
   "metadata": {
    "execution": {
     "iopub.execute_input": "2021-12-29T17:13:04.950196Z",
     "iopub.status.busy": "2021-12-29T17:13:04.948552Z",
     "iopub.status.idle": "2021-12-29T17:13:05.747773Z",
     "shell.execute_reply": "2021-12-29T17:13:05.746032Z"
    },
    "papermill": {
     "duration": 0.883749,
     "end_time": "2021-12-29T17:13:05.747941",
     "exception": false,
     "start_time": "2021-12-29T17:13:04.864192",
     "status": "completed"
    },
    "tags": []
   },
   "outputs": [],
   "source": [
    "tokenized_sentences$n_words_sent <-\n",
    "  ntoken(x = tokenized_sentences$sentence,\n",
    "         remove_punct = TRUE)\n",
    "\n",
    "# Calculate the average amount of words per sentence per vlog\n",
    "mean_word_per_sentence_feature <- \n",
    "    tokenized_sentences %>%\n",
    "    group_by(vlogId) %>%\n",
    "    summarise(mean_n_words = mean(n_words_sent)) \n",
    "\n",
    "# Code from Group 11"
   ]
  },
  {
   "cell_type": "markdown",
   "id": "59ea4541",
   "metadata": {
    "papermill": {
     "duration": 0.080605,
     "end_time": "2021-12-29T17:13:05.908900",
     "exception": false,
     "start_time": "2021-12-29T17:13:05.828295",
     "status": "completed"
    },
    "tags": []
   },
   "source": [
    "# 5. Computing the features data frame"
   ]
  },
  {
   "cell_type": "code",
   "execution_count": 31,
   "id": "5d29a13c",
   "metadata": {
    "execution": {
     "iopub.execute_input": "2021-12-29T17:13:06.074910Z",
     "iopub.status.busy": "2021-12-29T17:13:06.073217Z",
     "iopub.status.idle": "2021-12-29T17:13:06.219379Z",
     "shell.execute_reply": "2021-12-29T17:13:06.217905Z"
    },
    "papermill": {
     "duration": 0.230293,
     "end_time": "2021-12-29T17:13:06.219565",
     "exception": false,
     "start_time": "2021-12-29T17:13:05.989272",
     "status": "completed"
    },
    "tags": []
   },
   "outputs": [
    {
     "name": "stderr",
     "output_type": "stream",
     "text": [
      "Joining, by = \"vlogId\"\n",
      "\n",
      "Joining, by = \"vlogId\"\n",
      "\n",
      "Joining, by = \"vlogId\"\n",
      "\n",
      "Joining, by = \"vlogId\"\n",
      "\n",
      "Joining, by = \"vlogId\"\n",
      "\n",
      "Joining, by = \"vlogId\"\n",
      "\n",
      "Joining, by = \"vlogId\"\n",
      "\n",
      "Joining, by = \"vlogId\"\n",
      "\n",
      "Joining, by = \"vlogId\"\n",
      "\n",
      "Joining, by = \"vlogId\"\n",
      "\n",
      "Joining, by = \"vlogId\"\n",
      "\n",
      "Joining, by = \"vlogId\"\n",
      "\n",
      "Joining, by = \"vlogId\"\n",
      "\n",
      "Joining, by = \"vlogId\"\n",
      "\n",
      "Joining, by = \"vlogId\"\n",
      "\n",
      "Joining, by = \"vlogId\"\n",
      "\n",
      "Joining, by = \"vlogId\"\n",
      "\n"
     ]
    },
    {
     "data": {
      "text/html": [
       "<table class=\"dataframe\">\n",
       "<caption>A tibble: 6 × 37</caption>\n",
       "<thead>\n",
       "\t<tr><th scope=col>vlogId</th><th scope=col>negative_bing</th><th scope=col>positive_bing</th><th scope=col>mean.pitch</th><th scope=col>mean.energy</th><th scope=col>avg.voiced.seg</th><th scope=col>sum</th><th scope=col>anger</th><th scope=col>anticipation</th><th scope=col>disgust</th><th scope=col>⋯</th><th scope=col>freq_i</th><th scope=col>freq_we</th><th scope=col>negation_freq</th><th scope=col>swear_count</th><th scope=col>we_count</th><th scope=col>mean_n_words</th><th scope=col>time.speaking</th><th scope=col>num.turns</th><th scope=col>voice.rate</th><th scope=col>avg.len.seg</th></tr>\n",
       "\t<tr><th scope=col>&lt;chr&gt;</th><th scope=col>&lt;dbl&gt;</th><th scope=col>&lt;dbl&gt;</th><th scope=col>&lt;dbl&gt;</th><th scope=col>&lt;dbl&gt;</th><th scope=col>&lt;dbl&gt;</th><th scope=col>&lt;dbl&gt;</th><th scope=col>&lt;dbl&gt;</th><th scope=col>&lt;dbl&gt;</th><th scope=col>&lt;dbl&gt;</th><th scope=col>⋯</th><th scope=col>&lt;dbl&gt;</th><th scope=col>&lt;dbl&gt;</th><th scope=col>&lt;dbl&gt;</th><th scope=col>&lt;int&gt;</th><th scope=col>&lt;int&gt;</th><th scope=col>&lt;dbl&gt;</th><th scope=col>&lt;dbl&gt;</th><th scope=col>&lt;dbl&gt;</th><th scope=col>&lt;dbl&gt;</th><th scope=col>&lt;dbl&gt;</th></tr>\n",
       "</thead>\n",
       "<tbody>\n",
       "\t<tr><td>VLOG1  </td><td> 9</td><td>21</td><td>178.15</td><td>0.06144900</td><td>0.18441</td><td>329</td><td> 8</td><td>10</td><td>8</td><td>⋯</td><td>0.02758621</td><td>0.013793103</td><td>0.029885057</td><td>1</td><td> 6</td><td>11.44737</td><td>0.60796</td><td>0.44839</td><td>0.051389</td><td>1.3559</td></tr>\n",
       "\t<tr><td>VLOG10 </td><td>11</td><td>13</td><td>285.22</td><td>0.01853900</td><td>0.42100</td><td>479</td><td>10</td><td>19</td><td>7</td><td>⋯</td><td>0.01336303</td><td>0.017817372</td><td>0.004454343</td><td>1</td><td> 8</td><td>21.38095</td><td>0.76182</td><td>0.30559</td><td>0.029340</td><td>2.4930</td></tr>\n",
       "\t<tr><td>VLOG100</td><td> 4</td><td>12</td><td>141.96</td><td>0.00393440</td><td>0.19332</td><td>229</td><td> 0</td><td> 9</td><td>0</td><td>⋯</td><td>0.09897611</td><td>0.000000000</td><td>0.000000000</td><td>0</td><td> 0</td><td>24.41667</td><td>0.56062</td><td>0.51625</td><td>0.051806</td><td>1.0859</td></tr>\n",
       "\t<tr><td>VLOG102</td><td>10</td><td>42</td><td>226.56</td><td>0.00493530</td><td>0.30051</td><td>995</td><td> 4</td><td>50</td><td>7</td><td>⋯</td><td>0.06983655</td><td>0.012630015</td><td>0.005943536</td><td>0</td><td>17</td><td>10.51562</td><td>0.59995</td><td>0.39872</td><td>0.038547</td><td>1.5047</td></tr>\n",
       "\t<tr><td>VLOG103</td><td>17</td><td>28</td><td>208.49</td><td>0.00948890</td><td>0.26597</td><td>508</td><td> 0</td><td>19</td><td>4</td><td>⋯</td><td>0.12483745</td><td>0.001300390</td><td>0.010403121</td><td>0</td><td> 1</td><td>11.30882</td><td>0.44812</td><td>0.31675</td><td>0.041071</td><td>1.4147</td></tr>\n",
       "\t<tr><td>VLOG104</td><td> 2</td><td>19</td><td>213.54</td><td>0.00012061</td><td>0.20300</td><td>708</td><td> 2</td><td>15</td><td>0</td><td>⋯</td><td>0.01522843</td><td>0.002538071</td><td>0.005076142</td><td>0</td><td> 2</td><td>29.18519</td><td>0.72873</td><td>0.40011</td><td>0.052709</td><td>1.8213</td></tr>\n",
       "</tbody>\n",
       "</table>\n"
      ],
      "text/latex": [
       "A tibble: 6 × 37\n",
       "\\begin{tabular}{lllllllllllllllllllll}\n",
       " vlogId & negative\\_bing & positive\\_bing & mean.pitch & mean.energy & avg.voiced.seg & sum & anger & anticipation & disgust & ⋯ & freq\\_i & freq\\_we & negation\\_freq & swear\\_count & we\\_count & mean\\_n\\_words & time.speaking & num.turns & voice.rate & avg.len.seg\\\\\n",
       " <chr> & <dbl> & <dbl> & <dbl> & <dbl> & <dbl> & <dbl> & <dbl> & <dbl> & <dbl> & ⋯ & <dbl> & <dbl> & <dbl> & <int> & <int> & <dbl> & <dbl> & <dbl> & <dbl> & <dbl>\\\\\n",
       "\\hline\n",
       "\t VLOG1   &  9 & 21 & 178.15 & 0.06144900 & 0.18441 & 329 &  8 & 10 & 8 & ⋯ & 0.02758621 & 0.013793103 & 0.029885057 & 1 &  6 & 11.44737 & 0.60796 & 0.44839 & 0.051389 & 1.3559\\\\\n",
       "\t VLOG10  & 11 & 13 & 285.22 & 0.01853900 & 0.42100 & 479 & 10 & 19 & 7 & ⋯ & 0.01336303 & 0.017817372 & 0.004454343 & 1 &  8 & 21.38095 & 0.76182 & 0.30559 & 0.029340 & 2.4930\\\\\n",
       "\t VLOG100 &  4 & 12 & 141.96 & 0.00393440 & 0.19332 & 229 &  0 &  9 & 0 & ⋯ & 0.09897611 & 0.000000000 & 0.000000000 & 0 &  0 & 24.41667 & 0.56062 & 0.51625 & 0.051806 & 1.0859\\\\\n",
       "\t VLOG102 & 10 & 42 & 226.56 & 0.00493530 & 0.30051 & 995 &  4 & 50 & 7 & ⋯ & 0.06983655 & 0.012630015 & 0.005943536 & 0 & 17 & 10.51562 & 0.59995 & 0.39872 & 0.038547 & 1.5047\\\\\n",
       "\t VLOG103 & 17 & 28 & 208.49 & 0.00948890 & 0.26597 & 508 &  0 & 19 & 4 & ⋯ & 0.12483745 & 0.001300390 & 0.010403121 & 0 &  1 & 11.30882 & 0.44812 & 0.31675 & 0.041071 & 1.4147\\\\\n",
       "\t VLOG104 &  2 & 19 & 213.54 & 0.00012061 & 0.20300 & 708 &  2 & 15 & 0 & ⋯ & 0.01522843 & 0.002538071 & 0.005076142 & 0 &  2 & 29.18519 & 0.72873 & 0.40011 & 0.052709 & 1.8213\\\\\n",
       "\\end{tabular}\n"
      ],
      "text/markdown": [
       "\n",
       "A tibble: 6 × 37\n",
       "\n",
       "| vlogId &lt;chr&gt; | negative_bing &lt;dbl&gt; | positive_bing &lt;dbl&gt; | mean.pitch &lt;dbl&gt; | mean.energy &lt;dbl&gt; | avg.voiced.seg &lt;dbl&gt; | sum &lt;dbl&gt; | anger &lt;dbl&gt; | anticipation &lt;dbl&gt; | disgust &lt;dbl&gt; | ⋯ ⋯ | freq_i &lt;dbl&gt; | freq_we &lt;dbl&gt; | negation_freq &lt;dbl&gt; | swear_count &lt;int&gt; | we_count &lt;int&gt; | mean_n_words &lt;dbl&gt; | time.speaking &lt;dbl&gt; | num.turns &lt;dbl&gt; | voice.rate &lt;dbl&gt; | avg.len.seg &lt;dbl&gt; |\n",
       "|---|---|---|---|---|---|---|---|---|---|---|---|---|---|---|---|---|---|---|---|---|\n",
       "| VLOG1   |  9 | 21 | 178.15 | 0.06144900 | 0.18441 | 329 |  8 | 10 | 8 | ⋯ | 0.02758621 | 0.013793103 | 0.029885057 | 1 |  6 | 11.44737 | 0.60796 | 0.44839 | 0.051389 | 1.3559 |\n",
       "| VLOG10  | 11 | 13 | 285.22 | 0.01853900 | 0.42100 | 479 | 10 | 19 | 7 | ⋯ | 0.01336303 | 0.017817372 | 0.004454343 | 1 |  8 | 21.38095 | 0.76182 | 0.30559 | 0.029340 | 2.4930 |\n",
       "| VLOG100 |  4 | 12 | 141.96 | 0.00393440 | 0.19332 | 229 |  0 |  9 | 0 | ⋯ | 0.09897611 | 0.000000000 | 0.000000000 | 0 |  0 | 24.41667 | 0.56062 | 0.51625 | 0.051806 | 1.0859 |\n",
       "| VLOG102 | 10 | 42 | 226.56 | 0.00493530 | 0.30051 | 995 |  4 | 50 | 7 | ⋯ | 0.06983655 | 0.012630015 | 0.005943536 | 0 | 17 | 10.51562 | 0.59995 | 0.39872 | 0.038547 | 1.5047 |\n",
       "| VLOG103 | 17 | 28 | 208.49 | 0.00948890 | 0.26597 | 508 |  0 | 19 | 4 | ⋯ | 0.12483745 | 0.001300390 | 0.010403121 | 0 |  1 | 11.30882 | 0.44812 | 0.31675 | 0.041071 | 1.4147 |\n",
       "| VLOG104 |  2 | 19 | 213.54 | 0.00012061 | 0.20300 | 708 |  2 | 15 | 0 | ⋯ | 0.01522843 | 0.002538071 | 0.005076142 | 0 |  2 | 29.18519 | 0.72873 | 0.40011 | 0.052709 | 1.8213 |\n",
       "\n"
      ],
      "text/plain": [
       "  vlogId  negative_bing positive_bing mean.pitch mean.energy avg.voiced.seg sum\n",
       "1 VLOG1    9            21            178.15     0.06144900  0.18441        329\n",
       "2 VLOG10  11            13            285.22     0.01853900  0.42100        479\n",
       "3 VLOG100  4            12            141.96     0.00393440  0.19332        229\n",
       "4 VLOG102 10            42            226.56     0.00493530  0.30051        995\n",
       "5 VLOG103 17            28            208.49     0.00948890  0.26597        508\n",
       "6 VLOG104  2            19            213.54     0.00012061  0.20300        708\n",
       "  anger anticipation disgust ⋯ freq_i     freq_we     negation_freq swear_count\n",
       "1  8    10           8       ⋯ 0.02758621 0.013793103 0.029885057   1          \n",
       "2 10    19           7       ⋯ 0.01336303 0.017817372 0.004454343   1          \n",
       "3  0     9           0       ⋯ 0.09897611 0.000000000 0.000000000   0          \n",
       "4  4    50           7       ⋯ 0.06983655 0.012630015 0.005943536   0          \n",
       "5  0    19           4       ⋯ 0.12483745 0.001300390 0.010403121   0          \n",
       "6  2    15           0       ⋯ 0.01522843 0.002538071 0.005076142   0          \n",
       "  we_count mean_n_words time.speaking num.turns voice.rate avg.len.seg\n",
       "1  6       11.44737     0.60796       0.44839   0.051389   1.3559     \n",
       "2  8       21.38095     0.76182       0.30559   0.029340   2.4930     \n",
       "3  0       24.41667     0.56062       0.51625   0.051806   1.0859     \n",
       "4 17       10.51562     0.59995       0.39872   0.038547   1.5047     \n",
       "5  1       11.30882     0.44812       0.31675   0.041071   1.4147     \n",
       "6  2       29.18519     0.72873       0.40011   0.052709   1.8213     "
      ]
     },
     "metadata": {},
     "output_type": "display_data"
    },
    {
     "data": {
      "text/html": [
       "FALSE"
      ],
      "text/latex": [
       "FALSE"
      ],
      "text/markdown": [
       "FALSE"
      ],
      "text/plain": [
       "[1] FALSE"
      ]
     },
     "metadata": {},
     "output_type": "display_data"
    }
   ],
   "source": [
    "# Here goes YOUR CODE to compute the dataframe `transcript_features_df\n",
    "\n",
    "transcript_features_df <- tibble(vlogId) %>%\n",
    "    left_join(bing_feature) %>%\n",
    "    left_join(intonation_feature) %>%\n",
    "    left_join(syl_feature) %>%\n",
    "    left_join(nrc_feature) %>%\n",
    "    left_join(um_feature) %>%\n",
    "    left_join(question_feature) %>%\n",
    "    left_join(pause_feature) %>%\n",
    "    left_join(selfreference_feature) %>%\n",
    "    left_join(afinn_feature) %>%\n",
    "    left_join(char_len_feature) %>%\n",
    "    left_join(wMEi_feature) %>%\n",
    "    left_join(i_we_feature) %>%\n",
    "    left_join(negation_feature) %>% \n",
    "    left_join(swear_feature) %>%\n",
    "    left_join(we_feature) %>%\n",
    "    left_join(mean_word_per_sentence_feature) %>%\n",
    "    left_join(speech_feature)\n",
    "\n",
    "head(transcript_features_df)\n",
    "any(is.na(transcript_features_df))"
   ]
  },
  {
   "cell_type": "markdown",
   "id": "97bf419b",
   "metadata": {
    "papermill": {
     "duration": 0.086751,
     "end_time": "2021-12-29T17:13:06.392885",
     "exception": false,
     "start_time": "2021-12-29T17:13:06.306134",
     "status": "completed"
    },
    "tags": []
   },
   "source": [
    "# 6. Checking for Correlation and Near Zero Variances among predictors"
   ]
  },
  {
   "cell_type": "code",
   "execution_count": 32,
   "id": "485fe814",
   "metadata": {
    "execution": {
     "iopub.execute_input": "2021-12-29T17:13:06.571511Z",
     "iopub.status.busy": "2021-12-29T17:13:06.570880Z",
     "iopub.status.idle": "2021-12-29T17:13:06.757272Z",
     "shell.execute_reply": "2021-12-29T17:13:06.732290Z"
    },
    "papermill": {
     "duration": 0.278195,
     "end_time": "2021-12-29T17:13:06.757472",
     "exception": false,
     "start_time": "2021-12-29T17:13:06.479277",
     "status": "completed"
    },
    "tags": []
   },
   "outputs": [
    {
     "name": "stdout",
     "output_type": "stream",
     "text": [
      " int(0) \n"
     ]
    },
    {
     "name": "stderr",
     "output_type": "stream",
     "text": [
      "Loading required package: lattice\n",
      "\n",
      "\n",
      "Attaching package: ‘caret’\n",
      "\n",
      "\n",
      "The following object is masked from ‘package:purrr’:\n",
      "\n",
      "    lift\n",
      "\n",
      "\n",
      "The following object is masked from ‘package:httr’:\n",
      "\n",
      "    progress\n",
      "\n",
      "\n"
     ]
    },
    {
     "name": "stdout",
     "output_type": "stream",
     "text": [
      " num [1:4] 7 14 13 33\n"
     ]
    }
   ],
   "source": [
    "near_zero <- caret::nearZeroVar(transcript_features_df)\n",
    "\n",
    "# There are no variables found that have near zero variation\n",
    "\n",
    "glimpse(near_zero) \n",
    "\n",
    "# Check if there are highly correlated features \n",
    "\n",
    "library(caret)\n",
    "library(dplyr)\n",
    "total_correlation_matrix <- cor(transcript_features_df[,-1]) \n",
    "high_total_r <- total_correlation_matrix %>%\n",
    "    findCorrelation(cutoff = 0.9) + 1 \n",
    "\n",
    "glimpse(high_total_r)\n",
    "\n",
    "# Omit missing values\n",
    "final_features <- transcript_features_df[-high_total_r]\n"
   ]
  },
  {
   "cell_type": "markdown",
   "id": "c1358a3e",
   "metadata": {
    "_cell_guid": "db396ed9-f94c-48f9-b2ac-1be5792d2a89",
    "_uuid": "f8ba05cf-8815-4bb2-b49b-9eccdd6c2762",
    "papermill": {
     "duration": 0.088339,
     "end_time": "2021-12-29T17:13:06.935190",
     "exception": false,
     "start_time": "2021-12-29T17:13:06.846851",
     "status": "completed"
    },
    "tags": []
   },
   "source": [
    "Once you have computed features from the transcript texts and stored it in a data frame, merge it with the `vlogger_df` dataframe:"
   ]
  },
  {
   "cell_type": "code",
   "execution_count": 33,
   "id": "403345f2",
   "metadata": {
    "_cell_guid": "f8532d3c-a6d0-430b-82bc-496bc93587e6",
    "_uuid": "471f379b-78cb-40bc-a81a-4e74969ec4d6",
    "collapsed": false,
    "execution": {
     "iopub.execute_input": "2021-12-29T17:13:07.130158Z",
     "iopub.status.busy": "2021-12-29T17:13:07.128446Z",
     "iopub.status.idle": "2021-12-29T17:13:07.178461Z",
     "shell.execute_reply": "2021-12-29T17:13:07.176927Z"
    },
    "jupyter": {
     "outputs_hidden": false
    },
    "papermill": {
     "duration": 0.154034,
     "end_time": "2021-12-29T17:13:07.178617",
     "exception": false,
     "start_time": "2021-12-29T17:13:07.024583",
     "status": "completed"
    },
    "tags": []
   },
   "outputs": [
    {
     "name": "stderr",
     "output_type": "stream",
     "text": [
      "Joining, by = \"vlogId\"\n",
      "\n"
     ]
    },
    {
     "data": {
      "text/html": [
       "<table class=\"dataframe\">\n",
       "<caption>A data.frame: 6 × 39</caption>\n",
       "<thead>\n",
       "\t<tr><th></th><th scope=col>vlogId</th><th scope=col>gender</th><th scope=col>Extr</th><th scope=col>Agr</th><th scope=col>Cons</th><th scope=col>Emot</th><th scope=col>Open</th><th scope=col>negative_bing</th><th scope=col>positive_bing</th><th scope=col>mean.pitch</th><th scope=col>⋯</th><th scope=col>hogv.cogC</th><th scope=col>freq_i</th><th scope=col>freq_we</th><th scope=col>negation_freq</th><th scope=col>swear_count</th><th scope=col>we_count</th><th scope=col>time.speaking</th><th scope=col>num.turns</th><th scope=col>voice.rate</th><th scope=col>avg.len.seg</th></tr>\n",
       "\t<tr><th></th><th scope=col>&lt;chr&gt;</th><th scope=col>&lt;chr&gt;</th><th scope=col>&lt;dbl&gt;</th><th scope=col>&lt;dbl&gt;</th><th scope=col>&lt;dbl&gt;</th><th scope=col>&lt;dbl&gt;</th><th scope=col>&lt;dbl&gt;</th><th scope=col>&lt;dbl&gt;</th><th scope=col>&lt;dbl&gt;</th><th scope=col>&lt;dbl&gt;</th><th scope=col>⋯</th><th scope=col>&lt;dbl&gt;</th><th scope=col>&lt;dbl&gt;</th><th scope=col>&lt;dbl&gt;</th><th scope=col>&lt;dbl&gt;</th><th scope=col>&lt;int&gt;</th><th scope=col>&lt;int&gt;</th><th scope=col>&lt;dbl&gt;</th><th scope=col>&lt;dbl&gt;</th><th scope=col>&lt;dbl&gt;</th><th scope=col>&lt;dbl&gt;</th></tr>\n",
       "</thead>\n",
       "<tbody>\n",
       "\t<tr><th scope=row>1</th><td>VLOG3</td><td>Female</td><td>5.0</td><td>5.0</td><td>4.6</td><td>5.3</td><td>4.4</td><td> 2</td><td>18</td><td>239.32</td><td>⋯</td><td>164</td><td>0.01600000</td><td>0.000000000</td><td>0.002666667</td><td>0</td><td> 0</td><td>0.51374</td><td>0.50013</td><td>0.057632</td><td>1.02720</td></tr>\n",
       "\t<tr><th scope=row>2</th><td>VLOG5</td><td>Male  </td><td>5.9</td><td>5.3</td><td>5.3</td><td>5.8</td><td>5.5</td><td> 1</td><td>15</td><td>173.50</td><td>⋯</td><td>156</td><td>0.07088608</td><td>0.002531646</td><td>0.002531646</td><td>0</td><td> 1</td><td>0.70205</td><td>0.31675</td><td>0.037614</td><td>2.21640</td></tr>\n",
       "\t<tr><th scope=row>3</th><td>VLOG6</td><td>Male  </td><td>5.4</td><td>4.8</td><td>4.4</td><td>4.8</td><td>5.7</td><td>11</td><td>17</td><td>201.28</td><td>⋯</td><td>179</td><td>0.07556270</td><td>0.006430868</td><td>0.004823151</td><td>0</td><td> 4</td><td>0.75993</td><td>0.29976</td><td>0.048036</td><td>2.53510</td></tr>\n",
       "\t<tr><th scope=row>4</th><td>VLOG7</td><td>Male  </td><td>4.7</td><td>5.1</td><td>4.4</td><td>5.1</td><td>4.7</td><td>17</td><td>32</td><td>275.68</td><td>⋯</td><td>156</td><td>0.06055901</td><td>0.001552795</td><td>0.000000000</td><td>1</td><td> 1</td><td>0.60069</td><td>0.34916</td><td>0.024801</td><td>1.72040</td></tr>\n",
       "\t<tr><th scope=row>5</th><td>VLOG8</td><td>Female</td><td> NA</td><td> NA</td><td> NA</td><td> NA</td><td> NA</td><td> 8</td><td>19</td><td>255.58</td><td>⋯</td><td>178</td><td>0.07395498</td><td>0.000000000</td><td>0.006430868</td><td>0</td><td> 0</td><td>0.46439</td><td>0.55015</td><td>0.056864</td><td>0.84412</td></tr>\n",
       "\t<tr><th scope=row>6</th><td>VLOG9</td><td>Female</td><td>5.6</td><td>5.0</td><td>4.0</td><td>4.2</td><td>4.9</td><td>30</td><td>33</td><td>230.75</td><td>⋯</td><td>156</td><td>0.06071019</td><td>0.016036655</td><td>0.004581901</td><td>0</td><td>14</td><td>0.67458</td><td>0.41678</td><td>0.054172</td><td>1.61860</td></tr>\n",
       "</tbody>\n",
       "</table>\n"
      ],
      "text/latex": [
       "A data.frame: 6 × 39\n",
       "\\begin{tabular}{r|lllllllllllllllllllll}\n",
       "  & vlogId & gender & Extr & Agr & Cons & Emot & Open & negative\\_bing & positive\\_bing & mean.pitch & ⋯ & hogv.cogC & freq\\_i & freq\\_we & negation\\_freq & swear\\_count & we\\_count & time.speaking & num.turns & voice.rate & avg.len.seg\\\\\n",
       "  & <chr> & <chr> & <dbl> & <dbl> & <dbl> & <dbl> & <dbl> & <dbl> & <dbl> & <dbl> & ⋯ & <dbl> & <dbl> & <dbl> & <dbl> & <int> & <int> & <dbl> & <dbl> & <dbl> & <dbl>\\\\\n",
       "\\hline\n",
       "\t1 & VLOG3 & Female & 5.0 & 5.0 & 4.6 & 5.3 & 4.4 &  2 & 18 & 239.32 & ⋯ & 164 & 0.01600000 & 0.000000000 & 0.002666667 & 0 &  0 & 0.51374 & 0.50013 & 0.057632 & 1.02720\\\\\n",
       "\t2 & VLOG5 & Male   & 5.9 & 5.3 & 5.3 & 5.8 & 5.5 &  1 & 15 & 173.50 & ⋯ & 156 & 0.07088608 & 0.002531646 & 0.002531646 & 0 &  1 & 0.70205 & 0.31675 & 0.037614 & 2.21640\\\\\n",
       "\t3 & VLOG6 & Male   & 5.4 & 4.8 & 4.4 & 4.8 & 5.7 & 11 & 17 & 201.28 & ⋯ & 179 & 0.07556270 & 0.006430868 & 0.004823151 & 0 &  4 & 0.75993 & 0.29976 & 0.048036 & 2.53510\\\\\n",
       "\t4 & VLOG7 & Male   & 4.7 & 5.1 & 4.4 & 5.1 & 4.7 & 17 & 32 & 275.68 & ⋯ & 156 & 0.06055901 & 0.001552795 & 0.000000000 & 1 &  1 & 0.60069 & 0.34916 & 0.024801 & 1.72040\\\\\n",
       "\t5 & VLOG8 & Female &  NA &  NA &  NA &  NA &  NA &  8 & 19 & 255.58 & ⋯ & 178 & 0.07395498 & 0.000000000 & 0.006430868 & 0 &  0 & 0.46439 & 0.55015 & 0.056864 & 0.84412\\\\\n",
       "\t6 & VLOG9 & Female & 5.6 & 5.0 & 4.0 & 4.2 & 4.9 & 30 & 33 & 230.75 & ⋯ & 156 & 0.06071019 & 0.016036655 & 0.004581901 & 0 & 14 & 0.67458 & 0.41678 & 0.054172 & 1.61860\\\\\n",
       "\\end{tabular}\n"
      ],
      "text/markdown": [
       "\n",
       "A data.frame: 6 × 39\n",
       "\n",
       "| <!--/--> | vlogId &lt;chr&gt; | gender &lt;chr&gt; | Extr &lt;dbl&gt; | Agr &lt;dbl&gt; | Cons &lt;dbl&gt; | Emot &lt;dbl&gt; | Open &lt;dbl&gt; | negative_bing &lt;dbl&gt; | positive_bing &lt;dbl&gt; | mean.pitch &lt;dbl&gt; | ⋯ ⋯ | hogv.cogC &lt;dbl&gt; | freq_i &lt;dbl&gt; | freq_we &lt;dbl&gt; | negation_freq &lt;dbl&gt; | swear_count &lt;int&gt; | we_count &lt;int&gt; | time.speaking &lt;dbl&gt; | num.turns &lt;dbl&gt; | voice.rate &lt;dbl&gt; | avg.len.seg &lt;dbl&gt; |\n",
       "|---|---|---|---|---|---|---|---|---|---|---|---|---|---|---|---|---|---|---|---|---|---|\n",
       "| 1 | VLOG3 | Female | 5.0 | 5.0 | 4.6 | 5.3 | 4.4 |  2 | 18 | 239.32 | ⋯ | 164 | 0.01600000 | 0.000000000 | 0.002666667 | 0 |  0 | 0.51374 | 0.50013 | 0.057632 | 1.02720 |\n",
       "| 2 | VLOG5 | Male   | 5.9 | 5.3 | 5.3 | 5.8 | 5.5 |  1 | 15 | 173.50 | ⋯ | 156 | 0.07088608 | 0.002531646 | 0.002531646 | 0 |  1 | 0.70205 | 0.31675 | 0.037614 | 2.21640 |\n",
       "| 3 | VLOG6 | Male   | 5.4 | 4.8 | 4.4 | 4.8 | 5.7 | 11 | 17 | 201.28 | ⋯ | 179 | 0.07556270 | 0.006430868 | 0.004823151 | 0 |  4 | 0.75993 | 0.29976 | 0.048036 | 2.53510 |\n",
       "| 4 | VLOG7 | Male   | 4.7 | 5.1 | 4.4 | 5.1 | 4.7 | 17 | 32 | 275.68 | ⋯ | 156 | 0.06055901 | 0.001552795 | 0.000000000 | 1 |  1 | 0.60069 | 0.34916 | 0.024801 | 1.72040 |\n",
       "| 5 | VLOG8 | Female |  NA |  NA |  NA |  NA |  NA |  8 | 19 | 255.58 | ⋯ | 178 | 0.07395498 | 0.000000000 | 0.006430868 | 0 |  0 | 0.46439 | 0.55015 | 0.056864 | 0.84412 |\n",
       "| 6 | VLOG9 | Female | 5.6 | 5.0 | 4.0 | 4.2 | 4.9 | 30 | 33 | 230.75 | ⋯ | 156 | 0.06071019 | 0.016036655 | 0.004581901 | 0 | 14 | 0.67458 | 0.41678 | 0.054172 | 1.61860 |\n",
       "\n"
      ],
      "text/plain": [
       "  vlogId gender Extr Agr Cons Emot Open negative_bing positive_bing mean.pitch\n",
       "1 VLOG3  Female 5.0  5.0 4.6  5.3  4.4   2            18            239.32    \n",
       "2 VLOG5  Male   5.9  5.3 5.3  5.8  5.5   1            15            173.50    \n",
       "3 VLOG6  Male   5.4  4.8 4.4  4.8  5.7  11            17            201.28    \n",
       "4 VLOG7  Male   4.7  5.1 4.4  5.1  4.7  17            32            275.68    \n",
       "5 VLOG8  Female  NA   NA  NA   NA   NA   8            19            255.58    \n",
       "6 VLOG9  Female 5.6  5.0 4.0  4.2  4.9  30            33            230.75    \n",
       "  ⋯ hogv.cogC freq_i     freq_we     negation_freq swear_count we_count\n",
       "1 ⋯ 164       0.01600000 0.000000000 0.002666667   0            0      \n",
       "2 ⋯ 156       0.07088608 0.002531646 0.002531646   0            1      \n",
       "3 ⋯ 179       0.07556270 0.006430868 0.004823151   0            4      \n",
       "4 ⋯ 156       0.06055901 0.001552795 0.000000000   1            1      \n",
       "5 ⋯ 178       0.07395498 0.000000000 0.006430868   0            0      \n",
       "6 ⋯ 156       0.06071019 0.016036655 0.004581901   0           14      \n",
       "  time.speaking num.turns voice.rate avg.len.seg\n",
       "1 0.51374       0.50013   0.057632   1.02720    \n",
       "2 0.70205       0.31675   0.037614   2.21640    \n",
       "3 0.75993       0.29976   0.048036   2.53510    \n",
       "4 0.60069       0.34916   0.024801   1.72040    \n",
       "5 0.46439       0.55015   0.056864   0.84412    \n",
       "6 0.67458       0.41678   0.054172   1.61860    "
      ]
     },
     "metadata": {},
     "output_type": "display_data"
    }
   ],
   "source": [
    "# YOUR CODE to merge `vlogger_df` with `transcript_features_df`\n",
    "\n",
    "our_df <- vlogger_df %>% \n",
    "    left_join(final_features)\n",
    "head(our_df)"
   ]
  },
  {
   "cell_type": "markdown",
   "id": "16d9a2c5",
   "metadata": {
    "_cell_guid": "ba49ed13-9045-4b21-9f2e-09b58bc02b41",
    "_uuid": "54aafd4b-9834-4086-8030-702069f39518",
    "papermill": {
     "duration": 0.089619,
     "end_time": "2021-12-29T17:13:07.359991",
     "exception": false,
     "start_time": "2021-12-29T17:13:07.270372",
     "status": "completed"
    },
    "tags": []
   },
   "source": [
    "# 7. Model Selection\n",
    "\n",
    "Next you fit your predictive model(s). For instance, a linear regression model that only uses `gender` a feature might be:"
   ]
  },
  {
   "cell_type": "markdown",
   "id": "8f72533e",
   "metadata": {
    "papermill": {
     "duration": 0.092244,
     "end_time": "2021-12-29T17:13:07.541343",
     "exception": false,
     "start_time": "2021-12-29T17:13:07.449099",
     "status": "completed"
    },
    "tags": []
   },
   "source": [
    "## 7.1 Inflexible Models"
   ]
  },
  {
   "cell_type": "markdown",
   "id": "f21bf9ce",
   "metadata": {
    "papermill": {
     "duration": 0.091203,
     "end_time": "2021-12-29T17:13:07.727652",
     "exception": false,
     "start_time": "2021-12-29T17:13:07.636449",
     "status": "completed"
    },
    "tags": []
   },
   "source": [
    "### 7.1.1 Overall Predictive Model"
   ]
  },
  {
   "cell_type": "code",
   "execution_count": 34,
   "id": "ab848677",
   "metadata": {
    "execution": {
     "iopub.execute_input": "2021-12-29T17:13:07.913902Z",
     "iopub.status.busy": "2021-12-29T17:13:07.912192Z",
     "iopub.status.idle": "2021-12-29T17:13:07.940175Z",
     "shell.execute_reply": "2021-12-29T17:13:07.938642Z"
    },
    "papermill": {
     "duration": 0.123413,
     "end_time": "2021-12-29T17:13:07.940337",
     "exception": false,
     "start_time": "2021-12-29T17:13:07.816924",
     "status": "completed"
    },
    "tags": []
   },
   "outputs": [
    {
     "data": {
      "text/html": [
       "<style>\n",
       ".list-inline {list-style: none; margin:0; padding: 0}\n",
       ".list-inline>li {display: inline-block}\n",
       ".list-inline>li:not(:last-child)::after {content: \"\\00b7\"; padding: 0 .5ex}\n",
       "</style>\n",
       "<ol class=list-inline><li>'vlogId'</li><li>'gender'</li><li>'Extr'</li><li>'Agr'</li><li>'Cons'</li><li>'Emot'</li><li>'Open'</li><li>'negative_bing'</li><li>'positive_bing'</li><li>'mean.pitch'</li><li>'mean.energy'</li><li>'avg.voiced.seg'</li><li>'anger'</li><li>'anticipation'</li><li>'disgust'</li><li>'fear'</li><li>'joy'</li><li>'sadness'</li><li>'surprise'</li><li>'trust'</li><li>'um_count'</li><li>'quest_count'</li><li>'pause_count'</li><li>'self_count'</li><li>'afinn_mean'</li><li>'avg_char_len'</li><li>'hogv.entropy'</li><li>'hogv.median'</li><li>'hogv.cogR'</li><li>'hogv.cogC'</li><li>'freq_i'</li><li>'freq_we'</li><li>'negation_freq'</li><li>'swear_count'</li><li>'we_count'</li><li>'time.speaking'</li><li>'num.turns'</li><li>'voice.rate'</li><li>'avg.len.seg'</li></ol>\n"
      ],
      "text/latex": [
       "\\begin{enumerate*}\n",
       "\\item 'vlogId'\n",
       "\\item 'gender'\n",
       "\\item 'Extr'\n",
       "\\item 'Agr'\n",
       "\\item 'Cons'\n",
       "\\item 'Emot'\n",
       "\\item 'Open'\n",
       "\\item 'negative\\_bing'\n",
       "\\item 'positive\\_bing'\n",
       "\\item 'mean.pitch'\n",
       "\\item 'mean.energy'\n",
       "\\item 'avg.voiced.seg'\n",
       "\\item 'anger'\n",
       "\\item 'anticipation'\n",
       "\\item 'disgust'\n",
       "\\item 'fear'\n",
       "\\item 'joy'\n",
       "\\item 'sadness'\n",
       "\\item 'surprise'\n",
       "\\item 'trust'\n",
       "\\item 'um\\_count'\n",
       "\\item 'quest\\_count'\n",
       "\\item 'pause\\_count'\n",
       "\\item 'self\\_count'\n",
       "\\item 'afinn\\_mean'\n",
       "\\item 'avg\\_char\\_len'\n",
       "\\item 'hogv.entropy'\n",
       "\\item 'hogv.median'\n",
       "\\item 'hogv.cogR'\n",
       "\\item 'hogv.cogC'\n",
       "\\item 'freq\\_i'\n",
       "\\item 'freq\\_we'\n",
       "\\item 'negation\\_freq'\n",
       "\\item 'swear\\_count'\n",
       "\\item 'we\\_count'\n",
       "\\item 'time.speaking'\n",
       "\\item 'num.turns'\n",
       "\\item 'voice.rate'\n",
       "\\item 'avg.len.seg'\n",
       "\\end{enumerate*}\n"
      ],
      "text/markdown": [
       "1. 'vlogId'\n",
       "2. 'gender'\n",
       "3. 'Extr'\n",
       "4. 'Agr'\n",
       "5. 'Cons'\n",
       "6. 'Emot'\n",
       "7. 'Open'\n",
       "8. 'negative_bing'\n",
       "9. 'positive_bing'\n",
       "10. 'mean.pitch'\n",
       "11. 'mean.energy'\n",
       "12. 'avg.voiced.seg'\n",
       "13. 'anger'\n",
       "14. 'anticipation'\n",
       "15. 'disgust'\n",
       "16. 'fear'\n",
       "17. 'joy'\n",
       "18. 'sadness'\n",
       "19. 'surprise'\n",
       "20. 'trust'\n",
       "21. 'um_count'\n",
       "22. 'quest_count'\n",
       "23. 'pause_count'\n",
       "24. 'self_count'\n",
       "25. 'afinn_mean'\n",
       "26. 'avg_char_len'\n",
       "27. 'hogv.entropy'\n",
       "28. 'hogv.median'\n",
       "29. 'hogv.cogR'\n",
       "30. 'hogv.cogC'\n",
       "31. 'freq_i'\n",
       "32. 'freq_we'\n",
       "33. 'negation_freq'\n",
       "34. 'swear_count'\n",
       "35. 'we_count'\n",
       "36. 'time.speaking'\n",
       "37. 'num.turns'\n",
       "38. 'voice.rate'\n",
       "39. 'avg.len.seg'\n",
       "\n",
       "\n"
      ],
      "text/plain": [
       " [1] \"vlogId\"         \"gender\"         \"Extr\"           \"Agr\"           \n",
       " [5] \"Cons\"           \"Emot\"           \"Open\"           \"negative_bing\" \n",
       " [9] \"positive_bing\"  \"mean.pitch\"     \"mean.energy\"    \"avg.voiced.seg\"\n",
       "[13] \"anger\"          \"anticipation\"   \"disgust\"        \"fear\"          \n",
       "[17] \"joy\"            \"sadness\"        \"surprise\"       \"trust\"         \n",
       "[21] \"um_count\"       \"quest_count\"    \"pause_count\"    \"self_count\"    \n",
       "[25] \"afinn_mean\"     \"avg_char_len\"   \"hogv.entropy\"   \"hogv.median\"   \n",
       "[29] \"hogv.cogR\"      \"hogv.cogC\"      \"freq_i\"         \"freq_we\"       \n",
       "[33] \"negation_freq\"  \"swear_count\"    \"we_count\"       \"time.speaking\" \n",
       "[37] \"num.turns\"      \"voice.rate\"     \"avg.len.seg\"   "
      ]
     },
     "metadata": {},
     "output_type": "display_data"
    }
   ],
   "source": [
    "colnames(our_df)\n",
    "\n",
    "fit_our_ml <- lm(cbind(Extr, Agr, Cons, Emot, Open) ~ gender + anger + anticipation + \n",
    "                         disgust + fear + joy + sadness + surprise + trust + positive_bing + \n",
    "                         negative_bing + um_count + quest_count + pause_count + mean.pitch + \n",
    "                         mean.energy + avg.voiced.seg + self_count + we_count + afinn_mean + avg_char_len +\n",
    "                         hogv.entropy + hogv.median + hogv.cogR + hogv.cogC + freq_i + freq_we + \n",
    "                         negation_freq + swear_count + time.speaking + num.turns + voice.rate + avg.len.seg, \n",
    "                         data = our_df)"
   ]
  },
  {
   "cell_type": "markdown",
   "id": "cf1471e0",
   "metadata": {
    "papermill": {
     "duration": 0.090902,
     "end_time": "2021-12-29T17:13:08.123885",
     "exception": false,
     "start_time": "2021-12-29T17:13:08.032983",
     "status": "completed"
    },
    "tags": []
   },
   "source": [
    "### 7.1.2 Model Selection"
   ]
  },
  {
   "cell_type": "code",
   "execution_count": 35,
   "id": "da083971",
   "metadata": {
    "execution": {
     "iopub.execute_input": "2021-12-29T17:13:08.313636Z",
     "iopub.status.busy": "2021-12-29T17:13:08.312010Z",
     "iopub.status.idle": "2021-12-29T17:13:09.349293Z",
     "shell.execute_reply": "2021-12-29T17:13:09.346107Z"
    },
    "papermill": {
     "duration": 1.132406,
     "end_time": "2021-12-29T17:13:09.349473",
     "exception": false,
     "start_time": "2021-12-29T17:13:08.217067",
     "status": "completed"
    },
    "tags": []
   },
   "outputs": [
    {
     "data": {
      "text/plain": [
       "\n",
       "Call:\n",
       "lm(formula = Extr ~ mean.pitch + mean.energy + anger + joy + \n",
       "    sadness + um_count + quest_count + hogv.entropy + hogv.median + \n",
       "    hogv.cogR + time.speaking, data = our_df[, -c(1, 4:7)])\n",
       "\n",
       "Residuals:\n",
       "     Min       1Q   Median       3Q      Max \n",
       "-2.48719 -0.57282  0.04516  0.62044  1.76524 \n",
       "\n",
       "Coefficients:\n",
       "               Estimate Std. Error t value Pr(>|t|)    \n",
       "(Intercept)    1.072176   0.519779   2.063 0.039966 *  \n",
       "mean.pitch     0.002011   0.000842   2.389 0.017509 *  \n",
       "mean.energy    4.112762   1.958541   2.100 0.036542 *  \n",
       "anger          0.016530   0.011668   1.417 0.157574    \n",
       "joy            0.021842   0.006399   3.413 0.000727 ***\n",
       "sadness       -0.028525   0.013224  -2.157 0.031769 *  \n",
       "um_count      -0.022102   0.005417  -4.081 5.72e-05 ***\n",
       "quest_count    0.037454   0.011395   3.287 0.001129 ** \n",
       "hogv.entropy   0.172778   0.049537   3.488 0.000557 ***\n",
       "hogv.median    0.966837   0.544539   1.776 0.076791 .  \n",
       "hogv.cogR      0.004496   0.002668   1.685 0.092927 .  \n",
       "time.speaking  1.721591   0.324093   5.312 2.07e-07 ***\n",
       "---\n",
       "Signif. codes:  0 ‘***’ 0.001 ‘**’ 0.01 ‘*’ 0.05 ‘.’ 0.1 ‘ ’ 1\n",
       "\n",
       "Residual standard error: 0.82 on 311 degrees of freedom\n",
       "  (80 observations deleted due to missingness)\n",
       "Multiple R-squared:  0.3061,\tAdjusted R-squared:  0.2816 \n",
       "F-statistic: 12.47 on 11 and 311 DF,  p-value: < 2.2e-16\n"
      ]
     },
     "metadata": {},
     "output_type": "display_data"
    },
    {
     "data": {
      "text/plain": [
       "\n",
       "Call:\n",
       "lm(formula = Extr ~ hogv.entropy + time.speaking + quest_count + \n",
       "    um_count + joy + mean.pitch + mean.energy + sadness + hogv.median + \n",
       "    hogv.cogR + anger, data = our_df[, -c(1, 4:7)])\n",
       "\n",
       "Residuals:\n",
       "     Min       1Q   Median       3Q      Max \n",
       "-2.48719 -0.57282  0.04516  0.62044  1.76524 \n",
       "\n",
       "Coefficients:\n",
       "               Estimate Std. Error t value Pr(>|t|)    \n",
       "(Intercept)    1.072176   0.519779   2.063 0.039966 *  \n",
       "hogv.entropy   0.172778   0.049537   3.488 0.000557 ***\n",
       "time.speaking  1.721591   0.324093   5.312 2.07e-07 ***\n",
       "quest_count    0.037454   0.011395   3.287 0.001129 ** \n",
       "um_count      -0.022102   0.005417  -4.081 5.72e-05 ***\n",
       "joy            0.021842   0.006399   3.413 0.000727 ***\n",
       "mean.pitch     0.002011   0.000842   2.389 0.017509 *  \n",
       "mean.energy    4.112762   1.958541   2.100 0.036542 *  \n",
       "sadness       -0.028525   0.013224  -2.157 0.031769 *  \n",
       "hogv.median    0.966837   0.544539   1.776 0.076791 .  \n",
       "hogv.cogR      0.004496   0.002668   1.685 0.092927 .  \n",
       "anger          0.016530   0.011668   1.417 0.157574    \n",
       "---\n",
       "Signif. codes:  0 ‘***’ 0.001 ‘**’ 0.01 ‘*’ 0.05 ‘.’ 0.1 ‘ ’ 1\n",
       "\n",
       "Residual standard error: 0.82 on 311 degrees of freedom\n",
       "  (80 observations deleted due to missingness)\n",
       "Multiple R-squared:  0.3061,\tAdjusted R-squared:  0.2816 \n",
       "F-statistic: 12.47 on 11 and 311 DF,  p-value: < 2.2e-16\n"
      ]
     },
     "metadata": {},
     "output_type": "display_data"
    },
    {
     "data": {
      "text/html": [
       "<table class=\"dataframe\">\n",
       "<caption>A Anova: 23 × 6</caption>\n",
       "<thead>\n",
       "\t<tr><th scope=col>Step</th><th scope=col>Df</th><th scope=col>Deviance</th><th scope=col>Resid. Df</th><th scope=col>Resid. Dev</th><th scope=col>AIC</th></tr>\n",
       "\t<tr><th scope=col>&lt;chr&gt;</th><th scope=col>&lt;dbl&gt;</th><th scope=col>&lt;dbl&gt;</th><th scope=col>&lt;dbl&gt;</th><th scope=col>&lt;dbl&gt;</th><th scope=col>&lt;dbl&gt;</th></tr>\n",
       "</thead>\n",
       "<tbody>\n",
       "\t<tr><td>                </td><td>NA</td><td>         NA</td><td>289</td><td>203.3840</td><td> -81.40570</td></tr>\n",
       "\t<tr><td>- afinn_mean    </td><td> 1</td><td>0.004902658</td><td>290</td><td>203.3889</td><td> -83.39792</td></tr>\n",
       "\t<tr><td>- negative_bing </td><td> 1</td><td>0.019555942</td><td>291</td><td>203.4085</td><td> -85.36686</td></tr>\n",
       "\t<tr><td>- disgust       </td><td> 1</td><td>0.011042691</td><td>292</td><td>203.4195</td><td> -87.34933</td></tr>\n",
       "\t<tr><td>- surprise      </td><td> 1</td><td>0.051585999</td><td>293</td><td>203.4711</td><td> -89.26743</td></tr>\n",
       "\t<tr><td>- avg_char_len  </td><td> 1</td><td>0.063378468</td><td>294</td><td>203.5345</td><td> -91.16683</td></tr>\n",
       "\t<tr><td>- self_count    </td><td> 1</td><td>0.076391574</td><td>295</td><td>203.6109</td><td> -93.04563</td></tr>\n",
       "\t<tr><td>- hogv.cogC     </td><td> 1</td><td>0.091221422</td><td>296</td><td>203.7021</td><td> -94.90095</td></tr>\n",
       "\t<tr><td>- we_count      </td><td> 1</td><td>0.097205872</td><td>297</td><td>203.7993</td><td> -96.74685</td></tr>\n",
       "\t<tr><td>- freq_we       </td><td> 1</td><td>0.120726103</td><td>298</td><td>203.9200</td><td> -98.55557</td></tr>\n",
       "\t<tr><td>- fear          </td><td> 1</td><td>0.162651152</td><td>299</td><td>204.0827</td><td>-100.29804</td></tr>\n",
       "\t<tr><td>- negation_freq </td><td> 1</td><td>0.185936057</td><td>300</td><td>204.2686</td><td>-102.00390</td></tr>\n",
       "\t<tr><td>- anticipation  </td><td> 1</td><td>0.211080351</td><td>301</td><td>204.4797</td><td>-103.67030</td></tr>\n",
       "\t<tr><td>- pause_count   </td><td> 1</td><td>0.249803234</td><td>302</td><td>204.7295</td><td>-105.27594</td></tr>\n",
       "\t<tr><td>- positive_bing </td><td> 1</td><td>0.271163437</td><td>303</td><td>205.0007</td><td>-106.84841</td></tr>\n",
       "\t<tr><td>- avg.voiced.seg</td><td> 1</td><td>0.298180769</td><td>304</td><td>205.2989</td><td>-108.37894</td></tr>\n",
       "\t<tr><td>- freq_i        </td><td> 1</td><td>0.369415557</td><td>305</td><td>205.6683</td><td>-109.79826</td></tr>\n",
       "\t<tr><td>- swear_count   </td><td> 1</td><td>0.475648686</td><td>306</td><td>206.1439</td><td>-111.05212</td></tr>\n",
       "\t<tr><td>- avg.len.seg   </td><td> 1</td><td>0.558673574</td><td>307</td><td>206.7026</td><td>-112.17793</td></tr>\n",
       "\t<tr><td>- num.turns     </td><td> 1</td><td>0.242297101</td><td>308</td><td>206.9449</td><td>-113.79953</td></tr>\n",
       "\t<tr><td>- trust         </td><td> 1</td><td>0.654292623</td><td>309</td><td>207.5992</td><td>-114.77992</td></tr>\n",
       "\t<tr><td>- voice.rate    </td><td> 1</td><td>0.699081157</td><td>310</td><td>208.2983</td><td>-115.69406</td></tr>\n",
       "\t<tr><td>- gender        </td><td> 1</td><td>0.798555769</td><td>311</td><td>209.0968</td><td>-116.45814</td></tr>\n",
       "</tbody>\n",
       "</table>\n"
      ],
      "text/latex": [
       "A Anova: 23 × 6\n",
       "\\begin{tabular}{llllll}\n",
       " Step & Df & Deviance & Resid. Df & Resid. Dev & AIC\\\\\n",
       " <chr> & <dbl> & <dbl> & <dbl> & <dbl> & <dbl>\\\\\n",
       "\\hline\n",
       "\t                  & NA &          NA & 289 & 203.3840 &  -81.40570\\\\\n",
       "\t - afinn\\_mean     &  1 & 0.004902658 & 290 & 203.3889 &  -83.39792\\\\\n",
       "\t - negative\\_bing  &  1 & 0.019555942 & 291 & 203.4085 &  -85.36686\\\\\n",
       "\t - disgust        &  1 & 0.011042691 & 292 & 203.4195 &  -87.34933\\\\\n",
       "\t - surprise       &  1 & 0.051585999 & 293 & 203.4711 &  -89.26743\\\\\n",
       "\t - avg\\_char\\_len   &  1 & 0.063378468 & 294 & 203.5345 &  -91.16683\\\\\n",
       "\t - self\\_count     &  1 & 0.076391574 & 295 & 203.6109 &  -93.04563\\\\\n",
       "\t - hogv.cogC      &  1 & 0.091221422 & 296 & 203.7021 &  -94.90095\\\\\n",
       "\t - we\\_count       &  1 & 0.097205872 & 297 & 203.7993 &  -96.74685\\\\\n",
       "\t - freq\\_we        &  1 & 0.120726103 & 298 & 203.9200 &  -98.55557\\\\\n",
       "\t - fear           &  1 & 0.162651152 & 299 & 204.0827 & -100.29804\\\\\n",
       "\t - negation\\_freq  &  1 & 0.185936057 & 300 & 204.2686 & -102.00390\\\\\n",
       "\t - anticipation   &  1 & 0.211080351 & 301 & 204.4797 & -103.67030\\\\\n",
       "\t - pause\\_count    &  1 & 0.249803234 & 302 & 204.7295 & -105.27594\\\\\n",
       "\t - positive\\_bing  &  1 & 0.271163437 & 303 & 205.0007 & -106.84841\\\\\n",
       "\t - avg.voiced.seg &  1 & 0.298180769 & 304 & 205.2989 & -108.37894\\\\\n",
       "\t - freq\\_i         &  1 & 0.369415557 & 305 & 205.6683 & -109.79826\\\\\n",
       "\t - swear\\_count    &  1 & 0.475648686 & 306 & 206.1439 & -111.05212\\\\\n",
       "\t - avg.len.seg    &  1 & 0.558673574 & 307 & 206.7026 & -112.17793\\\\\n",
       "\t - num.turns      &  1 & 0.242297101 & 308 & 206.9449 & -113.79953\\\\\n",
       "\t - trust          &  1 & 0.654292623 & 309 & 207.5992 & -114.77992\\\\\n",
       "\t - voice.rate     &  1 & 0.699081157 & 310 & 208.2983 & -115.69406\\\\\n",
       "\t - gender         &  1 & 0.798555769 & 311 & 209.0968 & -116.45814\\\\\n",
       "\\end{tabular}\n"
      ],
      "text/markdown": [
       "\n",
       "A Anova: 23 × 6\n",
       "\n",
       "| Step &lt;chr&gt; | Df &lt;dbl&gt; | Deviance &lt;dbl&gt; | Resid. Df &lt;dbl&gt; | Resid. Dev &lt;dbl&gt; | AIC &lt;dbl&gt; |\n",
       "|---|---|---|---|---|---|\n",
       "| <!----> | NA |          NA | 289 | 203.3840 |  -81.40570 |\n",
       "| - afinn_mean     |  1 | 0.004902658 | 290 | 203.3889 |  -83.39792 |\n",
       "| - negative_bing  |  1 | 0.019555942 | 291 | 203.4085 |  -85.36686 |\n",
       "| - disgust        |  1 | 0.011042691 | 292 | 203.4195 |  -87.34933 |\n",
       "| - surprise       |  1 | 0.051585999 | 293 | 203.4711 |  -89.26743 |\n",
       "| - avg_char_len   |  1 | 0.063378468 | 294 | 203.5345 |  -91.16683 |\n",
       "| - self_count     |  1 | 0.076391574 | 295 | 203.6109 |  -93.04563 |\n",
       "| - hogv.cogC      |  1 | 0.091221422 | 296 | 203.7021 |  -94.90095 |\n",
       "| - we_count       |  1 | 0.097205872 | 297 | 203.7993 |  -96.74685 |\n",
       "| - freq_we        |  1 | 0.120726103 | 298 | 203.9200 |  -98.55557 |\n",
       "| - fear           |  1 | 0.162651152 | 299 | 204.0827 | -100.29804 |\n",
       "| - negation_freq  |  1 | 0.185936057 | 300 | 204.2686 | -102.00390 |\n",
       "| - anticipation   |  1 | 0.211080351 | 301 | 204.4797 | -103.67030 |\n",
       "| - pause_count    |  1 | 0.249803234 | 302 | 204.7295 | -105.27594 |\n",
       "| - positive_bing  |  1 | 0.271163437 | 303 | 205.0007 | -106.84841 |\n",
       "| - avg.voiced.seg |  1 | 0.298180769 | 304 | 205.2989 | -108.37894 |\n",
       "| - freq_i         |  1 | 0.369415557 | 305 | 205.6683 | -109.79826 |\n",
       "| - swear_count    |  1 | 0.475648686 | 306 | 206.1439 | -111.05212 |\n",
       "| - avg.len.seg    |  1 | 0.558673574 | 307 | 206.7026 | -112.17793 |\n",
       "| - num.turns      |  1 | 0.242297101 | 308 | 206.9449 | -113.79953 |\n",
       "| - trust          |  1 | 0.654292623 | 309 | 207.5992 | -114.77992 |\n",
       "| - voice.rate     |  1 | 0.699081157 | 310 | 208.2983 | -115.69406 |\n",
       "| - gender         |  1 | 0.798555769 | 311 | 209.0968 | -116.45814 |\n",
       "\n"
      ],
      "text/plain": [
       "   Step             Df Deviance    Resid. Df Resid. Dev AIC       \n",
       "1                   NA          NA 289       203.3840    -81.40570\n",
       "2  - afinn_mean      1 0.004902658 290       203.3889    -83.39792\n",
       "3  - negative_bing   1 0.019555942 291       203.4085    -85.36686\n",
       "4  - disgust         1 0.011042691 292       203.4195    -87.34933\n",
       "5  - surprise        1 0.051585999 293       203.4711    -89.26743\n",
       "6  - avg_char_len    1 0.063378468 294       203.5345    -91.16683\n",
       "7  - self_count      1 0.076391574 295       203.6109    -93.04563\n",
       "8  - hogv.cogC       1 0.091221422 296       203.7021    -94.90095\n",
       "9  - we_count        1 0.097205872 297       203.7993    -96.74685\n",
       "10 - freq_we         1 0.120726103 298       203.9200    -98.55557\n",
       "11 - fear            1 0.162651152 299       204.0827   -100.29804\n",
       "12 - negation_freq   1 0.185936057 300       204.2686   -102.00390\n",
       "13 - anticipation    1 0.211080351 301       204.4797   -103.67030\n",
       "14 - pause_count     1 0.249803234 302       204.7295   -105.27594\n",
       "15 - positive_bing   1 0.271163437 303       205.0007   -106.84841\n",
       "16 - avg.voiced.seg  1 0.298180769 304       205.2989   -108.37894\n",
       "17 - freq_i          1 0.369415557 305       205.6683   -109.79826\n",
       "18 - swear_count     1 0.475648686 306       206.1439   -111.05212\n",
       "19 - avg.len.seg     1 0.558673574 307       206.7026   -112.17793\n",
       "20 - num.turns       1 0.242297101 308       206.9449   -113.79953\n",
       "21 - trust           1 0.654292623 309       207.5992   -114.77992\n",
       "22 - voice.rate      1 0.699081157 310       208.2983   -115.69406\n",
       "23 - gender          1 0.798555769 311       209.0968   -116.45814"
      ]
     },
     "metadata": {},
     "output_type": "display_data"
    },
    {
     "data": {
      "text/html": [
       "<table class=\"dataframe\">\n",
       "<caption>A Anova: 12 × 6</caption>\n",
       "<thead>\n",
       "\t<tr><th scope=col>Step</th><th scope=col>Df</th><th scope=col>Deviance</th><th scope=col>Resid. Df</th><th scope=col>Resid. Dev</th><th scope=col>AIC</th></tr>\n",
       "\t<tr><th scope=col>&lt;chr&gt;</th><th scope=col>&lt;dbl&gt;</th><th scope=col>&lt;dbl&gt;</th><th scope=col>&lt;dbl&gt;</th><th scope=col>&lt;dbl&gt;</th><th scope=col>&lt;dbl&gt;</th></tr>\n",
       "</thead>\n",
       "<tbody>\n",
       "\t<tr><td>               </td><td>NA</td><td>       NA</td><td>322</td><td>301.3550</td><td> -20.40434</td></tr>\n",
       "\t<tr><td>+ hogv.entropy </td><td> 1</td><td>36.290049</td><td>321</td><td>265.0650</td><td> -59.84979</td></tr>\n",
       "\t<tr><td>+ time.speaking</td><td> 1</td><td>20.384558</td><td>320</td><td>244.6804</td><td> -83.69691</td></tr>\n",
       "\t<tr><td>+ quest_count  </td><td> 1</td><td> 8.530700</td><td>319</td><td>236.1497</td><td> -93.15919</td></tr>\n",
       "\t<tr><td>+ um_count     </td><td> 1</td><td> 7.994991</td><td>318</td><td>228.1547</td><td>-102.28395</td></tr>\n",
       "\t<tr><td>+ joy          </td><td> 1</td><td> 6.298801</td><td>317</td><td>221.8559</td><td>-109.32660</td></tr>\n",
       "\t<tr><td>+ mean.pitch   </td><td> 1</td><td> 3.496855</td><td>316</td><td>218.3591</td><td>-112.45822</td></tr>\n",
       "\t<tr><td>+ mean.energy  </td><td> 1</td><td> 2.676813</td><td>315</td><td>215.6823</td><td>-114.44228</td></tr>\n",
       "\t<tr><td>+ sadness      </td><td> 1</td><td> 1.910538</td><td>314</td><td>213.7717</td><td>-115.31619</td></tr>\n",
       "\t<tr><td>+ hogv.median  </td><td> 1</td><td> 1.654652</td><td>313</td><td>212.1171</td><td>-115.82603</td></tr>\n",
       "\t<tr><td>+ hogv.cogR    </td><td> 1</td><td> 1.670849</td><td>312</td><td>210.4462</td><td>-116.38038</td></tr>\n",
       "\t<tr><td>+ anger        </td><td> 1</td><td> 1.349392</td><td>311</td><td>209.0968</td><td>-116.45814</td></tr>\n",
       "</tbody>\n",
       "</table>\n"
      ],
      "text/latex": [
       "A Anova: 12 × 6\n",
       "\\begin{tabular}{llllll}\n",
       " Step & Df & Deviance & Resid. Df & Resid. Dev & AIC\\\\\n",
       " <chr> & <dbl> & <dbl> & <dbl> & <dbl> & <dbl>\\\\\n",
       "\\hline\n",
       "\t                 & NA &        NA & 322 & 301.3550 &  -20.40434\\\\\n",
       "\t + hogv.entropy  &  1 & 36.290049 & 321 & 265.0650 &  -59.84979\\\\\n",
       "\t + time.speaking &  1 & 20.384558 & 320 & 244.6804 &  -83.69691\\\\\n",
       "\t + quest\\_count   &  1 &  8.530700 & 319 & 236.1497 &  -93.15919\\\\\n",
       "\t + um\\_count      &  1 &  7.994991 & 318 & 228.1547 & -102.28395\\\\\n",
       "\t + joy           &  1 &  6.298801 & 317 & 221.8559 & -109.32660\\\\\n",
       "\t + mean.pitch    &  1 &  3.496855 & 316 & 218.3591 & -112.45822\\\\\n",
       "\t + mean.energy   &  1 &  2.676813 & 315 & 215.6823 & -114.44228\\\\\n",
       "\t + sadness       &  1 &  1.910538 & 314 & 213.7717 & -115.31619\\\\\n",
       "\t + hogv.median   &  1 &  1.654652 & 313 & 212.1171 & -115.82603\\\\\n",
       "\t + hogv.cogR     &  1 &  1.670849 & 312 & 210.4462 & -116.38038\\\\\n",
       "\t + anger         &  1 &  1.349392 & 311 & 209.0968 & -116.45814\\\\\n",
       "\\end{tabular}\n"
      ],
      "text/markdown": [
       "\n",
       "A Anova: 12 × 6\n",
       "\n",
       "| Step &lt;chr&gt; | Df &lt;dbl&gt; | Deviance &lt;dbl&gt; | Resid. Df &lt;dbl&gt; | Resid. Dev &lt;dbl&gt; | AIC &lt;dbl&gt; |\n",
       "|---|---|---|---|---|---|\n",
       "| <!----> | NA |        NA | 322 | 301.3550 |  -20.40434 |\n",
       "| + hogv.entropy  |  1 | 36.290049 | 321 | 265.0650 |  -59.84979 |\n",
       "| + time.speaking |  1 | 20.384558 | 320 | 244.6804 |  -83.69691 |\n",
       "| + quest_count   |  1 |  8.530700 | 319 | 236.1497 |  -93.15919 |\n",
       "| + um_count      |  1 |  7.994991 | 318 | 228.1547 | -102.28395 |\n",
       "| + joy           |  1 |  6.298801 | 317 | 221.8559 | -109.32660 |\n",
       "| + mean.pitch    |  1 |  3.496855 | 316 | 218.3591 | -112.45822 |\n",
       "| + mean.energy   |  1 |  2.676813 | 315 | 215.6823 | -114.44228 |\n",
       "| + sadness       |  1 |  1.910538 | 314 | 213.7717 | -115.31619 |\n",
       "| + hogv.median   |  1 |  1.654652 | 313 | 212.1171 | -115.82603 |\n",
       "| + hogv.cogR     |  1 |  1.670849 | 312 | 210.4462 | -116.38038 |\n",
       "| + anger         |  1 |  1.349392 | 311 | 209.0968 | -116.45814 |\n",
       "\n"
      ],
      "text/plain": [
       "   Step            Df Deviance  Resid. Df Resid. Dev AIC       \n",
       "1                  NA        NA 322       301.3550    -20.40434\n",
       "2  + hogv.entropy   1 36.290049 321       265.0650    -59.84979\n",
       "3  + time.speaking  1 20.384558 320       244.6804    -83.69691\n",
       "4  + quest_count    1  8.530700 319       236.1497    -93.15919\n",
       "5  + um_count       1  7.994991 318       228.1547   -102.28395\n",
       "6  + joy            1  6.298801 317       221.8559   -109.32660\n",
       "7  + mean.pitch     1  3.496855 316       218.3591   -112.45822\n",
       "8  + mean.energy    1  2.676813 315       215.6823   -114.44228\n",
       "9  + sadness        1  1.910538 314       213.7717   -115.31619\n",
       "10 + hogv.median    1  1.654652 313       212.1171   -115.82603\n",
       "11 + hogv.cogR      1  1.670849 312       210.4462   -116.38038\n",
       "12 + anger          1  1.349392 311       209.0968   -116.45814"
      ]
     },
     "metadata": {},
     "output_type": "display_data"
    }
   ],
   "source": [
    "# Extraversion \n",
    "startmod_Extr <- lm(Extr ~ 1, data = our_df[,-c(1,4:7)])\n",
    "fullmod_Extr <- lm(Extr ~., data = our_df[,-c(1,4:7)])\n",
    "\n",
    "# stepwise regression\n",
    "both_Extr <- MASS::stepAIC(fullmod_Extr, direction = \"both\", trace = FALSE)\n",
    "\n",
    "# forward regression\n",
    "forward_Extr <- MASS::stepAIC(startmod_Extr, \n",
    "                              scope = list(upper = fullmod_Extr), \n",
    "                              direction = \"forward\", trace = FALSE)\n",
    "\n",
    "# Fit Extraversion with chosen predictors \n",
    "\n",
    "summary(both_Extr) #stepwise\n",
    "summary(forward_Extr) #forward\n",
    "\n",
    "# Anova table of the stepwise regression for Extraversion\n",
    "\n",
    "both_Extr$anova\n",
    "forward_Extr$anova"
   ]
  },
  {
   "cell_type": "code",
   "execution_count": 36,
   "id": "daf2f42f",
   "metadata": {
    "execution": {
     "iopub.execute_input": "2021-12-29T17:13:09.545789Z",
     "iopub.status.busy": "2021-12-29T17:13:09.544138Z",
     "iopub.status.idle": "2021-12-29T17:13:10.530414Z",
     "shell.execute_reply": "2021-12-29T17:13:10.528689Z"
    },
    "papermill": {
     "duration": 1.084731,
     "end_time": "2021-12-29T17:13:10.530573",
     "exception": false,
     "start_time": "2021-12-29T17:13:09.445842",
     "status": "completed"
    },
    "tags": []
   },
   "outputs": [
    {
     "data": {
      "text/plain": [
       "\n",
       "Call:\n",
       "lm(formula = Agr ~ gender + anger + surprise + pause_count + \n",
       "    afinn_mean + hogv.cogC + freq_i + freq_we + negation_freq + \n",
       "    swear_count, data = our_df[, -c(1, 3, 5:7)])\n",
       "\n",
       "Residuals:\n",
       "     Min       1Q   Median       3Q      Max \n",
       "-1.93654 -0.42563  0.01693  0.43992  1.94292 \n",
       "\n",
       "Coefficients:\n",
       "                Estimate Std. Error t value Pr(>|t|)    \n",
       "(Intercept)     5.417671   0.364857  14.849  < 2e-16 ***\n",
       "genderMale     -0.290830   0.079958  -3.637 0.000322 ***\n",
       "anger          -0.018417   0.008136  -2.264 0.024291 *  \n",
       "surprise        0.017954   0.009441   1.902 0.058134 .  \n",
       "pause_count    -0.011646   0.006854  -1.699 0.090290 .  \n",
       "afinn_mean      0.330756   0.065652   5.038 7.98e-07 ***\n",
       "hogv.cogC      -0.005412   0.002139  -2.530 0.011888 *  \n",
       "freq_i          3.876191   1.445605   2.681 0.007722 ** \n",
       "freq_we         9.273221   4.395360   2.110 0.035674 *  \n",
       "negation_freq -22.527113   6.335256  -3.556 0.000435 ***\n",
       "swear_count    -0.084223   0.018505  -4.551 7.64e-06 ***\n",
       "---\n",
       "Signif. codes:  0 ‘***’ 0.001 ‘**’ 0.01 ‘*’ 0.05 ‘.’ 0.1 ‘ ’ 1\n",
       "\n",
       "Residual standard error: 0.6895 on 312 degrees of freedom\n",
       "  (80 observations deleted due to missingness)\n",
       "Multiple R-squared:  0.4198,\tAdjusted R-squared:  0.4012 \n",
       "F-statistic: 22.57 on 10 and 312 DF,  p-value: < 2.2e-16\n"
      ]
     },
     "metadata": {},
     "output_type": "display_data"
    },
    {
     "data": {
      "text/plain": [
       "\n",
       "Call:\n",
       "lm(formula = Agr ~ afinn_mean + swear_count + gender + negation_freq + \n",
       "    anger + hogv.cogC + freq_i + we_count + pause_count + surprise, \n",
       "    data = our_df[, -c(1, 3, 5:7)])\n",
       "\n",
       "Residuals:\n",
       "     Min       1Q   Median       3Q      Max \n",
       "-1.97642 -0.42551  0.01756  0.43375  1.94784 \n",
       "\n",
       "Coefficients:\n",
       "                Estimate Std. Error t value Pr(>|t|)    \n",
       "(Intercept)     5.445005   0.364305  14.946  < 2e-16 ***\n",
       "afinn_mean      0.326363   0.065546   4.979 1.06e-06 ***\n",
       "swear_count    -0.083802   0.018515  -4.526 8.55e-06 ***\n",
       "genderMale     -0.303664   0.079662  -3.812 0.000166 ***\n",
       "negation_freq -22.500303   6.334017  -3.552 0.000441 ***\n",
       "anger          -0.020591   0.008176  -2.518 0.012286 *  \n",
       "hogv.cogC      -0.005186   0.002126  -2.439 0.015279 *  \n",
       "freq_i          3.698544   1.419992   2.605 0.009638 ** \n",
       "we_count        0.015007   0.007006   2.142 0.032960 *  \n",
       "pause_count    -0.013329   0.006926  -1.924 0.055216 .  \n",
       "surprise        0.014704   0.009547   1.540 0.124541    \n",
       "---\n",
       "Signif. codes:  0 ‘***’ 0.001 ‘**’ 0.01 ‘*’ 0.05 ‘.’ 0.1 ‘ ’ 1\n",
       "\n",
       "Residual standard error: 0.6894 on 312 degrees of freedom\n",
       "  (80 observations deleted due to missingness)\n",
       "Multiple R-squared:   0.42,\tAdjusted R-squared:  0.4014 \n",
       "F-statistic:  22.6 on 10 and 312 DF,  p-value: < 2.2e-16\n"
      ]
     },
     "metadata": {},
     "output_type": "display_data"
    },
    {
     "data": {
      "text/html": [
       "<table class=\"dataframe\">\n",
       "<caption>A Anova: 24 × 6</caption>\n",
       "<thead>\n",
       "\t<tr><th scope=col>Step</th><th scope=col>Df</th><th scope=col>Deviance</th><th scope=col>Resid. Df</th><th scope=col>Resid. Dev</th><th scope=col>AIC</th></tr>\n",
       "\t<tr><th scope=col>&lt;chr&gt;</th><th scope=col>&lt;dbl&gt;</th><th scope=col>&lt;dbl&gt;</th><th scope=col>&lt;dbl&gt;</th><th scope=col>&lt;dbl&gt;</th><th scope=col>&lt;dbl&gt;</th></tr>\n",
       "</thead>\n",
       "<tbody>\n",
       "\t<tr><td>                </td><td>NA</td><td>         NA</td><td>289</td><td>143.6927</td><td>-193.6220</td></tr>\n",
       "\t<tr><td>- mean.energy   </td><td> 1</td><td>0.002036485</td><td>290</td><td>143.6948</td><td>-195.6174</td></tr>\n",
       "\t<tr><td>- self_count    </td><td> 1</td><td>0.008516332</td><td>291</td><td>143.7033</td><td>-197.5983</td></tr>\n",
       "\t<tr><td>- avg.len.seg   </td><td> 1</td><td>0.015908026</td><td>292</td><td>143.7192</td><td>-199.5625</td></tr>\n",
       "\t<tr><td>- hogv.entropy  </td><td> 1</td><td>0.020365662</td><td>293</td><td>143.7395</td><td>-201.5167</td></tr>\n",
       "\t<tr><td>- mean.pitch    </td><td> 1</td><td>0.027440571</td><td>294</td><td>143.7670</td><td>-203.4551</td></tr>\n",
       "\t<tr><td>- anticipation  </td><td> 1</td><td>0.052831579</td><td>295</td><td>143.8198</td><td>-205.3364</td></tr>\n",
       "\t<tr><td>- num.turns     </td><td> 1</td><td>0.064790612</td><td>296</td><td>143.8846</td><td>-207.1909</td></tr>\n",
       "\t<tr><td>- hogv.median   </td><td> 1</td><td>0.075206802</td><td>297</td><td>143.9598</td><td>-209.0222</td></tr>\n",
       "\t<tr><td>- negative_bing </td><td> 1</td><td>0.107610632</td><td>298</td><td>144.0674</td><td>-210.7808</td></tr>\n",
       "\t<tr><td>- voice.rate    </td><td> 1</td><td>0.214671294</td><td>299</td><td>144.2821</td><td>-212.2999</td></tr>\n",
       "\t<tr><td>- avg.voiced.seg</td><td> 1</td><td>0.074976553</td><td>300</td><td>144.3571</td><td>-214.1321</td></tr>\n",
       "\t<tr><td>- time.speaking </td><td> 1</td><td>0.159296410</td><td>301</td><td>144.5164</td><td>-215.7758</td></tr>\n",
       "\t<tr><td>- we_count      </td><td> 1</td><td>0.200925732</td><td>302</td><td>144.7173</td><td>-217.3271</td></tr>\n",
       "\t<tr><td>- positive_bing </td><td> 1</td><td>0.171082485</td><td>303</td><td>144.8884</td><td>-218.9454</td></tr>\n",
       "\t<tr><td>- quest_count   </td><td> 1</td><td>0.187701715</td><td>304</td><td>145.0761</td><td>-220.5273</td></tr>\n",
       "\t<tr><td>- sadness       </td><td> 1</td><td>0.219694804</td><td>305</td><td>145.2958</td><td>-222.0385</td></tr>\n",
       "\t<tr><td>- joy           </td><td> 1</td><td>0.190443401</td><td>306</td><td>145.4862</td><td>-223.6154</td></tr>\n",
       "\t<tr><td>- trust         </td><td> 1</td><td>0.223423812</td><td>307</td><td>145.7096</td><td>-225.1198</td></tr>\n",
       "\t<tr><td>- um_count      </td><td> 1</td><td>0.231436750</td><td>308</td><td>145.9411</td><td>-226.6071</td></tr>\n",
       "\t<tr><td>- hogv.cogR     </td><td> 1</td><td>0.368875714</td><td>309</td><td>146.3100</td><td>-227.7918</td></tr>\n",
       "\t<tr><td>- disgust       </td><td> 1</td><td>0.608996553</td><td>310</td><td>146.9190</td><td>-228.4501</td></tr>\n",
       "\t<tr><td>- fear          </td><td> 1</td><td>0.570786128</td><td>311</td><td>147.4897</td><td>-229.1977</td></tr>\n",
       "\t<tr><td>- avg_char_len  </td><td> 1</td><td>0.855432614</td><td>312</td><td>148.3452</td><td>-229.3297</td></tr>\n",
       "</tbody>\n",
       "</table>\n"
      ],
      "text/latex": [
       "A Anova: 24 × 6\n",
       "\\begin{tabular}{llllll}\n",
       " Step & Df & Deviance & Resid. Df & Resid. Dev & AIC\\\\\n",
       " <chr> & <dbl> & <dbl> & <dbl> & <dbl> & <dbl>\\\\\n",
       "\\hline\n",
       "\t                  & NA &          NA & 289 & 143.6927 & -193.6220\\\\\n",
       "\t - mean.energy    &  1 & 0.002036485 & 290 & 143.6948 & -195.6174\\\\\n",
       "\t - self\\_count     &  1 & 0.008516332 & 291 & 143.7033 & -197.5983\\\\\n",
       "\t - avg.len.seg    &  1 & 0.015908026 & 292 & 143.7192 & -199.5625\\\\\n",
       "\t - hogv.entropy   &  1 & 0.020365662 & 293 & 143.7395 & -201.5167\\\\\n",
       "\t - mean.pitch     &  1 & 0.027440571 & 294 & 143.7670 & -203.4551\\\\\n",
       "\t - anticipation   &  1 & 0.052831579 & 295 & 143.8198 & -205.3364\\\\\n",
       "\t - num.turns      &  1 & 0.064790612 & 296 & 143.8846 & -207.1909\\\\\n",
       "\t - hogv.median    &  1 & 0.075206802 & 297 & 143.9598 & -209.0222\\\\\n",
       "\t - negative\\_bing  &  1 & 0.107610632 & 298 & 144.0674 & -210.7808\\\\\n",
       "\t - voice.rate     &  1 & 0.214671294 & 299 & 144.2821 & -212.2999\\\\\n",
       "\t - avg.voiced.seg &  1 & 0.074976553 & 300 & 144.3571 & -214.1321\\\\\n",
       "\t - time.speaking  &  1 & 0.159296410 & 301 & 144.5164 & -215.7758\\\\\n",
       "\t - we\\_count       &  1 & 0.200925732 & 302 & 144.7173 & -217.3271\\\\\n",
       "\t - positive\\_bing  &  1 & 0.171082485 & 303 & 144.8884 & -218.9454\\\\\n",
       "\t - quest\\_count    &  1 & 0.187701715 & 304 & 145.0761 & -220.5273\\\\\n",
       "\t - sadness        &  1 & 0.219694804 & 305 & 145.2958 & -222.0385\\\\\n",
       "\t - joy            &  1 & 0.190443401 & 306 & 145.4862 & -223.6154\\\\\n",
       "\t - trust          &  1 & 0.223423812 & 307 & 145.7096 & -225.1198\\\\\n",
       "\t - um\\_count       &  1 & 0.231436750 & 308 & 145.9411 & -226.6071\\\\\n",
       "\t - hogv.cogR      &  1 & 0.368875714 & 309 & 146.3100 & -227.7918\\\\\n",
       "\t - disgust        &  1 & 0.608996553 & 310 & 146.9190 & -228.4501\\\\\n",
       "\t - fear           &  1 & 0.570786128 & 311 & 147.4897 & -229.1977\\\\\n",
       "\t - avg\\_char\\_len   &  1 & 0.855432614 & 312 & 148.3452 & -229.3297\\\\\n",
       "\\end{tabular}\n"
      ],
      "text/markdown": [
       "\n",
       "A Anova: 24 × 6\n",
       "\n",
       "| Step &lt;chr&gt; | Df &lt;dbl&gt; | Deviance &lt;dbl&gt; | Resid. Df &lt;dbl&gt; | Resid. Dev &lt;dbl&gt; | AIC &lt;dbl&gt; |\n",
       "|---|---|---|---|---|---|\n",
       "| <!----> | NA |          NA | 289 | 143.6927 | -193.6220 |\n",
       "| - mean.energy    |  1 | 0.002036485 | 290 | 143.6948 | -195.6174 |\n",
       "| - self_count     |  1 | 0.008516332 | 291 | 143.7033 | -197.5983 |\n",
       "| - avg.len.seg    |  1 | 0.015908026 | 292 | 143.7192 | -199.5625 |\n",
       "| - hogv.entropy   |  1 | 0.020365662 | 293 | 143.7395 | -201.5167 |\n",
       "| - mean.pitch     |  1 | 0.027440571 | 294 | 143.7670 | -203.4551 |\n",
       "| - anticipation   |  1 | 0.052831579 | 295 | 143.8198 | -205.3364 |\n",
       "| - num.turns      |  1 | 0.064790612 | 296 | 143.8846 | -207.1909 |\n",
       "| - hogv.median    |  1 | 0.075206802 | 297 | 143.9598 | -209.0222 |\n",
       "| - negative_bing  |  1 | 0.107610632 | 298 | 144.0674 | -210.7808 |\n",
       "| - voice.rate     |  1 | 0.214671294 | 299 | 144.2821 | -212.2999 |\n",
       "| - avg.voiced.seg |  1 | 0.074976553 | 300 | 144.3571 | -214.1321 |\n",
       "| - time.speaking  |  1 | 0.159296410 | 301 | 144.5164 | -215.7758 |\n",
       "| - we_count       |  1 | 0.200925732 | 302 | 144.7173 | -217.3271 |\n",
       "| - positive_bing  |  1 | 0.171082485 | 303 | 144.8884 | -218.9454 |\n",
       "| - quest_count    |  1 | 0.187701715 | 304 | 145.0761 | -220.5273 |\n",
       "| - sadness        |  1 | 0.219694804 | 305 | 145.2958 | -222.0385 |\n",
       "| - joy            |  1 | 0.190443401 | 306 | 145.4862 | -223.6154 |\n",
       "| - trust          |  1 | 0.223423812 | 307 | 145.7096 | -225.1198 |\n",
       "| - um_count       |  1 | 0.231436750 | 308 | 145.9411 | -226.6071 |\n",
       "| - hogv.cogR      |  1 | 0.368875714 | 309 | 146.3100 | -227.7918 |\n",
       "| - disgust        |  1 | 0.608996553 | 310 | 146.9190 | -228.4501 |\n",
       "| - fear           |  1 | 0.570786128 | 311 | 147.4897 | -229.1977 |\n",
       "| - avg_char_len   |  1 | 0.855432614 | 312 | 148.3452 | -229.3297 |\n",
       "\n"
      ],
      "text/plain": [
       "   Step             Df Deviance    Resid. Df Resid. Dev AIC      \n",
       "1                   NA          NA 289       143.6927   -193.6220\n",
       "2  - mean.energy     1 0.002036485 290       143.6948   -195.6174\n",
       "3  - self_count      1 0.008516332 291       143.7033   -197.5983\n",
       "4  - avg.len.seg     1 0.015908026 292       143.7192   -199.5625\n",
       "5  - hogv.entropy    1 0.020365662 293       143.7395   -201.5167\n",
       "6  - mean.pitch      1 0.027440571 294       143.7670   -203.4551\n",
       "7  - anticipation    1 0.052831579 295       143.8198   -205.3364\n",
       "8  - num.turns       1 0.064790612 296       143.8846   -207.1909\n",
       "9  - hogv.median     1 0.075206802 297       143.9598   -209.0222\n",
       "10 - negative_bing   1 0.107610632 298       144.0674   -210.7808\n",
       "11 - voice.rate      1 0.214671294 299       144.2821   -212.2999\n",
       "12 - avg.voiced.seg  1 0.074976553 300       144.3571   -214.1321\n",
       "13 - time.speaking   1 0.159296410 301       144.5164   -215.7758\n",
       "14 - we_count        1 0.200925732 302       144.7173   -217.3271\n",
       "15 - positive_bing   1 0.171082485 303       144.8884   -218.9454\n",
       "16 - quest_count     1 0.187701715 304       145.0761   -220.5273\n",
       "17 - sadness         1 0.219694804 305       145.2958   -222.0385\n",
       "18 - joy             1 0.190443401 306       145.4862   -223.6154\n",
       "19 - trust           1 0.223423812 307       145.7096   -225.1198\n",
       "20 - um_count        1 0.231436750 308       145.9411   -226.6071\n",
       "21 - hogv.cogR       1 0.368875714 309       146.3100   -227.7918\n",
       "22 - disgust         1 0.608996553 310       146.9190   -228.4501\n",
       "23 - fear            1 0.570786128 311       147.4897   -229.1977\n",
       "24 - avg_char_len    1 0.855432614 312       148.3452   -229.3297"
      ]
     },
     "metadata": {},
     "output_type": "display_data"
    },
    {
     "data": {
      "text/html": [
       "<table class=\"dataframe\">\n",
       "<caption>A Anova: 11 × 6</caption>\n",
       "<thead>\n",
       "\t<tr><th scope=col>Step</th><th scope=col>Df</th><th scope=col>Deviance</th><th scope=col>Resid. Df</th><th scope=col>Resid. Dev</th><th scope=col>AIC</th></tr>\n",
       "\t<tr><th scope=col>&lt;chr&gt;</th><th scope=col>&lt;dbl&gt;</th><th scope=col>&lt;dbl&gt;</th><th scope=col>&lt;dbl&gt;</th><th scope=col>&lt;dbl&gt;</th><th scope=col>&lt;dbl&gt;</th></tr>\n",
       "</thead>\n",
       "<tbody>\n",
       "\t<tr><td>               </td><td>NA</td><td>       NA</td><td>322</td><td>255.6699</td><td> -73.50611</td></tr>\n",
       "\t<tr><td>+ afinn_mean   </td><td> 1</td><td>62.131080</td><td>321</td><td>193.5388</td><td>-161.43222</td></tr>\n",
       "\t<tr><td>+ swear_count  </td><td> 1</td><td>16.680489</td><td>320</td><td>176.8584</td><td>-188.54392</td></tr>\n",
       "\t<tr><td>+ gender       </td><td> 1</td><td> 7.872012</td><td>319</td><td>168.9863</td><td>-201.25051</td></tr>\n",
       "\t<tr><td>+ negation_freq</td><td> 1</td><td> 7.157743</td><td>318</td><td>161.8286</td><td>-213.23000</td></tr>\n",
       "\t<tr><td>+ anger        </td><td> 1</td><td> 4.993635</td><td>317</td><td>156.8350</td><td>-221.35401</td></tr>\n",
       "\t<tr><td>+ hogv.cogC    </td><td> 1</td><td> 2.182579</td><td>316</td><td>154.6524</td><td>-223.88058</td></tr>\n",
       "\t<tr><td>+ freq_i       </td><td> 1</td><td> 1.829322</td><td>315</td><td>152.8231</td><td>-225.72399</td></tr>\n",
       "\t<tr><td>+ we_count     </td><td> 1</td><td> 2.156566</td><td>314</td><td>150.6665</td><td>-228.31448</td></tr>\n",
       "\t<tr><td>+ pause_count  </td><td> 1</td><td> 1.258397</td><td>313</td><td>149.4081</td><td>-229.02357</td></tr>\n",
       "\t<tr><td>+ surprise     </td><td> 1</td><td> 1.127324</td><td>312</td><td>148.2808</td><td>-229.46993</td></tr>\n",
       "</tbody>\n",
       "</table>\n"
      ],
      "text/latex": [
       "A Anova: 11 × 6\n",
       "\\begin{tabular}{llllll}\n",
       " Step & Df & Deviance & Resid. Df & Resid. Dev & AIC\\\\\n",
       " <chr> & <dbl> & <dbl> & <dbl> & <dbl> & <dbl>\\\\\n",
       "\\hline\n",
       "\t                 & NA &        NA & 322 & 255.6699 &  -73.50611\\\\\n",
       "\t + afinn\\_mean    &  1 & 62.131080 & 321 & 193.5388 & -161.43222\\\\\n",
       "\t + swear\\_count   &  1 & 16.680489 & 320 & 176.8584 & -188.54392\\\\\n",
       "\t + gender        &  1 &  7.872012 & 319 & 168.9863 & -201.25051\\\\\n",
       "\t + negation\\_freq &  1 &  7.157743 & 318 & 161.8286 & -213.23000\\\\\n",
       "\t + anger         &  1 &  4.993635 & 317 & 156.8350 & -221.35401\\\\\n",
       "\t + hogv.cogC     &  1 &  2.182579 & 316 & 154.6524 & -223.88058\\\\\n",
       "\t + freq\\_i        &  1 &  1.829322 & 315 & 152.8231 & -225.72399\\\\\n",
       "\t + we\\_count      &  1 &  2.156566 & 314 & 150.6665 & -228.31448\\\\\n",
       "\t + pause\\_count   &  1 &  1.258397 & 313 & 149.4081 & -229.02357\\\\\n",
       "\t + surprise      &  1 &  1.127324 & 312 & 148.2808 & -229.46993\\\\\n",
       "\\end{tabular}\n"
      ],
      "text/markdown": [
       "\n",
       "A Anova: 11 × 6\n",
       "\n",
       "| Step &lt;chr&gt; | Df &lt;dbl&gt; | Deviance &lt;dbl&gt; | Resid. Df &lt;dbl&gt; | Resid. Dev &lt;dbl&gt; | AIC &lt;dbl&gt; |\n",
       "|---|---|---|---|---|---|\n",
       "| <!----> | NA |        NA | 322 | 255.6699 |  -73.50611 |\n",
       "| + afinn_mean    |  1 | 62.131080 | 321 | 193.5388 | -161.43222 |\n",
       "| + swear_count   |  1 | 16.680489 | 320 | 176.8584 | -188.54392 |\n",
       "| + gender        |  1 |  7.872012 | 319 | 168.9863 | -201.25051 |\n",
       "| + negation_freq |  1 |  7.157743 | 318 | 161.8286 | -213.23000 |\n",
       "| + anger         |  1 |  4.993635 | 317 | 156.8350 | -221.35401 |\n",
       "| + hogv.cogC     |  1 |  2.182579 | 316 | 154.6524 | -223.88058 |\n",
       "| + freq_i        |  1 |  1.829322 | 315 | 152.8231 | -225.72399 |\n",
       "| + we_count      |  1 |  2.156566 | 314 | 150.6665 | -228.31448 |\n",
       "| + pause_count   |  1 |  1.258397 | 313 | 149.4081 | -229.02357 |\n",
       "| + surprise      |  1 |  1.127324 | 312 | 148.2808 | -229.46993 |\n",
       "\n"
      ],
      "text/plain": [
       "   Step            Df Deviance  Resid. Df Resid. Dev AIC       \n",
       "1                  NA        NA 322       255.6699    -73.50611\n",
       "2  + afinn_mean     1 62.131080 321       193.5388   -161.43222\n",
       "3  + swear_count    1 16.680489 320       176.8584   -188.54392\n",
       "4  + gender         1  7.872012 319       168.9863   -201.25051\n",
       "5  + negation_freq  1  7.157743 318       161.8286   -213.23000\n",
       "6  + anger          1  4.993635 317       156.8350   -221.35401\n",
       "7  + hogv.cogC      1  2.182579 316       154.6524   -223.88058\n",
       "8  + freq_i         1  1.829322 315       152.8231   -225.72399\n",
       "9  + we_count       1  2.156566 314       150.6665   -228.31448\n",
       "10 + pause_count    1  1.258397 313       149.4081   -229.02357\n",
       "11 + surprise       1  1.127324 312       148.2808   -229.46993"
      ]
     },
     "metadata": {},
     "output_type": "display_data"
    }
   ],
   "source": [
    "# Agreeableness\n",
    "startmod_Agr <- lm(Agr ~ 1, data = our_df[, -c(1, 3, 5:7)])\n",
    "fullmod_Agr <- lm(Agr ~., data = our_df[, -c(1, 3, 5:7)])\n",
    "\n",
    "# stepwise regression\n",
    "\n",
    "both_Agr <- MASS::stepAIC(fullmod_Agr, direction = \"both\", trace = FALSE)\n",
    "\n",
    "# forward regression\n",
    "forward_Agr <- MASS::stepAIC(startmod_Agr, \n",
    "                              scope = list(upper = fullmod_Agr), \n",
    "                              direction = \"forward\", trace = FALSE)\n",
    "\n",
    "# Agreeableness with chosen predictions \n",
    "\n",
    "summary(both_Agr)\n",
    "summary(forward_Agr)\n",
    "\n",
    "# Anova table of the stepwise regression for Agreeableness\n",
    "\n",
    "both_Agr$anova\n",
    "forward_Agr$anova"
   ]
  },
  {
   "cell_type": "code",
   "execution_count": 37,
   "id": "c729bfa9",
   "metadata": {
    "execution": {
     "iopub.execute_input": "2021-12-29T17:13:10.730545Z",
     "iopub.status.busy": "2021-12-29T17:13:10.728817Z",
     "iopub.status.idle": "2021-12-29T17:13:11.616154Z",
     "shell.execute_reply": "2021-12-29T17:13:11.614586Z"
    },
    "papermill": {
     "duration": 0.988441,
     "end_time": "2021-12-29T17:13:11.616302",
     "exception": false,
     "start_time": "2021-12-29T17:13:10.627861",
     "status": "completed"
    },
    "tags": []
   },
   "outputs": [
    {
     "data": {
      "text/plain": [
       "\n",
       "Call:\n",
       "lm(formula = Open ~ fear + joy + surprise + um_count + quest_count + \n",
       "    avg_char_len + hogv.median + swear_count + time.speaking + \n",
       "    num.turns + avg.len.seg, data = our_df[, -c(1, 3:6)])\n",
       "\n",
       "Residuals:\n",
       "     Min       1Q   Median       3Q      Max \n",
       "-2.17343 -0.42987 -0.01925  0.41280  1.76838 \n",
       "\n",
       "Coefficients:\n",
       "               Estimate Std. Error t value Pr(>|t|)    \n",
       "(Intercept)    4.241721   0.286671  14.796  < 2e-16 ***\n",
       "fear          -0.009920   0.005593  -1.773 0.077133 .  \n",
       "joy            0.023397   0.006319   3.703 0.000252 ***\n",
       "surprise      -0.024888   0.011550  -2.155 0.031947 *  \n",
       "um_count      -0.011719   0.004293  -2.730 0.006699 ** \n",
       "quest_count    0.015777   0.009322   1.693 0.091543 .  \n",
       "avg_char_len   0.001929   0.001189   1.623 0.105705    \n",
       "hogv.median    1.627548   0.311169   5.230 3.11e-07 ***\n",
       "swear_count   -0.035397   0.015793  -2.241 0.025709 *  \n",
       "time.speaking  0.604498   0.297658   2.031 0.043121 *  \n",
       "num.turns     -0.989011   0.499033  -1.982 0.048376 *  \n",
       "avg.len.seg   -0.029359   0.018754  -1.565 0.118489    \n",
       "---\n",
       "Signif. codes:  0 ‘***’ 0.001 ‘**’ 0.01 ‘*’ 0.05 ‘.’ 0.1 ‘ ’ 1\n",
       "\n",
       "Residual standard error: 0.6584 on 311 degrees of freedom\n",
       "  (80 observations deleted due to missingness)\n",
       "Multiple R-squared:  0.1675,\tAdjusted R-squared:  0.1381 \n",
       "F-statistic: 5.688 on 11 and 311 DF,  p-value: 2.347e-08\n"
      ]
     },
     "metadata": {},
     "output_type": "display_data"
    },
    {
     "data": {
      "text/plain": [
       "\n",
       "Call:\n",
       "lm(formula = Open ~ hogv.median + time.speaking + swear_count + \n",
       "    joy + um_count + surprise + gender, data = our_df[, -c(1, \n",
       "    3:6)])\n",
       "\n",
       "Residuals:\n",
       "     Min       1Q   Median       3Q      Max \n",
       "-2.32560 -0.47330  0.01604  0.43228  1.69211 \n",
       "\n",
       "Coefficients:\n",
       "               Estimate Std. Error t value Pr(>|t|)    \n",
       "(Intercept)    3.879725   0.191586  20.251  < 2e-16 ***\n",
       "hogv.median    1.653727   0.304616   5.429 1.13e-07 ***\n",
       "time.speaking  0.767919   0.261119   2.941 0.003515 ** \n",
       "swear_count   -0.040386   0.015049  -2.684 0.007668 ** \n",
       "joy            0.022585   0.006230   3.625 0.000337 ***\n",
       "um_count      -0.012261   0.004303  -2.849 0.004670 ** \n",
       "surprise      -0.025865   0.011287  -2.292 0.022591 *  \n",
       "genderMale     0.112358   0.074692   1.504 0.133509    \n",
       "---\n",
       "Signif. codes:  0 ‘***’ 0.001 ‘**’ 0.01 ‘*’ 0.05 ‘.’ 0.1 ‘ ’ 1\n",
       "\n",
       "Residual standard error: 0.6629 on 315 degrees of freedom\n",
       "  (80 observations deleted due to missingness)\n",
       "Multiple R-squared:  0.1451,\tAdjusted R-squared:  0.1261 \n",
       "F-statistic: 7.638 on 7 and 315 DF,  p-value: 1.603e-08\n"
      ]
     },
     "metadata": {},
     "output_type": "display_data"
    },
    {
     "data": {
      "text/html": [
       "<table class=\"dataframe\">\n",
       "<caption>A Anova: 23 × 6</caption>\n",
       "<thead>\n",
       "\t<tr><th scope=col>Step</th><th scope=col>Df</th><th scope=col>Deviance</th><th scope=col>Resid. Df</th><th scope=col>Resid. Dev</th><th scope=col>AIC</th></tr>\n",
       "\t<tr><th scope=col>&lt;chr&gt;</th><th scope=col>&lt;dbl&gt;</th><th scope=col>&lt;dbl&gt;</th><th scope=col>&lt;dbl&gt;</th><th scope=col>&lt;dbl&gt;</th><th scope=col>&lt;dbl&gt;</th></tr>\n",
       "</thead>\n",
       "<tbody>\n",
       "\t<tr><td>                </td><td>NA</td><td>         NA</td><td>289</td><td>128.9431</td><td>-228.6048</td></tr>\n",
       "\t<tr><td>- positive_bing </td><td> 1</td><td>0.003997607</td><td>290</td><td>128.9471</td><td>-230.5948</td></tr>\n",
       "\t<tr><td>- trust         </td><td> 1</td><td>0.005364078</td><td>291</td><td>128.9524</td><td>-232.5814</td></tr>\n",
       "\t<tr><td>- anticipation  </td><td> 1</td><td>0.012387735</td><td>292</td><td>128.9648</td><td>-234.5504</td></tr>\n",
       "\t<tr><td>- mean.energy   </td><td> 1</td><td>0.018660575</td><td>293</td><td>128.9835</td><td>-236.5036</td></tr>\n",
       "\t<tr><td>- mean.pitch    </td><td> 1</td><td>0.075382212</td><td>294</td><td>129.0589</td><td>-238.3149</td></tr>\n",
       "\t<tr><td>- afinn_mean    </td><td> 1</td><td>0.069277781</td><td>295</td><td>129.1282</td><td>-240.1416</td></tr>\n",
       "\t<tr><td>- negative_bing </td><td> 1</td><td>0.054473545</td><td>296</td><td>129.1826</td><td>-242.0053</td></tr>\n",
       "\t<tr><td>- pause_count   </td><td> 1</td><td>0.098358216</td><td>297</td><td>129.2810</td><td>-243.7595</td></tr>\n",
       "\t<tr><td>- anger         </td><td> 1</td><td>0.093059218</td><td>298</td><td>129.3740</td><td>-245.5271</td></tr>\n",
       "\t<tr><td>- freq_we       </td><td> 1</td><td>0.232766909</td><td>299</td><td>129.6068</td><td>-246.9465</td></tr>\n",
       "\t<tr><td>- hogv.entropy  </td><td> 1</td><td>0.224749498</td><td>300</td><td>129.8316</td><td>-248.3868</td></tr>\n",
       "\t<tr><td>- we_count      </td><td> 1</td><td>0.287425475</td><td>301</td><td>130.1190</td><td>-249.6726</td></tr>\n",
       "\t<tr><td>- negation_freq </td><td> 1</td><td>0.275431161</td><td>302</td><td>130.3944</td><td>-250.9896</td></tr>\n",
       "\t<tr><td>- sadness       </td><td> 1</td><td>0.331104995</td><td>303</td><td>130.7255</td><td>-252.1704</td></tr>\n",
       "\t<tr><td>- disgust       </td><td> 1</td><td>0.376505399</td><td>304</td><td>131.1020</td><td>-253.2415</td></tr>\n",
       "\t<tr><td>- hogv.cogR     </td><td> 1</td><td>0.518265817</td><td>305</td><td>131.6203</td><td>-253.9671</td></tr>\n",
       "\t<tr><td>- voice.rate    </td><td> 1</td><td>0.511946013</td><td>306</td><td>132.1322</td><td>-254.7132</td></tr>\n",
       "\t<tr><td>- avg.voiced.seg</td><td> 1</td><td>0.245153008</td><td>307</td><td>132.3774</td><td>-256.1145</td></tr>\n",
       "\t<tr><td>- gender        </td><td> 1</td><td>0.673197003</td><td>308</td><td>133.0506</td><td>-256.4761</td></tr>\n",
       "\t<tr><td>- freq_i        </td><td> 1</td><td>0.748469144</td><td>309</td><td>133.7991</td><td>-256.6642</td></tr>\n",
       "\t<tr><td>- self_count    </td><td> 1</td><td>0.271489468</td><td>310</td><td>134.0706</td><td>-258.0094</td></tr>\n",
       "\t<tr><td>- hogv.cogC     </td><td> 1</td><td>0.740925297</td><td>311</td><td>134.8115</td><td>-258.2293</td></tr>\n",
       "</tbody>\n",
       "</table>\n"
      ],
      "text/latex": [
       "A Anova: 23 × 6\n",
       "\\begin{tabular}{llllll}\n",
       " Step & Df & Deviance & Resid. Df & Resid. Dev & AIC\\\\\n",
       " <chr> & <dbl> & <dbl> & <dbl> & <dbl> & <dbl>\\\\\n",
       "\\hline\n",
       "\t                  & NA &          NA & 289 & 128.9431 & -228.6048\\\\\n",
       "\t - positive\\_bing  &  1 & 0.003997607 & 290 & 128.9471 & -230.5948\\\\\n",
       "\t - trust          &  1 & 0.005364078 & 291 & 128.9524 & -232.5814\\\\\n",
       "\t - anticipation   &  1 & 0.012387735 & 292 & 128.9648 & -234.5504\\\\\n",
       "\t - mean.energy    &  1 & 0.018660575 & 293 & 128.9835 & -236.5036\\\\\n",
       "\t - mean.pitch     &  1 & 0.075382212 & 294 & 129.0589 & -238.3149\\\\\n",
       "\t - afinn\\_mean     &  1 & 0.069277781 & 295 & 129.1282 & -240.1416\\\\\n",
       "\t - negative\\_bing  &  1 & 0.054473545 & 296 & 129.1826 & -242.0053\\\\\n",
       "\t - pause\\_count    &  1 & 0.098358216 & 297 & 129.2810 & -243.7595\\\\\n",
       "\t - anger          &  1 & 0.093059218 & 298 & 129.3740 & -245.5271\\\\\n",
       "\t - freq\\_we        &  1 & 0.232766909 & 299 & 129.6068 & -246.9465\\\\\n",
       "\t - hogv.entropy   &  1 & 0.224749498 & 300 & 129.8316 & -248.3868\\\\\n",
       "\t - we\\_count       &  1 & 0.287425475 & 301 & 130.1190 & -249.6726\\\\\n",
       "\t - negation\\_freq  &  1 & 0.275431161 & 302 & 130.3944 & -250.9896\\\\\n",
       "\t - sadness        &  1 & 0.331104995 & 303 & 130.7255 & -252.1704\\\\\n",
       "\t - disgust        &  1 & 0.376505399 & 304 & 131.1020 & -253.2415\\\\\n",
       "\t - hogv.cogR      &  1 & 0.518265817 & 305 & 131.6203 & -253.9671\\\\\n",
       "\t - voice.rate     &  1 & 0.511946013 & 306 & 132.1322 & -254.7132\\\\\n",
       "\t - avg.voiced.seg &  1 & 0.245153008 & 307 & 132.3774 & -256.1145\\\\\n",
       "\t - gender         &  1 & 0.673197003 & 308 & 133.0506 & -256.4761\\\\\n",
       "\t - freq\\_i         &  1 & 0.748469144 & 309 & 133.7991 & -256.6642\\\\\n",
       "\t - self\\_count     &  1 & 0.271489468 & 310 & 134.0706 & -258.0094\\\\\n",
       "\t - hogv.cogC      &  1 & 0.740925297 & 311 & 134.8115 & -258.2293\\\\\n",
       "\\end{tabular}\n"
      ],
      "text/markdown": [
       "\n",
       "A Anova: 23 × 6\n",
       "\n",
       "| Step &lt;chr&gt; | Df &lt;dbl&gt; | Deviance &lt;dbl&gt; | Resid. Df &lt;dbl&gt; | Resid. Dev &lt;dbl&gt; | AIC &lt;dbl&gt; |\n",
       "|---|---|---|---|---|---|\n",
       "| <!----> | NA |          NA | 289 | 128.9431 | -228.6048 |\n",
       "| - positive_bing  |  1 | 0.003997607 | 290 | 128.9471 | -230.5948 |\n",
       "| - trust          |  1 | 0.005364078 | 291 | 128.9524 | -232.5814 |\n",
       "| - anticipation   |  1 | 0.012387735 | 292 | 128.9648 | -234.5504 |\n",
       "| - mean.energy    |  1 | 0.018660575 | 293 | 128.9835 | -236.5036 |\n",
       "| - mean.pitch     |  1 | 0.075382212 | 294 | 129.0589 | -238.3149 |\n",
       "| - afinn_mean     |  1 | 0.069277781 | 295 | 129.1282 | -240.1416 |\n",
       "| - negative_bing  |  1 | 0.054473545 | 296 | 129.1826 | -242.0053 |\n",
       "| - pause_count    |  1 | 0.098358216 | 297 | 129.2810 | -243.7595 |\n",
       "| - anger          |  1 | 0.093059218 | 298 | 129.3740 | -245.5271 |\n",
       "| - freq_we        |  1 | 0.232766909 | 299 | 129.6068 | -246.9465 |\n",
       "| - hogv.entropy   |  1 | 0.224749498 | 300 | 129.8316 | -248.3868 |\n",
       "| - we_count       |  1 | 0.287425475 | 301 | 130.1190 | -249.6726 |\n",
       "| - negation_freq  |  1 | 0.275431161 | 302 | 130.3944 | -250.9896 |\n",
       "| - sadness        |  1 | 0.331104995 | 303 | 130.7255 | -252.1704 |\n",
       "| - disgust        |  1 | 0.376505399 | 304 | 131.1020 | -253.2415 |\n",
       "| - hogv.cogR      |  1 | 0.518265817 | 305 | 131.6203 | -253.9671 |\n",
       "| - voice.rate     |  1 | 0.511946013 | 306 | 132.1322 | -254.7132 |\n",
       "| - avg.voiced.seg |  1 | 0.245153008 | 307 | 132.3774 | -256.1145 |\n",
       "| - gender         |  1 | 0.673197003 | 308 | 133.0506 | -256.4761 |\n",
       "| - freq_i         |  1 | 0.748469144 | 309 | 133.7991 | -256.6642 |\n",
       "| - self_count     |  1 | 0.271489468 | 310 | 134.0706 | -258.0094 |\n",
       "| - hogv.cogC      |  1 | 0.740925297 | 311 | 134.8115 | -258.2293 |\n",
       "\n"
      ],
      "text/plain": [
       "   Step             Df Deviance    Resid. Df Resid. Dev AIC      \n",
       "1                   NA          NA 289       128.9431   -228.6048\n",
       "2  - positive_bing   1 0.003997607 290       128.9471   -230.5948\n",
       "3  - trust           1 0.005364078 291       128.9524   -232.5814\n",
       "4  - anticipation    1 0.012387735 292       128.9648   -234.5504\n",
       "5  - mean.energy     1 0.018660575 293       128.9835   -236.5036\n",
       "6  - mean.pitch      1 0.075382212 294       129.0589   -238.3149\n",
       "7  - afinn_mean      1 0.069277781 295       129.1282   -240.1416\n",
       "8  - negative_bing   1 0.054473545 296       129.1826   -242.0053\n",
       "9  - pause_count     1 0.098358216 297       129.2810   -243.7595\n",
       "10 - anger           1 0.093059218 298       129.3740   -245.5271\n",
       "11 - freq_we         1 0.232766909 299       129.6068   -246.9465\n",
       "12 - hogv.entropy    1 0.224749498 300       129.8316   -248.3868\n",
       "13 - we_count        1 0.287425475 301       130.1190   -249.6726\n",
       "14 - negation_freq   1 0.275431161 302       130.3944   -250.9896\n",
       "15 - sadness         1 0.331104995 303       130.7255   -252.1704\n",
       "16 - disgust         1 0.376505399 304       131.1020   -253.2415\n",
       "17 - hogv.cogR       1 0.518265817 305       131.6203   -253.9671\n",
       "18 - voice.rate      1 0.511946013 306       132.1322   -254.7132\n",
       "19 - avg.voiced.seg  1 0.245153008 307       132.3774   -256.1145\n",
       "20 - gender          1 0.673197003 308       133.0506   -256.4761\n",
       "21 - freq_i          1 0.748469144 309       133.7991   -256.6642\n",
       "22 - self_count      1 0.271489468 310       134.0706   -258.0094\n",
       "23 - hogv.cogC       1 0.740925297 311       134.8115   -258.2293"
      ]
     },
     "metadata": {},
     "output_type": "display_data"
    },
    {
     "data": {
      "text/html": [
       "<table class=\"dataframe\">\n",
       "<caption>A Anova: 8 × 6</caption>\n",
       "<thead>\n",
       "\t<tr><th scope=col>Step</th><th scope=col>Df</th><th scope=col>Deviance</th><th scope=col>Resid. Df</th><th scope=col>Resid. Dev</th><th scope=col>AIC</th></tr>\n",
       "\t<tr><th scope=col>&lt;chr&gt;</th><th scope=col>&lt;dbl&gt;</th><th scope=col>&lt;dbl&gt;</th><th scope=col>&lt;dbl&gt;</th><th scope=col>&lt;dbl&gt;</th><th scope=col>&lt;dbl&gt;</th></tr>\n",
       "</thead>\n",
       "<tbody>\n",
       "\t<tr><td>               </td><td>NA</td><td>       NA</td><td>322</td><td>161.9356</td><td>-221.0165</td></tr>\n",
       "\t<tr><td>+ hogv.median  </td><td> 1</td><td>9.0644808</td><td>321</td><td>152.8711</td><td>-237.6224</td></tr>\n",
       "\t<tr><td>+ time.speaking</td><td> 1</td><td>4.2550521</td><td>320</td><td>148.6161</td><td>-244.7404</td></tr>\n",
       "\t<tr><td>+ swear_count  </td><td> 1</td><td>2.3311462</td><td>319</td><td>146.2849</td><td>-247.8470</td></tr>\n",
       "\t<tr><td>+ joy          </td><td> 1</td><td>1.1936432</td><td>318</td><td>145.0913</td><td>-248.4934</td></tr>\n",
       "\t<tr><td>+ um_count     </td><td> 1</td><td>3.2557574</td><td>317</td><td>141.8355</td><td>-253.8239</td></tr>\n",
       "\t<tr><td>+ surprise     </td><td> 1</td><td>2.4025985</td><td>316</td><td>139.4329</td><td>-257.3422</td></tr>\n",
       "\t<tr><td>+ gender       </td><td> 1</td><td>0.9945063</td><td>315</td><td>138.4384</td><td>-257.6542</td></tr>\n",
       "</tbody>\n",
       "</table>\n"
      ],
      "text/latex": [
       "A Anova: 8 × 6\n",
       "\\begin{tabular}{llllll}\n",
       " Step & Df & Deviance & Resid. Df & Resid. Dev & AIC\\\\\n",
       " <chr> & <dbl> & <dbl> & <dbl> & <dbl> & <dbl>\\\\\n",
       "\\hline\n",
       "\t                 & NA &        NA & 322 & 161.9356 & -221.0165\\\\\n",
       "\t + hogv.median   &  1 & 9.0644808 & 321 & 152.8711 & -237.6224\\\\\n",
       "\t + time.speaking &  1 & 4.2550521 & 320 & 148.6161 & -244.7404\\\\\n",
       "\t + swear\\_count   &  1 & 2.3311462 & 319 & 146.2849 & -247.8470\\\\\n",
       "\t + joy           &  1 & 1.1936432 & 318 & 145.0913 & -248.4934\\\\\n",
       "\t + um\\_count      &  1 & 3.2557574 & 317 & 141.8355 & -253.8239\\\\\n",
       "\t + surprise      &  1 & 2.4025985 & 316 & 139.4329 & -257.3422\\\\\n",
       "\t + gender        &  1 & 0.9945063 & 315 & 138.4384 & -257.6542\\\\\n",
       "\\end{tabular}\n"
      ],
      "text/markdown": [
       "\n",
       "A Anova: 8 × 6\n",
       "\n",
       "| Step &lt;chr&gt; | Df &lt;dbl&gt; | Deviance &lt;dbl&gt; | Resid. Df &lt;dbl&gt; | Resid. Dev &lt;dbl&gt; | AIC &lt;dbl&gt; |\n",
       "|---|---|---|---|---|---|\n",
       "| <!----> | NA |        NA | 322 | 161.9356 | -221.0165 |\n",
       "| + hogv.median   |  1 | 9.0644808 | 321 | 152.8711 | -237.6224 |\n",
       "| + time.speaking |  1 | 4.2550521 | 320 | 148.6161 | -244.7404 |\n",
       "| + swear_count   |  1 | 2.3311462 | 319 | 146.2849 | -247.8470 |\n",
       "| + joy           |  1 | 1.1936432 | 318 | 145.0913 | -248.4934 |\n",
       "| + um_count      |  1 | 3.2557574 | 317 | 141.8355 | -253.8239 |\n",
       "| + surprise      |  1 | 2.4025985 | 316 | 139.4329 | -257.3422 |\n",
       "| + gender        |  1 | 0.9945063 | 315 | 138.4384 | -257.6542 |\n",
       "\n"
      ],
      "text/plain": [
       "  Step            Df Deviance  Resid. Df Resid. Dev AIC      \n",
       "1                 NA        NA 322       161.9356   -221.0165\n",
       "2 + hogv.median    1 9.0644808 321       152.8711   -237.6224\n",
       "3 + time.speaking  1 4.2550521 320       148.6161   -244.7404\n",
       "4 + swear_count    1 2.3311462 319       146.2849   -247.8470\n",
       "5 + joy            1 1.1936432 318       145.0913   -248.4934\n",
       "6 + um_count       1 3.2557574 317       141.8355   -253.8239\n",
       "7 + surprise       1 2.4025985 316       139.4329   -257.3422\n",
       "8 + gender         1 0.9945063 315       138.4384   -257.6542"
      ]
     },
     "metadata": {},
     "output_type": "display_data"
    }
   ],
   "source": [
    "# Openness\n",
    "\n",
    "startmod_Open <- lm(Open ~ 1, data = our_df[, -c(1, 3:6)])\n",
    "fullmod_Open <- lm(Open ~., data = our_df[, -c(1, 3:6)])\n",
    "\n",
    "# stepwise regression\n",
    "\n",
    "both_Open <- MASS::stepAIC(fullmod_Open, direction = \"both\", trace = FALSE)\n",
    "\n",
    "# forward regression\n",
    "forward_Open <- MASS::stepAIC(startmod_Open, \n",
    "                              scope = list(upper = fullmod_Open), \n",
    "                              direction = \"forward\", trace = FALSE)\n",
    "\n",
    "# Openness with chosen predictions\n",
    "\n",
    "summary(both_Open)\n",
    "summary(forward_Open)\n",
    "\n",
    "# Anova table of the stepwise regression for Openness\n",
    "\n",
    "both_Open$anova\n",
    "forward_Open$anova"
   ]
  },
  {
   "cell_type": "code",
   "execution_count": 38,
   "id": "a261f3ba",
   "metadata": {
    "execution": {
     "iopub.execute_input": "2021-12-29T17:13:11.824563Z",
     "iopub.status.busy": "2021-12-29T17:13:11.822394Z",
     "iopub.status.idle": "2021-12-29T17:13:12.837147Z",
     "shell.execute_reply": "2021-12-29T17:13:12.835259Z"
    },
    "papermill": {
     "duration": 1.122483,
     "end_time": "2021-12-29T17:13:12.837307",
     "exception": false,
     "start_time": "2021-12-29T17:13:11.714824",
     "status": "completed"
    },
    "tags": []
   },
   "outputs": [
    {
     "data": {
      "text/plain": [
       "\n",
       "Call:\n",
       "lm(formula = Cons ~ negative_bing + anger + fear + trust + hogv.entropy + \n",
       "    hogv.cogC + freq_i + we_count + time.speaking + voice.rate, \n",
       "    data = our_df[, -c(1, 3:4, 6:7)])\n",
       "\n",
       "Residuals:\n",
       "     Min       1Q   Median       3Q      Max \n",
       "-2.63551 -0.38010  0.03559  0.47499  1.85216 \n",
       "\n",
       "Coefficients:\n",
       "               Estimate Std. Error t value Pr(>|t|)    \n",
       "(Intercept)    4.997231   0.481534  10.378  < 2e-16 ***\n",
       "negative_bing -0.022507   0.006453  -3.488 0.000557 ***\n",
       "anger         -0.034329   0.014607  -2.350 0.019382 *  \n",
       "fear           0.037280   0.011089   3.362 0.000870 ***\n",
       "trust          0.010421   0.004461   2.336 0.020114 *  \n",
       "hogv.entropy  -0.059969   0.029623  -2.024 0.043783 *  \n",
       "hogv.cogC     -0.005664   0.002183  -2.594 0.009931 ** \n",
       "freq_i        -3.702701   1.440146  -2.571 0.010602 *  \n",
       "we_count       0.011575   0.007142   1.621 0.106097    \n",
       "time.speaking  1.072409   0.278181   3.855 0.000141 ***\n",
       "voice.rate     9.158916   3.975784   2.304 0.021898 *  \n",
       "---\n",
       "Signif. codes:  0 ‘***’ 0.001 ‘**’ 0.01 ‘*’ 0.05 ‘.’ 0.1 ‘ ’ 1\n",
       "\n",
       "Residual standard error: 0.7095 on 312 degrees of freedom\n",
       "  (80 observations deleted due to missingness)\n",
       "Multiple R-squared:  0.2176,\tAdjusted R-squared:  0.1925 \n",
       "F-statistic: 8.679 on 10 and 312 DF,  p-value: 1.528e-12\n"
      ]
     },
     "metadata": {},
     "output_type": "display_data"
    },
    {
     "data": {
      "text/plain": [
       "\n",
       "Call:\n",
       "lm(formula = Cons ~ time.speaking + swear_count + freq_i + hogv.entropy + \n",
       "    hogv.cogC + voice.rate + negation_freq + trust + negative_bing + \n",
       "    fear + anger + we_count, data = our_df[, -c(1, 3:4, 6:7)])\n",
       "\n",
       "Residuals:\n",
       "     Min       1Q   Median       3Q      Max \n",
       "-2.59114 -0.35645  0.04693  0.47812  1.91262 \n",
       "\n",
       "Coefficients:\n",
       "               Estimate Std. Error t value Pr(>|t|)    \n",
       "(Intercept)    5.029550   0.481630  10.443  < 2e-16 ***\n",
       "time.speaking  1.076276   0.277969   3.872 0.000132 ***\n",
       "swear_count   -0.021738   0.020588  -1.056 0.291858    \n",
       "freq_i        -3.615080   1.447038  -2.498 0.012998 *  \n",
       "hogv.entropy  -0.057916   0.029630  -1.955 0.051527 .  \n",
       "hogv.cogC     -0.005350   0.002191  -2.442 0.015166 *  \n",
       "voice.rate     8.235101   4.026357   2.045 0.041669 *  \n",
       "negation_freq -7.984489   6.368666  -1.254 0.210890    \n",
       "trust          0.009483   0.004511   2.102 0.036340 *  \n",
       "negative_bing -0.018156   0.007488  -2.425 0.015894 *  \n",
       "fear           0.033472   0.011591   2.888 0.004152 ** \n",
       "anger         -0.031079   0.014815  -2.098 0.036735 *  \n",
       "we_count       0.010546   0.007198   1.465 0.143910    \n",
       "---\n",
       "Signif. codes:  0 ‘***’ 0.001 ‘**’ 0.01 ‘*’ 0.05 ‘.’ 0.1 ‘ ’ 1\n",
       "\n",
       "Residual standard error: 0.7089 on 310 degrees of freedom\n",
       "  (80 observations deleted due to missingness)\n",
       "Multiple R-squared:  0.2239,\tAdjusted R-squared:  0.1938 \n",
       "F-statistic: 7.452 on 12 and 310 DF,  p-value: 4.494e-12\n"
      ]
     },
     "metadata": {},
     "output_type": "display_data"
    },
    {
     "data": {
      "text/html": [
       "<table class=\"dataframe\">\n",
       "<caption>A Anova: 24 × 6</caption>\n",
       "<thead>\n",
       "\t<tr><th scope=col>Step</th><th scope=col>Df</th><th scope=col>Deviance</th><th scope=col>Resid. Df</th><th scope=col>Resid. Dev</th><th scope=col>AIC</th></tr>\n",
       "\t<tr><th scope=col>&lt;chr&gt;</th><th scope=col>&lt;dbl&gt;</th><th scope=col>&lt;dbl&gt;</th><th scope=col>&lt;dbl&gt;</th><th scope=col>&lt;dbl&gt;</th><th scope=col>&lt;dbl&gt;</th></tr>\n",
       "</thead>\n",
       "<tbody>\n",
       "\t<tr><td>                </td><td>NA</td><td>          NA</td><td>289</td><td>150.5187</td><td>-178.6315</td></tr>\n",
       "\t<tr><td>- mean.energy   </td><td> 1</td><td>0.0004493153</td><td>290</td><td>150.5191</td><td>-180.6306</td></tr>\n",
       "\t<tr><td>- afinn_mean    </td><td> 1</td><td>0.0007220984</td><td>291</td><td>150.5199</td><td>-182.6290</td></tr>\n",
       "\t<tr><td>- hogv.cogR     </td><td> 1</td><td>0.0092653260</td><td>292</td><td>150.5291</td><td>-184.6091</td></tr>\n",
       "\t<tr><td>- surprise      </td><td> 1</td><td>0.0116984204</td><td>293</td><td>150.5408</td><td>-186.5840</td></tr>\n",
       "\t<tr><td>- joy           </td><td> 1</td><td>0.0167754975</td><td>294</td><td>150.5576</td><td>-188.5480</td></tr>\n",
       "\t<tr><td>- positive_bing </td><td> 1</td><td>0.0671184854</td><td>295</td><td>150.6247</td><td>-190.4041</td></tr>\n",
       "\t<tr><td>- avg_char_len  </td><td> 1</td><td>0.0763883292</td><td>296</td><td>150.7011</td><td>-192.2403</td></tr>\n",
       "\t<tr><td>- swear_count   </td><td> 1</td><td>0.1260732369</td><td>297</td><td>150.8272</td><td>-193.9702</td></tr>\n",
       "\t<tr><td>- hogv.median   </td><td> 1</td><td>0.1282721710</td><td>298</td><td>150.9554</td><td>-195.6956</td></tr>\n",
       "\t<tr><td>- um_count      </td><td> 1</td><td>0.1416597042</td><td>299</td><td>151.0971</td><td>-197.3927</td></tr>\n",
       "\t<tr><td>- anticipation  </td><td> 1</td><td>0.2124477781</td><td>300</td><td>151.3096</td><td>-198.9388</td></tr>\n",
       "\t<tr><td>- self_count    </td><td> 1</td><td>0.1785919865</td><td>301</td><td>151.4881</td><td>-200.5578</td></tr>\n",
       "\t<tr><td>- pause_count   </td><td> 1</td><td>0.2302743239</td><td>302</td><td>151.7184</td><td>-202.0672</td></tr>\n",
       "\t<tr><td>- num.turns     </td><td> 1</td><td>0.3382483193</td><td>303</td><td>152.0567</td><td>-203.3479</td></tr>\n",
       "\t<tr><td>- gender        </td><td> 1</td><td>0.3150675643</td><td>304</td><td>152.3717</td><td>-204.6793</td></tr>\n",
       "\t<tr><td>- mean.pitch    </td><td> 1</td><td>0.2790150432</td><td>305</td><td>152.6507</td><td>-206.0884</td></tr>\n",
       "\t<tr><td>- avg.voiced.seg</td><td> 1</td><td>0.2075228391</td><td>306</td><td>152.8583</td><td>-207.6496</td></tr>\n",
       "\t<tr><td>- negation_freq </td><td> 1</td><td>0.5864046964</td><td>307</td><td>153.4447</td><td>-208.4129</td></tr>\n",
       "\t<tr><td>- disgust       </td><td> 1</td><td>0.5893848267</td><td>308</td><td>154.0341</td><td>-209.1746</td></tr>\n",
       "\t<tr><td>- sadness       </td><td> 1</td><td>0.4735250010</td><td>309</td><td>154.5076</td><td>-210.1831</td></tr>\n",
       "\t<tr><td>- freq_we       </td><td> 1</td><td>0.7219959002</td><td>310</td><td>155.2296</td><td>-210.6773</td></tr>\n",
       "\t<tr><td>- quest_count   </td><td> 1</td><td>0.8984321578</td><td>311</td><td>156.1280</td><td>-210.8133</td></tr>\n",
       "\t<tr><td>- avg.len.seg   </td><td> 1</td><td>0.9118949059</td><td>312</td><td>157.0399</td><td>-210.9322</td></tr>\n",
       "</tbody>\n",
       "</table>\n"
      ],
      "text/latex": [
       "A Anova: 24 × 6\n",
       "\\begin{tabular}{llllll}\n",
       " Step & Df & Deviance & Resid. Df & Resid. Dev & AIC\\\\\n",
       " <chr> & <dbl> & <dbl> & <dbl> & <dbl> & <dbl>\\\\\n",
       "\\hline\n",
       "\t                  & NA &           NA & 289 & 150.5187 & -178.6315\\\\\n",
       "\t - mean.energy    &  1 & 0.0004493153 & 290 & 150.5191 & -180.6306\\\\\n",
       "\t - afinn\\_mean     &  1 & 0.0007220984 & 291 & 150.5199 & -182.6290\\\\\n",
       "\t - hogv.cogR      &  1 & 0.0092653260 & 292 & 150.5291 & -184.6091\\\\\n",
       "\t - surprise       &  1 & 0.0116984204 & 293 & 150.5408 & -186.5840\\\\\n",
       "\t - joy            &  1 & 0.0167754975 & 294 & 150.5576 & -188.5480\\\\\n",
       "\t - positive\\_bing  &  1 & 0.0671184854 & 295 & 150.6247 & -190.4041\\\\\n",
       "\t - avg\\_char\\_len   &  1 & 0.0763883292 & 296 & 150.7011 & -192.2403\\\\\n",
       "\t - swear\\_count    &  1 & 0.1260732369 & 297 & 150.8272 & -193.9702\\\\\n",
       "\t - hogv.median    &  1 & 0.1282721710 & 298 & 150.9554 & -195.6956\\\\\n",
       "\t - um\\_count       &  1 & 0.1416597042 & 299 & 151.0971 & -197.3927\\\\\n",
       "\t - anticipation   &  1 & 0.2124477781 & 300 & 151.3096 & -198.9388\\\\\n",
       "\t - self\\_count     &  1 & 0.1785919865 & 301 & 151.4881 & -200.5578\\\\\n",
       "\t - pause\\_count    &  1 & 0.2302743239 & 302 & 151.7184 & -202.0672\\\\\n",
       "\t - num.turns      &  1 & 0.3382483193 & 303 & 152.0567 & -203.3479\\\\\n",
       "\t - gender         &  1 & 0.3150675643 & 304 & 152.3717 & -204.6793\\\\\n",
       "\t - mean.pitch     &  1 & 0.2790150432 & 305 & 152.6507 & -206.0884\\\\\n",
       "\t - avg.voiced.seg &  1 & 0.2075228391 & 306 & 152.8583 & -207.6496\\\\\n",
       "\t - negation\\_freq  &  1 & 0.5864046964 & 307 & 153.4447 & -208.4129\\\\\n",
       "\t - disgust        &  1 & 0.5893848267 & 308 & 154.0341 & -209.1746\\\\\n",
       "\t - sadness        &  1 & 0.4735250010 & 309 & 154.5076 & -210.1831\\\\\n",
       "\t - freq\\_we        &  1 & 0.7219959002 & 310 & 155.2296 & -210.6773\\\\\n",
       "\t - quest\\_count    &  1 & 0.8984321578 & 311 & 156.1280 & -210.8133\\\\\n",
       "\t - avg.len.seg    &  1 & 0.9118949059 & 312 & 157.0399 & -210.9322\\\\\n",
       "\\end{tabular}\n"
      ],
      "text/markdown": [
       "\n",
       "A Anova: 24 × 6\n",
       "\n",
       "| Step &lt;chr&gt; | Df &lt;dbl&gt; | Deviance &lt;dbl&gt; | Resid. Df &lt;dbl&gt; | Resid. Dev &lt;dbl&gt; | AIC &lt;dbl&gt; |\n",
       "|---|---|---|---|---|---|\n",
       "| <!----> | NA |           NA | 289 | 150.5187 | -178.6315 |\n",
       "| - mean.energy    |  1 | 0.0004493153 | 290 | 150.5191 | -180.6306 |\n",
       "| - afinn_mean     |  1 | 0.0007220984 | 291 | 150.5199 | -182.6290 |\n",
       "| - hogv.cogR      |  1 | 0.0092653260 | 292 | 150.5291 | -184.6091 |\n",
       "| - surprise       |  1 | 0.0116984204 | 293 | 150.5408 | -186.5840 |\n",
       "| - joy            |  1 | 0.0167754975 | 294 | 150.5576 | -188.5480 |\n",
       "| - positive_bing  |  1 | 0.0671184854 | 295 | 150.6247 | -190.4041 |\n",
       "| - avg_char_len   |  1 | 0.0763883292 | 296 | 150.7011 | -192.2403 |\n",
       "| - swear_count    |  1 | 0.1260732369 | 297 | 150.8272 | -193.9702 |\n",
       "| - hogv.median    |  1 | 0.1282721710 | 298 | 150.9554 | -195.6956 |\n",
       "| - um_count       |  1 | 0.1416597042 | 299 | 151.0971 | -197.3927 |\n",
       "| - anticipation   |  1 | 0.2124477781 | 300 | 151.3096 | -198.9388 |\n",
       "| - self_count     |  1 | 0.1785919865 | 301 | 151.4881 | -200.5578 |\n",
       "| - pause_count    |  1 | 0.2302743239 | 302 | 151.7184 | -202.0672 |\n",
       "| - num.turns      |  1 | 0.3382483193 | 303 | 152.0567 | -203.3479 |\n",
       "| - gender         |  1 | 0.3150675643 | 304 | 152.3717 | -204.6793 |\n",
       "| - mean.pitch     |  1 | 0.2790150432 | 305 | 152.6507 | -206.0884 |\n",
       "| - avg.voiced.seg |  1 | 0.2075228391 | 306 | 152.8583 | -207.6496 |\n",
       "| - negation_freq  |  1 | 0.5864046964 | 307 | 153.4447 | -208.4129 |\n",
       "| - disgust        |  1 | 0.5893848267 | 308 | 154.0341 | -209.1746 |\n",
       "| - sadness        |  1 | 0.4735250010 | 309 | 154.5076 | -210.1831 |\n",
       "| - freq_we        |  1 | 0.7219959002 | 310 | 155.2296 | -210.6773 |\n",
       "| - quest_count    |  1 | 0.8984321578 | 311 | 156.1280 | -210.8133 |\n",
       "| - avg.len.seg    |  1 | 0.9118949059 | 312 | 157.0399 | -210.9322 |\n",
       "\n"
      ],
      "text/plain": [
       "   Step             Df Deviance     Resid. Df Resid. Dev AIC      \n",
       "1                   NA           NA 289       150.5187   -178.6315\n",
       "2  - mean.energy     1 0.0004493153 290       150.5191   -180.6306\n",
       "3  - afinn_mean      1 0.0007220984 291       150.5199   -182.6290\n",
       "4  - hogv.cogR       1 0.0092653260 292       150.5291   -184.6091\n",
       "5  - surprise        1 0.0116984204 293       150.5408   -186.5840\n",
       "6  - joy             1 0.0167754975 294       150.5576   -188.5480\n",
       "7  - positive_bing   1 0.0671184854 295       150.6247   -190.4041\n",
       "8  - avg_char_len    1 0.0763883292 296       150.7011   -192.2403\n",
       "9  - swear_count     1 0.1260732369 297       150.8272   -193.9702\n",
       "10 - hogv.median     1 0.1282721710 298       150.9554   -195.6956\n",
       "11 - um_count        1 0.1416597042 299       151.0971   -197.3927\n",
       "12 - anticipation    1 0.2124477781 300       151.3096   -198.9388\n",
       "13 - self_count      1 0.1785919865 301       151.4881   -200.5578\n",
       "14 - pause_count     1 0.2302743239 302       151.7184   -202.0672\n",
       "15 - num.turns       1 0.3382483193 303       152.0567   -203.3479\n",
       "16 - gender          1 0.3150675643 304       152.3717   -204.6793\n",
       "17 - mean.pitch      1 0.2790150432 305       152.6507   -206.0884\n",
       "18 - avg.voiced.seg  1 0.2075228391 306       152.8583   -207.6496\n",
       "19 - negation_freq   1 0.5864046964 307       153.4447   -208.4129\n",
       "20 - disgust         1 0.5893848267 308       154.0341   -209.1746\n",
       "21 - sadness         1 0.4735250010 309       154.5076   -210.1831\n",
       "22 - freq_we         1 0.7219959002 310       155.2296   -210.6773\n",
       "23 - quest_count     1 0.8984321578 311       156.1280   -210.8133\n",
       "24 - avg.len.seg     1 0.9118949059 312       157.0399   -210.9322"
      ]
     },
     "metadata": {},
     "output_type": "display_data"
    },
    {
     "data": {
      "text/html": [
       "<table class=\"dataframe\">\n",
       "<caption>A Anova: 13 × 6</caption>\n",
       "<thead>\n",
       "\t<tr><th scope=col>Step</th><th scope=col>Df</th><th scope=col>Deviance</th><th scope=col>Resid. Df</th><th scope=col>Resid. Dev</th><th scope=col>AIC</th></tr>\n",
       "\t<tr><th scope=col>&lt;chr&gt;</th><th scope=col>&lt;dbl&gt;</th><th scope=col>&lt;dbl&gt;</th><th scope=col>&lt;dbl&gt;</th><th scope=col>&lt;dbl&gt;</th><th scope=col>&lt;dbl&gt;</th></tr>\n",
       "</thead>\n",
       "<tbody>\n",
       "\t<tr><td>               </td><td>NA</td><td>       NA</td><td>322</td><td>200.7218</td><td>-151.6616</td></tr>\n",
       "\t<tr><td>+ time.speaking</td><td> 1</td><td>11.551307</td><td>321</td><td>189.1705</td><td>-168.8062</td></tr>\n",
       "\t<tr><td>+ swear_count  </td><td> 1</td><td> 8.215457</td><td>320</td><td>180.9550</td><td>-181.1474</td></tr>\n",
       "\t<tr><td>+ freq_i       </td><td> 1</td><td> 8.142485</td><td>319</td><td>172.8125</td><td>-194.0187</td></tr>\n",
       "\t<tr><td>+ hogv.entropy </td><td> 1</td><td> 3.097606</td><td>318</td><td>169.7149</td><td>-197.8609</td></tr>\n",
       "\t<tr><td>+ hogv.cogC    </td><td> 1</td><td> 2.283467</td><td>317</td><td>167.4315</td><td>-200.2363</td></tr>\n",
       "\t<tr><td>+ voice.rate   </td><td> 1</td><td> 1.765038</td><td>316</td><td>165.6664</td><td>-201.6593</td></tr>\n",
       "\t<tr><td>+ negation_freq</td><td> 1</td><td> 1.315305</td><td>315</td><td>164.3511</td><td>-202.2340</td></tr>\n",
       "\t<tr><td>+ trust        </td><td> 1</td><td> 1.267623</td><td>314</td><td>163.0835</td><td>-202.7350</td></tr>\n",
       "\t<tr><td>+ negative_bing</td><td> 1</td><td> 2.108219</td><td>313</td><td>160.9753</td><td>-204.9377</td></tr>\n",
       "\t<tr><td>+ fear         </td><td> 1</td><td> 1.951242</td><td>312</td><td>159.0240</td><td>-206.8768</td></tr>\n",
       "\t<tr><td>+ anger        </td><td> 1</td><td> 2.161915</td><td>311</td><td>156.8621</td><td>-209.2981</td></tr>\n",
       "\t<tr><td>+ we_count     </td><td> 1</td><td> 1.078669</td><td>310</td><td>155.7835</td><td>-209.5269</td></tr>\n",
       "</tbody>\n",
       "</table>\n"
      ],
      "text/latex": [
       "A Anova: 13 × 6\n",
       "\\begin{tabular}{llllll}\n",
       " Step & Df & Deviance & Resid. Df & Resid. Dev & AIC\\\\\n",
       " <chr> & <dbl> & <dbl> & <dbl> & <dbl> & <dbl>\\\\\n",
       "\\hline\n",
       "\t                 & NA &        NA & 322 & 200.7218 & -151.6616\\\\\n",
       "\t + time.speaking &  1 & 11.551307 & 321 & 189.1705 & -168.8062\\\\\n",
       "\t + swear\\_count   &  1 &  8.215457 & 320 & 180.9550 & -181.1474\\\\\n",
       "\t + freq\\_i        &  1 &  8.142485 & 319 & 172.8125 & -194.0187\\\\\n",
       "\t + hogv.entropy  &  1 &  3.097606 & 318 & 169.7149 & -197.8609\\\\\n",
       "\t + hogv.cogC     &  1 &  2.283467 & 317 & 167.4315 & -200.2363\\\\\n",
       "\t + voice.rate    &  1 &  1.765038 & 316 & 165.6664 & -201.6593\\\\\n",
       "\t + negation\\_freq &  1 &  1.315305 & 315 & 164.3511 & -202.2340\\\\\n",
       "\t + trust         &  1 &  1.267623 & 314 & 163.0835 & -202.7350\\\\\n",
       "\t + negative\\_bing &  1 &  2.108219 & 313 & 160.9753 & -204.9377\\\\\n",
       "\t + fear          &  1 &  1.951242 & 312 & 159.0240 & -206.8768\\\\\n",
       "\t + anger         &  1 &  2.161915 & 311 & 156.8621 & -209.2981\\\\\n",
       "\t + we\\_count      &  1 &  1.078669 & 310 & 155.7835 & -209.5269\\\\\n",
       "\\end{tabular}\n"
      ],
      "text/markdown": [
       "\n",
       "A Anova: 13 × 6\n",
       "\n",
       "| Step &lt;chr&gt; | Df &lt;dbl&gt; | Deviance &lt;dbl&gt; | Resid. Df &lt;dbl&gt; | Resid. Dev &lt;dbl&gt; | AIC &lt;dbl&gt; |\n",
       "|---|---|---|---|---|---|\n",
       "| <!----> | NA |        NA | 322 | 200.7218 | -151.6616 |\n",
       "| + time.speaking |  1 | 11.551307 | 321 | 189.1705 | -168.8062 |\n",
       "| + swear_count   |  1 |  8.215457 | 320 | 180.9550 | -181.1474 |\n",
       "| + freq_i        |  1 |  8.142485 | 319 | 172.8125 | -194.0187 |\n",
       "| + hogv.entropy  |  1 |  3.097606 | 318 | 169.7149 | -197.8609 |\n",
       "| + hogv.cogC     |  1 |  2.283467 | 317 | 167.4315 | -200.2363 |\n",
       "| + voice.rate    |  1 |  1.765038 | 316 | 165.6664 | -201.6593 |\n",
       "| + negation_freq |  1 |  1.315305 | 315 | 164.3511 | -202.2340 |\n",
       "| + trust         |  1 |  1.267623 | 314 | 163.0835 | -202.7350 |\n",
       "| + negative_bing |  1 |  2.108219 | 313 | 160.9753 | -204.9377 |\n",
       "| + fear          |  1 |  1.951242 | 312 | 159.0240 | -206.8768 |\n",
       "| + anger         |  1 |  2.161915 | 311 | 156.8621 | -209.2981 |\n",
       "| + we_count      |  1 |  1.078669 | 310 | 155.7835 | -209.5269 |\n",
       "\n"
      ],
      "text/plain": [
       "   Step            Df Deviance  Resid. Df Resid. Dev AIC      \n",
       "1                  NA        NA 322       200.7218   -151.6616\n",
       "2  + time.speaking  1 11.551307 321       189.1705   -168.8062\n",
       "3  + swear_count    1  8.215457 320       180.9550   -181.1474\n",
       "4  + freq_i         1  8.142485 319       172.8125   -194.0187\n",
       "5  + hogv.entropy   1  3.097606 318       169.7149   -197.8609\n",
       "6  + hogv.cogC      1  2.283467 317       167.4315   -200.2363\n",
       "7  + voice.rate     1  1.765038 316       165.6664   -201.6593\n",
       "8  + negation_freq  1  1.315305 315       164.3511   -202.2340\n",
       "9  + trust          1  1.267623 314       163.0835   -202.7350\n",
       "10 + negative_bing  1  2.108219 313       160.9753   -204.9377\n",
       "11 + fear           1  1.951242 312       159.0240   -206.8768\n",
       "12 + anger          1  2.161915 311       156.8621   -209.2981\n",
       "13 + we_count       1  1.078669 310       155.7835   -209.5269"
      ]
     },
     "metadata": {},
     "output_type": "display_data"
    }
   ],
   "source": [
    "# Conscientiousness\n",
    "startmod_Cons <- lm(Cons ~ 1, data = our_df[, -c(1, 3:4, 6:7)])\n",
    "fullmod_Cons <- lm(Cons ~., data = our_df[, -c(1, 3:4, 6:7)])\n",
    "\n",
    "# stepwise regression\n",
    "both_Cons <- MASS::stepAIC(fullmod_Cons, direction = \"both\", trace = FALSE)\n",
    "\n",
    "# forward regression\n",
    "forward_Cons <- MASS::stepAIC(startmod_Cons, \n",
    "                              scope = list(upper = fullmod_Cons), \n",
    "                              direction = \"forward\", trace = FALSE)\n",
    "\n",
    "# Conscientiousness with chosen predictors\n",
    "\n",
    "summary(both_Cons)\n",
    "summary(forward_Cons)\n",
    "\n",
    "# Anova table of the stepwise regression for Conscientiousness\n",
    "\n",
    "both_Cons$anova\n",
    "forward_Cons$anova\n"
   ]
  },
  {
   "cell_type": "code",
   "execution_count": 39,
   "id": "157c32dc",
   "metadata": {
    "execution": {
     "iopub.execute_input": "2021-12-29T17:13:13.051024Z",
     "iopub.status.busy": "2021-12-29T17:13:13.048829Z",
     "iopub.status.idle": "2021-12-29T17:13:13.988366Z",
     "shell.execute_reply": "2021-12-29T17:13:13.986956Z"
    },
    "papermill": {
     "duration": 1.048164,
     "end_time": "2021-12-29T17:13:13.988571",
     "exception": false,
     "start_time": "2021-12-29T17:13:12.940407",
     "status": "completed"
    },
    "tags": []
   },
   "outputs": [
    {
     "data": {
      "text/plain": [
       "\n",
       "Call:\n",
       "lm(formula = Emot ~ trust + self_count + afinn_mean + hogv.cogR + \n",
       "    hogv.cogC + negation_freq + swear_count + time.speaking, \n",
       "    data = our_df[, -c(1, 3:5, 7)])\n",
       "\n",
       "Residuals:\n",
       "    Min      1Q  Median      3Q     Max \n",
       "-2.0881 -0.4337  0.0476  0.4486  1.7803 \n",
       "\n",
       "Coefficients:\n",
       "                Estimate Std. Error t value Pr(>|t|)    \n",
       "(Intercept)     4.436856   0.494888   8.965  < 2e-16 ***\n",
       "trust           0.006374   0.003829   1.665 0.096968 .  \n",
       "self_count     -0.001971   0.001399  -1.409 0.159829    \n",
       "afinn_mean      0.279832   0.061458   4.553 7.57e-06 ***\n",
       "hogv.cogR       0.004121   0.002217   1.859 0.063960 .  \n",
       "hogv.cogC      -0.003247   0.002090  -1.553 0.121314    \n",
       "negation_freq -19.060824   6.265934  -3.042 0.002549 ** \n",
       "swear_count    -0.062341   0.017892  -3.484 0.000564 ***\n",
       "time.speaking   0.433126   0.266561   1.625 0.105195    \n",
       "---\n",
       "Signif. codes:  0 ‘***’ 0.001 ‘**’ 0.01 ‘*’ 0.05 ‘.’ 0.1 ‘ ’ 1\n",
       "\n",
       "Residual standard error: 0.6857 on 314 degrees of freedom\n",
       "  (80 observations deleted due to missingness)\n",
       "Multiple R-squared:  0.2297,\tAdjusted R-squared:  0.2101 \n",
       "F-statistic: 11.71 on 8 and 314 DF,  p-value: 1.386e-14\n"
      ]
     },
     "metadata": {},
     "output_type": "display_data"
    },
    {
     "data": {
      "text/plain": [
       "\n",
       "Call:\n",
       "lm(formula = Emot ~ afinn_mean + swear_count + negation_freq + \n",
       "    time.speaking + hogv.cogR + hogv.cogC, data = our_df[, -c(1, \n",
       "    3:5, 7)])\n",
       "\n",
       "Residuals:\n",
       "     Min       1Q   Median       3Q      Max \n",
       "-2.09562 -0.44424  0.05158  0.46141  1.75509 \n",
       "\n",
       "Coefficients:\n",
       "                Estimate Std. Error t value Pr(>|t|)    \n",
       "(Intercept)     4.405764   0.495387   8.894  < 2e-16 ***\n",
       "afinn_mean      0.279371   0.061387   4.551 7.63e-06 ***\n",
       "swear_count    -0.061712   0.017524  -3.521 0.000492 ***\n",
       "negation_freq -19.378528   6.274169  -3.089 0.002189 ** \n",
       "time.speaking   0.498387   0.263727   1.890 0.059702 .  \n",
       "hogv.cogR       0.003859   0.002211   1.746 0.081857 .  \n",
       "hogv.cogC      -0.003021   0.002086  -1.449 0.148463    \n",
       "---\n",
       "Signif. codes:  0 ‘***’ 0.001 ‘**’ 0.01 ‘*’ 0.05 ‘.’ 0.1 ‘ ’ 1\n",
       "\n",
       "Residual standard error: 0.687 on 316 degrees of freedom\n",
       "  (80 observations deleted due to missingness)\n",
       "Multiple R-squared:  0.2219,\tAdjusted R-squared:  0.2072 \n",
       "F-statistic: 15.02 on 6 and 316 DF,  p-value: 3.958e-15\n"
      ]
     },
     "metadata": {},
     "output_type": "display_data"
    },
    {
     "data": {
      "text/html": [
       "<table class=\"dataframe\">\n",
       "<caption>A Anova: 26 × 6</caption>\n",
       "<thead>\n",
       "\t<tr><th scope=col>Step</th><th scope=col>Df</th><th scope=col>Deviance</th><th scope=col>Resid. Df</th><th scope=col>Resid. Dev</th><th scope=col>AIC</th></tr>\n",
       "\t<tr><th scope=col>&lt;chr&gt;</th><th scope=col>&lt;dbl&gt;</th><th scope=col>&lt;dbl&gt;</th><th scope=col>&lt;dbl&gt;</th><th scope=col>&lt;dbl&gt;</th><th scope=col>&lt;dbl&gt;</th></tr>\n",
       "</thead>\n",
       "<tbody>\n",
       "\t<tr><td>                </td><td>NA</td><td>         NA</td><td>289</td><td>142.1085</td><td>-197.2028</td></tr>\n",
       "\t<tr><td>- disgust       </td><td> 1</td><td>0.001079673</td><td>290</td><td>142.1096</td><td>-199.2004</td></tr>\n",
       "\t<tr><td>- anticipation  </td><td> 1</td><td>0.001928538</td><td>291</td><td>142.1115</td><td>-201.1960</td></tr>\n",
       "\t<tr><td>- mean.energy   </td><td> 1</td><td>0.027272307</td><td>292</td><td>142.1388</td><td>-203.1340</td></tr>\n",
       "\t<tr><td>- we_count      </td><td> 1</td><td>0.025271927</td><td>293</td><td>142.1641</td><td>-205.0766</td></tr>\n",
       "\t<tr><td>- pause_count   </td><td> 1</td><td>0.028109974</td><td>294</td><td>142.1922</td><td>-207.0127</td></tr>\n",
       "\t<tr><td>- positive_bing </td><td> 1</td><td>0.031942025</td><td>295</td><td>142.2241</td><td>-208.9402</td></tr>\n",
       "\t<tr><td>- joy           </td><td> 1</td><td>0.033290583</td><td>296</td><td>142.2574</td><td>-210.8646</td></tr>\n",
       "\t<tr><td>- voice.rate    </td><td> 1</td><td>0.051059992</td><td>297</td><td>142.3085</td><td>-212.7487</td></tr>\n",
       "\t<tr><td>- num.turns     </td><td> 1</td><td>0.079855924</td><td>298</td><td>142.3883</td><td>-214.5675</td></tr>\n",
       "\t<tr><td>- um_count      </td><td> 1</td><td>0.129212037</td><td>299</td><td>142.5175</td><td>-216.2745</td></tr>\n",
       "\t<tr><td>- surprise      </td><td> 1</td><td>0.197124700</td><td>300</td><td>142.7147</td><td>-217.8280</td></tr>\n",
       "\t<tr><td>- freq_i        </td><td> 1</td><td>0.192684707</td><td>301</td><td>142.9073</td><td>-219.3922</td></tr>\n",
       "\t<tr><td>- avg_char_len  </td><td> 1</td><td>0.224380523</td><td>302</td><td>143.1317</td><td>-220.8855</td></tr>\n",
       "\t<tr><td>- anger         </td><td> 1</td><td>0.239239456</td><td>303</td><td>143.3710</td><td>-222.3461</td></tr>\n",
       "\t<tr><td>- fear          </td><td> 1</td><td>0.199666880</td><td>304</td><td>143.5706</td><td>-223.8965</td></tr>\n",
       "\t<tr><td>- sadness       </td><td> 1</td><td>0.219981325</td><td>305</td><td>143.7906</td><td>-225.4020</td></tr>\n",
       "\t<tr><td>- freq_we       </td><td> 1</td><td>0.334697360</td><td>306</td><td>144.1253</td><td>-226.6510</td></tr>\n",
       "\t<tr><td>- avg.voiced.seg</td><td> 1</td><td>0.405290238</td><td>307</td><td>144.5306</td><td>-227.7440</td></tr>\n",
       "\t<tr><td>- mean.pitch    </td><td> 1</td><td>0.205890764</td><td>308</td><td>144.7365</td><td>-229.2842</td></tr>\n",
       "\t<tr><td>- gender        </td><td> 1</td><td>0.295577617</td><td>309</td><td>145.0321</td><td>-230.6253</td></tr>\n",
       "\t<tr><td>- avg.len.seg   </td><td> 1</td><td>0.410632009</td><td>310</td><td>145.4427</td><td>-231.7120</td></tr>\n",
       "\t<tr><td>- hogv.entropy  </td><td> 1</td><td>0.499850119</td><td>311</td><td>145.9426</td><td>-232.6039</td></tr>\n",
       "\t<tr><td>- quest_count   </td><td> 1</td><td>0.400965379</td><td>312</td><td>146.3435</td><td>-233.7177</td></tr>\n",
       "\t<tr><td>- negative_bing </td><td> 1</td><td>0.472795076</td><td>313</td><td>146.8163</td><td>-234.6758</td></tr>\n",
       "\t<tr><td>- hogv.median   </td><td> 1</td><td>0.819208886</td><td>314</td><td>147.6355</td><td>-234.8786</td></tr>\n",
       "</tbody>\n",
       "</table>\n"
      ],
      "text/latex": [
       "A Anova: 26 × 6\n",
       "\\begin{tabular}{llllll}\n",
       " Step & Df & Deviance & Resid. Df & Resid. Dev & AIC\\\\\n",
       " <chr> & <dbl> & <dbl> & <dbl> & <dbl> & <dbl>\\\\\n",
       "\\hline\n",
       "\t                  & NA &          NA & 289 & 142.1085 & -197.2028\\\\\n",
       "\t - disgust        &  1 & 0.001079673 & 290 & 142.1096 & -199.2004\\\\\n",
       "\t - anticipation   &  1 & 0.001928538 & 291 & 142.1115 & -201.1960\\\\\n",
       "\t - mean.energy    &  1 & 0.027272307 & 292 & 142.1388 & -203.1340\\\\\n",
       "\t - we\\_count       &  1 & 0.025271927 & 293 & 142.1641 & -205.0766\\\\\n",
       "\t - pause\\_count    &  1 & 0.028109974 & 294 & 142.1922 & -207.0127\\\\\n",
       "\t - positive\\_bing  &  1 & 0.031942025 & 295 & 142.2241 & -208.9402\\\\\n",
       "\t - joy            &  1 & 0.033290583 & 296 & 142.2574 & -210.8646\\\\\n",
       "\t - voice.rate     &  1 & 0.051059992 & 297 & 142.3085 & -212.7487\\\\\n",
       "\t - num.turns      &  1 & 0.079855924 & 298 & 142.3883 & -214.5675\\\\\n",
       "\t - um\\_count       &  1 & 0.129212037 & 299 & 142.5175 & -216.2745\\\\\n",
       "\t - surprise       &  1 & 0.197124700 & 300 & 142.7147 & -217.8280\\\\\n",
       "\t - freq\\_i         &  1 & 0.192684707 & 301 & 142.9073 & -219.3922\\\\\n",
       "\t - avg\\_char\\_len   &  1 & 0.224380523 & 302 & 143.1317 & -220.8855\\\\\n",
       "\t - anger          &  1 & 0.239239456 & 303 & 143.3710 & -222.3461\\\\\n",
       "\t - fear           &  1 & 0.199666880 & 304 & 143.5706 & -223.8965\\\\\n",
       "\t - sadness        &  1 & 0.219981325 & 305 & 143.7906 & -225.4020\\\\\n",
       "\t - freq\\_we        &  1 & 0.334697360 & 306 & 144.1253 & -226.6510\\\\\n",
       "\t - avg.voiced.seg &  1 & 0.405290238 & 307 & 144.5306 & -227.7440\\\\\n",
       "\t - mean.pitch     &  1 & 0.205890764 & 308 & 144.7365 & -229.2842\\\\\n",
       "\t - gender         &  1 & 0.295577617 & 309 & 145.0321 & -230.6253\\\\\n",
       "\t - avg.len.seg    &  1 & 0.410632009 & 310 & 145.4427 & -231.7120\\\\\n",
       "\t - hogv.entropy   &  1 & 0.499850119 & 311 & 145.9426 & -232.6039\\\\\n",
       "\t - quest\\_count    &  1 & 0.400965379 & 312 & 146.3435 & -233.7177\\\\\n",
       "\t - negative\\_bing  &  1 & 0.472795076 & 313 & 146.8163 & -234.6758\\\\\n",
       "\t - hogv.median    &  1 & 0.819208886 & 314 & 147.6355 & -234.8786\\\\\n",
       "\\end{tabular}\n"
      ],
      "text/markdown": [
       "\n",
       "A Anova: 26 × 6\n",
       "\n",
       "| Step &lt;chr&gt; | Df &lt;dbl&gt; | Deviance &lt;dbl&gt; | Resid. Df &lt;dbl&gt; | Resid. Dev &lt;dbl&gt; | AIC &lt;dbl&gt; |\n",
       "|---|---|---|---|---|---|\n",
       "| <!----> | NA |          NA | 289 | 142.1085 | -197.2028 |\n",
       "| - disgust        |  1 | 0.001079673 | 290 | 142.1096 | -199.2004 |\n",
       "| - anticipation   |  1 | 0.001928538 | 291 | 142.1115 | -201.1960 |\n",
       "| - mean.energy    |  1 | 0.027272307 | 292 | 142.1388 | -203.1340 |\n",
       "| - we_count       |  1 | 0.025271927 | 293 | 142.1641 | -205.0766 |\n",
       "| - pause_count    |  1 | 0.028109974 | 294 | 142.1922 | -207.0127 |\n",
       "| - positive_bing  |  1 | 0.031942025 | 295 | 142.2241 | -208.9402 |\n",
       "| - joy            |  1 | 0.033290583 | 296 | 142.2574 | -210.8646 |\n",
       "| - voice.rate     |  1 | 0.051059992 | 297 | 142.3085 | -212.7487 |\n",
       "| - num.turns      |  1 | 0.079855924 | 298 | 142.3883 | -214.5675 |\n",
       "| - um_count       |  1 | 0.129212037 | 299 | 142.5175 | -216.2745 |\n",
       "| - surprise       |  1 | 0.197124700 | 300 | 142.7147 | -217.8280 |\n",
       "| - freq_i         |  1 | 0.192684707 | 301 | 142.9073 | -219.3922 |\n",
       "| - avg_char_len   |  1 | 0.224380523 | 302 | 143.1317 | -220.8855 |\n",
       "| - anger          |  1 | 0.239239456 | 303 | 143.3710 | -222.3461 |\n",
       "| - fear           |  1 | 0.199666880 | 304 | 143.5706 | -223.8965 |\n",
       "| - sadness        |  1 | 0.219981325 | 305 | 143.7906 | -225.4020 |\n",
       "| - freq_we        |  1 | 0.334697360 | 306 | 144.1253 | -226.6510 |\n",
       "| - avg.voiced.seg |  1 | 0.405290238 | 307 | 144.5306 | -227.7440 |\n",
       "| - mean.pitch     |  1 | 0.205890764 | 308 | 144.7365 | -229.2842 |\n",
       "| - gender         |  1 | 0.295577617 | 309 | 145.0321 | -230.6253 |\n",
       "| - avg.len.seg    |  1 | 0.410632009 | 310 | 145.4427 | -231.7120 |\n",
       "| - hogv.entropy   |  1 | 0.499850119 | 311 | 145.9426 | -232.6039 |\n",
       "| - quest_count    |  1 | 0.400965379 | 312 | 146.3435 | -233.7177 |\n",
       "| - negative_bing  |  1 | 0.472795076 | 313 | 146.8163 | -234.6758 |\n",
       "| - hogv.median    |  1 | 0.819208886 | 314 | 147.6355 | -234.8786 |\n",
       "\n"
      ],
      "text/plain": [
       "   Step             Df Deviance    Resid. Df Resid. Dev AIC      \n",
       "1                   NA          NA 289       142.1085   -197.2028\n",
       "2  - disgust         1 0.001079673 290       142.1096   -199.2004\n",
       "3  - anticipation    1 0.001928538 291       142.1115   -201.1960\n",
       "4  - mean.energy     1 0.027272307 292       142.1388   -203.1340\n",
       "5  - we_count        1 0.025271927 293       142.1641   -205.0766\n",
       "6  - pause_count     1 0.028109974 294       142.1922   -207.0127\n",
       "7  - positive_bing   1 0.031942025 295       142.2241   -208.9402\n",
       "8  - joy             1 0.033290583 296       142.2574   -210.8646\n",
       "9  - voice.rate      1 0.051059992 297       142.3085   -212.7487\n",
       "10 - num.turns       1 0.079855924 298       142.3883   -214.5675\n",
       "11 - um_count        1 0.129212037 299       142.5175   -216.2745\n",
       "12 - surprise        1 0.197124700 300       142.7147   -217.8280\n",
       "13 - freq_i          1 0.192684707 301       142.9073   -219.3922\n",
       "14 - avg_char_len    1 0.224380523 302       143.1317   -220.8855\n",
       "15 - anger           1 0.239239456 303       143.3710   -222.3461\n",
       "16 - fear            1 0.199666880 304       143.5706   -223.8965\n",
       "17 - sadness         1 0.219981325 305       143.7906   -225.4020\n",
       "18 - freq_we         1 0.334697360 306       144.1253   -226.6510\n",
       "19 - avg.voiced.seg  1 0.405290238 307       144.5306   -227.7440\n",
       "20 - mean.pitch      1 0.205890764 308       144.7365   -229.2842\n",
       "21 - gender          1 0.295577617 309       145.0321   -230.6253\n",
       "22 - avg.len.seg     1 0.410632009 310       145.4427   -231.7120\n",
       "23 - hogv.entropy    1 0.499850119 311       145.9426   -232.6039\n",
       "24 - quest_count     1 0.400965379 312       146.3435   -233.7177\n",
       "25 - negative_bing   1 0.472795076 313       146.8163   -234.6758\n",
       "26 - hogv.median     1 0.819208886 314       147.6355   -234.8786"
      ]
     },
     "metadata": {},
     "output_type": "display_data"
    },
    {
     "data": {
      "text/html": [
       "<table class=\"dataframe\">\n",
       "<caption>A Anova: 7 × 6</caption>\n",
       "<thead>\n",
       "\t<tr><th scope=col>Step</th><th scope=col>Df</th><th scope=col>Deviance</th><th scope=col>Resid. Df</th><th scope=col>Resid. Dev</th><th scope=col>AIC</th></tr>\n",
       "\t<tr><th scope=col>&lt;chr&gt;</th><th scope=col>&lt;dbl&gt;</th><th scope=col>&lt;dbl&gt;</th><th scope=col>&lt;dbl&gt;</th><th scope=col>&lt;dbl&gt;</th><th scope=col>&lt;dbl&gt;</th></tr>\n",
       "</thead>\n",
       "<tbody>\n",
       "\t<tr><td>               </td><td>NA</td><td>        NA</td><td>322</td><td>191.6633</td><td>-166.5776</td></tr>\n",
       "\t<tr><td>+ afinn_mean   </td><td> 1</td><td>28.9586532</td><td>321</td><td>162.7047</td><td>-217.4861</td></tr>\n",
       "\t<tr><td>+ swear_count  </td><td> 1</td><td> 4.9344419</td><td>320</td><td>157.7702</td><td>-225.4335</td></tr>\n",
       "\t<tr><td>+ negation_freq</td><td> 1</td><td> 4.6349882</td><td>319</td><td>153.1353</td><td>-233.0648</td></tr>\n",
       "\t<tr><td>+ time.speaking</td><td> 1</td><td> 1.5581275</td><td>318</td><td>151.5771</td><td>-234.3682</td></tr>\n",
       "\t<tr><td>+ hogv.cogR    </td><td> 1</td><td> 1.4583227</td><td>317</td><td>150.1188</td><td>-235.4908</td></tr>\n",
       "\t<tr><td>+ hogv.cogC    </td><td> 1</td><td> 0.9902029</td><td>316</td><td>149.1286</td><td>-235.6284</td></tr>\n",
       "</tbody>\n",
       "</table>\n"
      ],
      "text/latex": [
       "A Anova: 7 × 6\n",
       "\\begin{tabular}{llllll}\n",
       " Step & Df & Deviance & Resid. Df & Resid. Dev & AIC\\\\\n",
       " <chr> & <dbl> & <dbl> & <dbl> & <dbl> & <dbl>\\\\\n",
       "\\hline\n",
       "\t                 & NA &         NA & 322 & 191.6633 & -166.5776\\\\\n",
       "\t + afinn\\_mean    &  1 & 28.9586532 & 321 & 162.7047 & -217.4861\\\\\n",
       "\t + swear\\_count   &  1 &  4.9344419 & 320 & 157.7702 & -225.4335\\\\\n",
       "\t + negation\\_freq &  1 &  4.6349882 & 319 & 153.1353 & -233.0648\\\\\n",
       "\t + time.speaking &  1 &  1.5581275 & 318 & 151.5771 & -234.3682\\\\\n",
       "\t + hogv.cogR     &  1 &  1.4583227 & 317 & 150.1188 & -235.4908\\\\\n",
       "\t + hogv.cogC     &  1 &  0.9902029 & 316 & 149.1286 & -235.6284\\\\\n",
       "\\end{tabular}\n"
      ],
      "text/markdown": [
       "\n",
       "A Anova: 7 × 6\n",
       "\n",
       "| Step &lt;chr&gt; | Df &lt;dbl&gt; | Deviance &lt;dbl&gt; | Resid. Df &lt;dbl&gt; | Resid. Dev &lt;dbl&gt; | AIC &lt;dbl&gt; |\n",
       "|---|---|---|---|---|---|\n",
       "| <!----> | NA |         NA | 322 | 191.6633 | -166.5776 |\n",
       "| + afinn_mean    |  1 | 28.9586532 | 321 | 162.7047 | -217.4861 |\n",
       "| + swear_count   |  1 |  4.9344419 | 320 | 157.7702 | -225.4335 |\n",
       "| + negation_freq |  1 |  4.6349882 | 319 | 153.1353 | -233.0648 |\n",
       "| + time.speaking |  1 |  1.5581275 | 318 | 151.5771 | -234.3682 |\n",
       "| + hogv.cogR     |  1 |  1.4583227 | 317 | 150.1188 | -235.4908 |\n",
       "| + hogv.cogC     |  1 |  0.9902029 | 316 | 149.1286 | -235.6284 |\n",
       "\n"
      ],
      "text/plain": [
       "  Step            Df Deviance   Resid. Df Resid. Dev AIC      \n",
       "1                 NA         NA 322       191.6633   -166.5776\n",
       "2 + afinn_mean     1 28.9586532 321       162.7047   -217.4861\n",
       "3 + swear_count    1  4.9344419 320       157.7702   -225.4335\n",
       "4 + negation_freq  1  4.6349882 319       153.1353   -233.0648\n",
       "5 + time.speaking  1  1.5581275 318       151.5771   -234.3682\n",
       "6 + hogv.cogR      1  1.4583227 317       150.1188   -235.4908\n",
       "7 + hogv.cogC      1  0.9902029 316       149.1286   -235.6284"
      ]
     },
     "metadata": {},
     "output_type": "display_data"
    }
   ],
   "source": [
    "# Neuroticism\n",
    "\n",
    "startmod_Emot <- lm(Emot ~ 1, data = our_df[, -c(1, 3:5, 7)])\n",
    "fullmod_Emot <- lm(Emot ~., data = our_df[, -c(1, 3:5, 7)])\n",
    "\n",
    "# forward regression\n",
    "\n",
    "both_Emot <- MASS::stepAIC(fullmod_Emot, direction = \"both\", trace = FALSE)\n",
    "\n",
    "# forward regression\n",
    "\n",
    "forward_Emot <- MASS::stepAIC(startmod_Emot, \n",
    "                              scope = list(upper = fullmod_Emot), \n",
    "                              direction = \"forward\", trace = FALSE)\n",
    "# Neuroticism with chosen predictors \n",
    "\n",
    "summary(both_Emot)\n",
    "summary(forward_Emot)\n",
    "\n",
    "# Anova table of the stepwise regression for Neuroticism\n",
    "\n",
    "both_Emot$anova\n",
    "forward_Emot$anova"
   ]
  },
  {
   "cell_type": "markdown",
   "id": "1c443db5",
   "metadata": {
    "papermill": {
     "duration": 0.103449,
     "end_time": "2021-12-29T17:13:14.195587",
     "exception": false,
     "start_time": "2021-12-29T17:13:14.092138",
     "status": "completed"
    },
    "tags": []
   },
   "source": [
    "### 7.1.3 Combined Model based on Model Selection\n"
   ]
  },
  {
   "cell_type": "markdown",
   "id": "f5af8b8b",
   "metadata": {
    "papermill": {
     "duration": 0.103038,
     "end_time": "2021-12-29T17:13:14.401817",
     "exception": false,
     "start_time": "2021-12-29T17:13:14.298779",
     "status": "completed"
    },
    "tags": []
   },
   "source": [
    "## 7.2 Flexible Models"
   ]
  },
  {
   "cell_type": "markdown",
   "id": "20f17ad4",
   "metadata": {
    "papermill": {
     "duration": 0.102997,
     "end_time": "2021-12-29T17:13:14.607746",
     "exception": false,
     "start_time": "2021-12-29T17:13:14.504749",
     "status": "completed"
    },
    "tags": []
   },
   "source": [
    "**Non-linear Transformations of the Predictors**"
   ]
  },
  {
   "cell_type": "markdown",
   "id": "7750fd05",
   "metadata": {
    "papermill": {
     "duration": 0.104823,
     "end_time": "2021-12-29T17:13:14.816074",
     "exception": false,
     "start_time": "2021-12-29T17:13:14.711251",
     "status": "completed"
    },
    "tags": []
   },
   "source": []
  },
  {
   "cell_type": "code",
   "execution_count": 40,
   "id": "7ba38b71",
   "metadata": {
    "execution": {
     "iopub.execute_input": "2021-12-29T17:13:15.031404Z",
     "iopub.status.busy": "2021-12-29T17:13:15.029312Z",
     "iopub.status.idle": "2021-12-29T17:13:15.057095Z",
     "shell.execute_reply": "2021-12-29T17:13:15.055304Z"
    },
    "papermill": {
     "duration": 0.136613,
     "end_time": "2021-12-29T17:13:15.057257",
     "exception": false,
     "start_time": "2021-12-29T17:13:14.920644",
     "status": "completed"
    },
    "tags": []
   },
   "outputs": [
    {
     "data": {
      "text/plain": [
       "\n",
       "Call:\n",
       "lm(formula = Extr ~ hogv.entropy + I(hogv.entropy^2) + quest_count + \n",
       "    um_count + I(um_count^2) + joy + I(joy^2) + mean.pitch + \n",
       "    sadness + mean.energy + I(time.speaking^2) + time.speaking + \n",
       "    hogv.median + hogv.cogR + anger, data = our_df[, -c(1, 4:7)])\n",
       "\n",
       "Residuals:\n",
       "    Min      1Q  Median      3Q     Max \n",
       "-2.6239 -0.5647  0.0386  0.6122  1.5951 \n",
       "\n",
       "Coefficients:\n",
       "                     Estimate Std. Error t value Pr(>|t|)    \n",
       "(Intercept)         1.6039747  0.8341707   1.923 0.055425 .  \n",
       "hogv.entropy        0.2929181  0.2203427   1.329 0.184711    \n",
       "I(hogv.entropy^2)  -0.0137374  0.0237859  -0.578 0.563995    \n",
       "quest_count         0.0423567  0.0115762   3.659 0.000298 ***\n",
       "um_count           -0.0336287  0.0118947  -2.827 0.005004 ** \n",
       "I(um_count^2)       0.0002871  0.0002664   1.078 0.282100    \n",
       "joy                 0.0425890  0.0143992   2.958 0.003340 ** \n",
       "I(joy^2)           -0.0005227  0.0003376  -1.548 0.122626    \n",
       "mean.pitch          0.0017004  0.0008550   1.989 0.047603 *  \n",
       "sadness            -0.0270153  0.0131989  -2.047 0.041531 *  \n",
       "mean.energy         3.8920665  1.9542211   1.992 0.047298 *  \n",
       "I(time.speaking^2)  2.4178069  1.3215755   1.829 0.068296 .  \n",
       "time.speaking      -1.1732591  1.6121582  -0.728 0.467317    \n",
       "hogv.median         1.2542966  0.6755298   1.857 0.064303 .  \n",
       "hogv.cogR           0.0045800  0.0026880   1.704 0.089422 .  \n",
       "anger               0.0128834  0.0117452   1.097 0.273542    \n",
       "---\n",
       "Signif. codes:  0 ‘***’ 0.001 ‘**’ 0.01 ‘*’ 0.05 ‘.’ 0.1 ‘ ’ 1\n",
       "\n",
       "Residual standard error: 0.8169 on 307 degrees of freedom\n",
       "  (80 observations deleted due to missingness)\n",
       "Multiple R-squared:  0.3201,\tAdjusted R-squared:  0.2869 \n",
       "F-statistic: 9.636 on 15 and 307 DF,  p-value: < 2.2e-16\n"
      ]
     },
     "metadata": {},
     "output_type": "display_data"
    }
   ],
   "source": [
    "# Extraversion\n",
    "forward_Extr2 <- lm(formula = Extr ~ hogv.entropy + I(hogv.entropy^2) + \n",
    "                    quest_count + um_count + I(um_count^2) + joy + \n",
    "                    I(joy^2) + mean.pitch + sadness + mean.energy + \n",
    "                    I(time.speaking^2) + time.speaking + hogv.median + \n",
    "                    hogv.cogR + anger, data = our_df[, -c(1, 4:7)])\n",
    "summary(forward_Extr2)"
   ]
  },
  {
   "cell_type": "code",
   "execution_count": 41,
   "id": "eca061a0",
   "metadata": {
    "execution": {
     "iopub.execute_input": "2021-12-29T17:13:15.273261Z",
     "iopub.status.busy": "2021-12-29T17:13:15.271219Z",
     "iopub.status.idle": "2021-12-29T17:13:15.304848Z",
     "shell.execute_reply": "2021-12-29T17:13:15.303019Z"
    },
    "papermill": {
     "duration": 0.143011,
     "end_time": "2021-12-29T17:13:15.305008",
     "exception": false,
     "start_time": "2021-12-29T17:13:15.161997",
     "status": "completed"
    },
    "tags": []
   },
   "outputs": [
    {
     "data": {
      "text/plain": [
       "\n",
       "Call:\n",
       "lm(formula = Agr ~ afinn_mean + I(afinn_mean^2) + swear_count + \n",
       "    I(swear_count^2) + gender + I(gender^2) + negation_freq + \n",
       "    I(negation_freq^2) + anger + hogv.cogC + freq_i + surprise + \n",
       "    pause_count + we_count, data = our_df2[, -c(1, 3, 5:7)])\n",
       "\n",
       "Residuals:\n",
       "     Min       1Q   Median       3Q      Max \n",
       "-1.95668 -0.40451  0.02375  0.41547  1.98414 \n",
       "\n",
       "Coefficients: (1 not defined because of singularities)\n",
       "                     Estimate Std. Error t value Pr(>|t|)    \n",
       "(Intercept)         5.588e+00  3.979e-01  14.043  < 2e-16 ***\n",
       "afinn_mean          5.008e-01  1.125e-01   4.452 1.19e-05 ***\n",
       "I(afinn_mean^2)    -9.173e-02  5.369e-02  -1.709 0.088523 .  \n",
       "swear_count        -1.186e-01  3.223e-02  -3.679 0.000276 ***\n",
       "I(swear_count^2)    3.262e-03  1.746e-03   1.868 0.062711 .  \n",
       "gender             -3.110e-01  7.935e-02  -3.919 0.000109 ***\n",
       "I(gender^2)                NA         NA      NA       NA    \n",
       "negation_freq       3.189e+00  1.609e+01   0.198 0.842979    \n",
       "I(negation_freq^2) -1.003e+03  5.729e+02  -1.751 0.081023 .  \n",
       "anger              -1.815e-02  8.235e-03  -2.204 0.028278 *  \n",
       "hogv.cogC          -4.400e-03  2.135e-03  -2.061 0.040147 *  \n",
       "freq_i              2.943e+00  1.454e+00   2.024 0.043802 *  \n",
       "surprise            1.047e-02  9.628e-03   1.087 0.277776    \n",
       "pause_count        -1.585e-02  7.144e-03  -2.218 0.027293 *  \n",
       "we_count            1.365e-02  6.983e-03   1.954 0.051554 .  \n",
       "---\n",
       "Signif. codes:  0 ‘***’ 0.001 ‘**’ 0.01 ‘*’ 0.05 ‘.’ 0.1 ‘ ’ 1\n",
       "\n",
       "Residual standard error: 0.6851 on 309 degrees of freedom\n",
       "  (80 observations deleted due to missingness)\n",
       "Multiple R-squared:  0.4327,\tAdjusted R-squared:  0.4088 \n",
       "F-statistic: 18.13 on 13 and 309 DF,  p-value: < 2.2e-16\n"
      ]
     },
     "metadata": {},
     "output_type": "display_data"
    }
   ],
   "source": [
    "# Agreeableness \n",
    "our_df2 <- our_df %>% mutate(gender = as.numeric(as.factor(gender)))\n",
    "\n",
    "forward_Agr2 <- lm(formula = Agr ~ afinn_mean + I(afinn_mean^2) + \n",
    "                   swear_count + I(swear_count^2) + gender + I(gender^2) +\n",
    "                   negation_freq + I(negation_freq^2) + anger + hogv.cogC + \n",
    "                   freq_i + surprise + pause_count + we_count, \n",
    "                   data = our_df2[, -c(1, 3, 5:7)])\n",
    "\n",
    "summary(forward_Agr2)"
   ]
  },
  {
   "cell_type": "code",
   "execution_count": 42,
   "id": "a4dace20",
   "metadata": {
    "execution": {
     "iopub.execute_input": "2021-12-29T17:13:15.521457Z",
     "iopub.status.busy": "2021-12-29T17:13:15.519351Z",
     "iopub.status.idle": "2021-12-29T17:13:15.547158Z",
     "shell.execute_reply": "2021-12-29T17:13:15.545295Z"
    },
    "papermill": {
     "duration": 0.137273,
     "end_time": "2021-12-29T17:13:15.547326",
     "exception": false,
     "start_time": "2021-12-29T17:13:15.410053",
     "status": "completed"
    },
    "tags": []
   },
   "outputs": [
    {
     "data": {
      "text/plain": [
       "\n",
       "Call:\n",
       "lm(formula = Open ~ hogv.median + I(hogv.median^2) + time.speaking + \n",
       "    swear_count + joy + I(joy^2) + um_count + surprise + gender, \n",
       "    data = our_df[, -c(1, 3:6)])\n",
       "\n",
       "Residuals:\n",
       "     Min       1Q   Median       3Q      Max \n",
       "-2.30210 -0.46394  0.01719  0.42965  1.65406 \n",
       "\n",
       "Coefficients:\n",
       "                   Estimate Std. Error t value Pr(>|t|)    \n",
       "(Intercept)       3.8213314  0.2028482  18.838  < 2e-16 ***\n",
       "hogv.median       1.6733137  0.8417279   1.988  0.04769 *  \n",
       "I(hogv.median^2) -0.0552986  1.8799495  -0.029  0.97655    \n",
       "time.speaking     0.7653497  0.2621148   2.920  0.00376 ** \n",
       "swear_count      -0.0422754  0.0151852  -2.784  0.00570 ** \n",
       "joy               0.0340408  0.0125402   2.715  0.00701 ** \n",
       "I(joy^2)         -0.0002857  0.0002714  -1.053  0.29332    \n",
       "um_count         -0.0121273  0.0043122  -2.812  0.00523 ** \n",
       "surprise         -0.0273042  0.0114213  -2.391  0.01741 *  \n",
       "genderMale        0.1081464  0.0750770   1.440  0.15073    \n",
       "---\n",
       "Signif. codes:  0 ‘***’ 0.001 ‘**’ 0.01 ‘*’ 0.05 ‘.’ 0.1 ‘ ’ 1\n",
       "\n",
       "Residual standard error: 0.6639 on 313 degrees of freedom\n",
       "  (80 observations deleted due to missingness)\n",
       "Multiple R-squared:  0.1481,\tAdjusted R-squared:  0.1236 \n",
       "F-statistic: 6.047 on 9 and 313 DF,  p-value: 7.843e-08\n"
      ]
     },
     "metadata": {},
     "output_type": "display_data"
    }
   ],
   "source": [
    "# Openness\n",
    "forward_Open2 <- lm(formula = Open ~ hogv.median + I(hogv.median^2) + time.speaking +\n",
    "                    swear_count + joy + I(joy^2) + um_count + surprise + gender, \n",
    "                    data = our_df[, -c(1, 3:6)])\n",
    "\n",
    "\n",
    "summary(forward_Open2)"
   ]
  },
  {
   "cell_type": "code",
   "execution_count": 43,
   "id": "64116002",
   "metadata": {
    "execution": {
     "iopub.execute_input": "2021-12-29T17:13:15.764588Z",
     "iopub.status.busy": "2021-12-29T17:13:15.762525Z",
     "iopub.status.idle": "2021-12-29T17:13:15.790108Z",
     "shell.execute_reply": "2021-12-29T17:13:15.788237Z"
    },
    "papermill": {
     "duration": 0.137567,
     "end_time": "2021-12-29T17:13:15.790272",
     "exception": false,
     "start_time": "2021-12-29T17:13:15.652705",
     "status": "completed"
    },
    "tags": []
   },
   "outputs": [
    {
     "data": {
      "text/plain": [
       "\n",
       "Call:\n",
       "lm(formula = Cons ~ time.speaking + I(time.speaking^2) + swear_count + \n",
       "    freq_i + hogv.entropy + hogv.cogC + voice.rate + negation_freq + \n",
       "    trust + negative_bing + fear + anger, data = our_df[, -c(1, \n",
       "    3:4, 6:7)])\n",
       "\n",
       "Residuals:\n",
       "     Min       1Q   Median       3Q      Max \n",
       "-2.26708 -0.38063  0.03373  0.47128  1.93919 \n",
       "\n",
       "Coefficients:\n",
       "                    Estimate Std. Error t value Pr(>|t|)    \n",
       "(Intercept)         5.360723   0.583319   9.190  < 2e-16 ***\n",
       "time.speaking      -0.225239   1.368560  -0.165  0.86938    \n",
       "I(time.speaking^2)  1.093022   1.127728   0.969  0.33319    \n",
       "swear_count        -0.026500   0.020469  -1.295  0.19640    \n",
       "freq_i             -3.929021   1.422614  -2.762  0.00609 ** \n",
       "hogv.entropy       -0.058905   0.029675  -1.985  0.04802 *  \n",
       "hogv.cogC          -0.004883   0.002190  -2.230  0.02648 *  \n",
       "voice.rate          8.141529   4.033696   2.018  0.04441 *  \n",
       "negation_freq      -8.430422   6.388626  -1.320  0.18794    \n",
       "trust               0.010616   0.004470   2.375  0.01816 *  \n",
       "negative_bing      -0.016513   0.007430  -2.223  0.02697 *  \n",
       "fear                0.033128   0.011610   2.854  0.00461 ** \n",
       "anger              -0.030996   0.014845  -2.088  0.03761 *  \n",
       "---\n",
       "Signif. codes:  0 ‘***’ 0.001 ‘**’ 0.01 ‘*’ 0.05 ‘.’ 0.1 ‘ ’ 1\n",
       "\n",
       "Residual standard error: 0.7103 on 310 degrees of freedom\n",
       "  (80 observations deleted due to missingness)\n",
       "Multiple R-squared:  0.2209,\tAdjusted R-squared:  0.1907 \n",
       "F-statistic: 7.323 on 12 and 310 DF,  p-value: 7.672e-12\n"
      ]
     },
     "metadata": {},
     "output_type": "display_data"
    }
   ],
   "source": [
    "# Conscientiousness\n",
    "forward_Cons2 <- lm(formula = Cons ~ time.speaking + I(time.speaking^2) + swear_count + \n",
    "                    freq_i + hogv.entropy + hogv.cogC + voice.rate + negation_freq + \n",
    "                    trust + negative_bing + fear + anger,\n",
    "                    data = our_df[, -c(1, 3:4, 6:7)])\n",
    "\n",
    "\n",
    "summary(forward_Cons2)"
   ]
  },
  {
   "cell_type": "code",
   "execution_count": 44,
   "id": "31512ee6",
   "metadata": {
    "execution": {
     "iopub.execute_input": "2021-12-29T17:13:16.012101Z",
     "iopub.status.busy": "2021-12-29T17:13:16.010130Z",
     "iopub.status.idle": "2021-12-29T17:13:16.037014Z",
     "shell.execute_reply": "2021-12-29T17:13:16.035292Z"
    },
    "papermill": {
     "duration": 0.138666,
     "end_time": "2021-12-29T17:13:16.037167",
     "exception": false,
     "start_time": "2021-12-29T17:13:15.898501",
     "status": "completed"
    },
    "tags": []
   },
   "outputs": [
    {
     "data": {
      "text/plain": [
       "\n",
       "Call:\n",
       "lm(formula = Emot ~ afinn_mean + I(afinn_mean^2) + swear_count + \n",
       "    I(swear_count^2) + I(negation_freq^2) + negation_freq + time.speaking + \n",
       "    hogv.cogR + hogv.cogC, data = our_df[, -c(1, 3:5, 7)])\n",
       "\n",
       "Residuals:\n",
       "    Min      1Q  Median      3Q     Max \n",
       "-2.0308 -0.4490  0.0343  0.4767  1.7035 \n",
       "\n",
       "Coefficients:\n",
       "                     Estimate Std. Error t value Pr(>|t|)    \n",
       "(Intercept)         4.302e+00  4.969e-01   8.658 2.59e-16 ***\n",
       "afinn_mean          3.628e-01  1.041e-01   3.486 0.000559 ***\n",
       "I(afinn_mean^2)    -3.846e-02  5.093e-02  -0.755 0.450779    \n",
       "swear_count        -7.139e-02  2.975e-02  -2.399 0.017003 *  \n",
       "I(swear_count^2)    1.075e-03  1.680e-03   0.640 0.522770    \n",
       "I(negation_freq^2) -1.085e+03  5.595e+02  -1.940 0.053315 .  \n",
       "negation_freq       8.184e+00  1.578e+01   0.519 0.604446    \n",
       "time.speaking       4.359e-01  2.660e-01   1.639 0.102308    \n",
       "hogv.cogR           3.476e-03  2.219e-03   1.566 0.118304    \n",
       "hogv.cogC          -2.670e-03  2.100e-03  -1.271 0.204594    \n",
       "---\n",
       "Signif. codes:  0 ‘***’ 0.001 ‘**’ 0.01 ‘*’ 0.05 ‘.’ 0.1 ‘ ’ 1\n",
       "\n",
       "Residual standard error: 0.6854 on 313 degrees of freedom\n",
       "  (80 observations deleted due to missingness)\n",
       "Multiple R-squared:  0.2328,\tAdjusted R-squared:  0.2108 \n",
       "F-statistic: 10.55 on 9 and 313 DF,  p-value: 2.756e-14\n"
      ]
     },
     "metadata": {},
     "output_type": "display_data"
    }
   ],
   "source": [
    "# Neuroticism\n",
    "forward_Emot2 <- lm(formula = Emot ~ afinn_mean + I(afinn_mean^2) + \n",
    "                    swear_count + I(swear_count^2) +  I(negation_freq^2) + \n",
    "                    negation_freq + time.speaking + \n",
    "                    hogv.cogR + hogv.cogC, \n",
    "                    data = our_df[, -c(1, 3:5, 7)])\n",
    "\n",
    "summary(forward_Emot2)"
   ]
  },
  {
   "cell_type": "markdown",
   "id": "a8b2fef6",
   "metadata": {
    "papermill": {
     "duration": 0.105858,
     "end_time": "2021-12-29T17:13:16.248702",
     "exception": false,
     "start_time": "2021-12-29T17:13:16.142844",
     "status": "completed"
    },
    "tags": []
   },
   "source": [
    "# 8. Performance Tables"
   ]
  },
  {
   "cell_type": "code",
   "execution_count": 45,
   "id": "57fd281f",
   "metadata": {
    "_cell_guid": "0db1c40b-9c27-4db1-ae20-4714bff93e8c",
    "_uuid": "60f2cb85-83da-41ac-a158-98f96092d269",
    "collapsed": false,
    "execution": {
     "iopub.execute_input": "2021-12-29T17:13:16.468303Z",
     "iopub.status.busy": "2021-12-29T17:13:16.466159Z",
     "iopub.status.idle": "2021-12-29T17:13:16.604193Z",
     "shell.execute_reply": "2021-12-29T17:13:16.601463Z"
    },
    "jupyter": {
     "outputs_hidden": false
    },
    "papermill": {
     "duration": 0.249063,
     "end_time": "2021-12-29T17:13:16.604431",
     "exception": false,
     "start_time": "2021-12-29T17:13:16.355368",
     "status": "completed"
    },
    "tags": []
   },
   "outputs": [
    {
     "data": {
      "text/html": [
       "<table class=\"dataframe\">\n",
       "<caption>A tibble: 1 × 5</caption>\n",
       "<thead>\n",
       "\t<tr><th scope=col>Extr</th><th scope=col>Agr</th><th scope=col>Cons</th><th scope=col>Emot</th><th scope=col>Open</th></tr>\n",
       "\t<tr><th scope=col>&lt;dbl&gt;</th><th scope=col>&lt;dbl&gt;</th><th scope=col>&lt;dbl&gt;</th><th scope=col>&lt;dbl&gt;</th><th scope=col>&lt;dbl&gt;</th></tr>\n",
       "</thead>\n",
       "<tbody>\n",
       "\t<tr><td>0.3251016</td><td>0.4379757</td><td>0.2501129</td><td>0.2585514</td><td>0.2037386</td></tr>\n",
       "</tbody>\n",
       "</table>\n"
      ],
      "text/latex": [
       "A tibble: 1 × 5\n",
       "\\begin{tabular}{lllll}\n",
       " Extr & Agr & Cons & Emot & Open\\\\\n",
       " <dbl> & <dbl> & <dbl> & <dbl> & <dbl>\\\\\n",
       "\\hline\n",
       "\t 0.3251016 & 0.4379757 & 0.2501129 & 0.2585514 & 0.2037386\\\\\n",
       "\\end{tabular}\n"
      ],
      "text/markdown": [
       "\n",
       "A tibble: 1 × 5\n",
       "\n",
       "| Extr &lt;dbl&gt; | Agr &lt;dbl&gt; | Cons &lt;dbl&gt; | Emot &lt;dbl&gt; | Open &lt;dbl&gt; |\n",
       "|---|---|---|---|---|\n",
       "| 0.3251016 | 0.4379757 | 0.2501129 | 0.2585514 | 0.2037386 |\n",
       "\n"
      ],
      "text/plain": [
       "  Extr      Agr       Cons      Emot      Open     \n",
       "1 0.3251016 0.4379757 0.2501129 0.2585514 0.2037386"
      ]
     },
     "metadata": {},
     "output_type": "display_data"
    },
    {
     "data": {
      "text/html": [
       "<table class=\"dataframe\">\n",
       "<caption>A tibble: 1 × 5</caption>\n",
       "<thead>\n",
       "\t<tr><th scope=col>Extr</th><th scope=col>Agr</th><th scope=col>Cons</th><th scope=col>Emot</th><th scope=col>Open</th></tr>\n",
       "\t<tr><th scope=col>&lt;dbl&gt;</th><th scope=col>&lt;dbl&gt;</th><th scope=col>&lt;dbl&gt;</th><th scope=col>&lt;dbl&gt;</th><th scope=col>&lt;dbl&gt;</th></tr>\n",
       "</thead>\n",
       "<tbody>\n",
       "\t<tr><td>0.3061446</td><td>0.4197786</td><td>0.217624</td><td>0.2297143</td><td>0.1674995</td></tr>\n",
       "</tbody>\n",
       "</table>\n"
      ],
      "text/latex": [
       "A tibble: 1 × 5\n",
       "\\begin{tabular}{lllll}\n",
       " Extr & Agr & Cons & Emot & Open\\\\\n",
       " <dbl> & <dbl> & <dbl> & <dbl> & <dbl>\\\\\n",
       "\\hline\n",
       "\t 0.3061446 & 0.4197786 & 0.217624 & 0.2297143 & 0.1674995\\\\\n",
       "\\end{tabular}\n"
      ],
      "text/markdown": [
       "\n",
       "A tibble: 1 × 5\n",
       "\n",
       "| Extr &lt;dbl&gt; | Agr &lt;dbl&gt; | Cons &lt;dbl&gt; | Emot &lt;dbl&gt; | Open &lt;dbl&gt; |\n",
       "|---|---|---|---|---|\n",
       "| 0.3061446 | 0.4197786 | 0.217624 | 0.2297143 | 0.1674995 |\n",
       "\n"
      ],
      "text/plain": [
       "  Extr      Agr       Cons     Emot      Open     \n",
       "1 0.3061446 0.4197786 0.217624 0.2297143 0.1674995"
      ]
     },
     "metadata": {},
     "output_type": "display_data"
    },
    {
     "data": {
      "text/html": [
       "<table class=\"dataframe\">\n",
       "<caption>A tibble: 1 × 5</caption>\n",
       "<thead>\n",
       "\t<tr><th scope=col>Extr</th><th scope=col>Agr</th><th scope=col>Cons</th><th scope=col>Emot</th><th scope=col>Open</th></tr>\n",
       "\t<tr><th scope=col>&lt;dbl&gt;</th><th scope=col>&lt;dbl&gt;</th><th scope=col>&lt;dbl&gt;</th><th scope=col>&lt;dbl&gt;</th><th scope=col>&lt;dbl&gt;</th></tr>\n",
       "</thead>\n",
       "<tbody>\n",
       "\t<tr><td>0.3061446</td><td>0.4200304</td><td>0.2238837</td><td>0.2219242</td><td>0.145102</td></tr>\n",
       "</tbody>\n",
       "</table>\n"
      ],
      "text/latex": [
       "A tibble: 1 × 5\n",
       "\\begin{tabular}{lllll}\n",
       " Extr & Agr & Cons & Emot & Open\\\\\n",
       " <dbl> & <dbl> & <dbl> & <dbl> & <dbl>\\\\\n",
       "\\hline\n",
       "\t 0.3061446 & 0.4200304 & 0.2238837 & 0.2219242 & 0.145102\\\\\n",
       "\\end{tabular}\n"
      ],
      "text/markdown": [
       "\n",
       "A tibble: 1 × 5\n",
       "\n",
       "| Extr &lt;dbl&gt; | Agr &lt;dbl&gt; | Cons &lt;dbl&gt; | Emot &lt;dbl&gt; | Open &lt;dbl&gt; |\n",
       "|---|---|---|---|---|\n",
       "| 0.3061446 | 0.4200304 | 0.2238837 | 0.2219242 | 0.145102 |\n",
       "\n"
      ],
      "text/plain": [
       "  Extr      Agr       Cons      Emot      Open    \n",
       "1 0.3061446 0.4200304 0.2238837 0.2219242 0.145102"
      ]
     },
     "metadata": {},
     "output_type": "display_data"
    },
    {
     "data": {
      "text/html": [
       "<table class=\"dataframe\">\n",
       "<caption>A tibble: 1 × 5</caption>\n",
       "<thead>\n",
       "\t<tr><th scope=col>Extr</th><th scope=col>Agr</th><th scope=col>Cons</th><th scope=col>Emot</th><th scope=col>Open</th></tr>\n",
       "\t<tr><th scope=col>&lt;dbl&gt;</th><th scope=col>&lt;dbl&gt;</th><th scope=col>&lt;dbl&gt;</th><th scope=col>&lt;dbl&gt;</th><th scope=col>&lt;dbl&gt;</th></tr>\n",
       "</thead>\n",
       "<tbody>\n",
       "\t<tr><td>0.320113</td><td>0.4326969</td><td>0.2208707</td><td>0.2328184</td><td>0.1481289</td></tr>\n",
       "</tbody>\n",
       "</table>\n"
      ],
      "text/latex": [
       "A tibble: 1 × 5\n",
       "\\begin{tabular}{lllll}\n",
       " Extr & Agr & Cons & Emot & Open\\\\\n",
       " <dbl> & <dbl> & <dbl> & <dbl> & <dbl>\\\\\n",
       "\\hline\n",
       "\t 0.320113 & 0.4326969 & 0.2208707 & 0.2328184 & 0.1481289\\\\\n",
       "\\end{tabular}\n"
      ],
      "text/markdown": [
       "\n",
       "A tibble: 1 × 5\n",
       "\n",
       "| Extr &lt;dbl&gt; | Agr &lt;dbl&gt; | Cons &lt;dbl&gt; | Emot &lt;dbl&gt; | Open &lt;dbl&gt; |\n",
       "|---|---|---|---|---|\n",
       "| 0.320113 | 0.4326969 | 0.2208707 | 0.2328184 | 0.1481289 |\n",
       "\n"
      ],
      "text/plain": [
       "  Extr     Agr       Cons      Emot      Open     \n",
       "1 0.320113 0.4326969 0.2208707 0.2328184 0.1481289"
      ]
     },
     "metadata": {},
     "output_type": "display_data"
    }
   ],
   "source": [
    "best_total_ml <- tibble(Extr = summary(fit_our_ml)[[1]]$r.squared,\n",
    "                          Agr = summary(fit_our_ml)[[2]]$r.squared,\n",
    "                          Cons = summary(fit_our_ml)[[3]]$r.squared,\n",
    "                          Emot = summary(fit_our_ml)[[4]]$r.squared,\n",
    "                          Open = summary(fit_our_ml)[[5]]$r.squared)\n",
    "\n",
    "\n",
    "best_both_ml <- tibble(Extr = summary(both_Extr)$r.squared,\n",
    "                         Agr = summary(both_Agr)$r.squared, \n",
    "                         Cons = summary(both_Cons)$r.squared,\n",
    "                         Emot = summary(both_Emot)$r.squared,\n",
    "                         Open = summary(both_Open)$r.squared)\n",
    "\n",
    "best_forward_ml <- tibble(Extr = summary(forward_Extr)$r.squared,\n",
    "                         Agr = summary(forward_Agr)$r.squared, \n",
    "                         Cons = summary(forward_Cons)$r.squared,\n",
    "                         Emot = summary(forward_Emot)$r.squared,\n",
    "                         Open = summary(forward_Open)$r.squared)\n",
    "\n",
    "best_transformed_ml <- tibble(Extr = summary(forward_Extr2)$r.squared,\n",
    "                              Agr = summary(forward_Agr2)$r.squared, \n",
    "                              Cons = summary(forward_Cons2)$r.squared,\n",
    "                              Emot = summary(forward_Emot2)$r.squared,\n",
    "                              Open = summary(forward_Open2)$r.squared)\n",
    "\n",
    "\n",
    "best_total_ml\n",
    "best_both_ml\n",
    "best_forward_ml\n",
    "best_transformed_ml"
   ]
  },
  {
   "cell_type": "markdown",
   "id": "147cbb20",
   "metadata": {
    "papermill": {
     "duration": 0.108887,
     "end_time": "2021-12-29T17:13:16.831015",
     "exception": false,
     "start_time": "2021-12-29T17:13:16.722128",
     "status": "completed"
    },
    "tags": []
   },
   "source": [
    "###### The overall model still shows the highest explained variance, so we decided to use that for our final predictions. "
   ]
  },
  {
   "cell_type": "markdown",
   "id": "5fdeb934",
   "metadata": {
    "papermill": {
     "duration": 0.11209,
     "end_time": "2021-12-29T17:13:17.053413",
     "exception": false,
     "start_time": "2021-12-29T17:13:16.941323",
     "status": "completed"
    },
    "tags": []
   },
   "source": [
    "# Final model\n",
    "### Total Model including all predictors and outcome variables according to stepwise regression"
   ]
  },
  {
   "cell_type": "code",
   "execution_count": 46,
   "id": "bdf333bd",
   "metadata": {
    "execution": {
     "iopub.execute_input": "2021-12-29T17:13:17.285331Z",
     "iopub.status.busy": "2021-12-29T17:13:17.283573Z",
     "iopub.status.idle": "2021-12-29T17:13:17.359262Z",
     "shell.execute_reply": "2021-12-29T17:13:17.354733Z"
    },
    "papermill": {
     "duration": 0.189163,
     "end_time": "2021-12-29T17:13:17.359534",
     "exception": false,
     "start_time": "2021-12-29T17:13:17.170371",
     "status": "completed"
    },
    "tags": []
   },
   "outputs": [
    {
     "data": {
      "text/plain": [
       "Response Extr :\n",
       "\n",
       "Call:\n",
       "lm(formula = Extr ~ gender + anger + anticipation + disgust + \n",
       "    fear + joy + sadness + surprise + trust + positive_bing + \n",
       "    negative_bing + um_count + quest_count + pause_count + mean.pitch + \n",
       "    mean.energy + avg.voiced.seg + self_count + we_count + afinn_mean + \n",
       "    avg_char_len + hogv.entropy + hogv.median + hogv.cogR + hogv.cogC + \n",
       "    freq_i + freq_we + negation_freq + swear_count + time.speaking + \n",
       "    num.turns + voice.rate + avg.len.seg, data = our_df)\n",
       "\n",
       "Residuals:\n",
       "     Min       1Q   Median       3Q      Max \n",
       "-2.72945 -0.55213  0.04367  0.63382  1.66407 \n",
       "\n",
       "Coefficients:\n",
       "                 Estimate Std. Error t value Pr(>|t|)    \n",
       "(Intercept)     1.1285651  0.8587297   1.314 0.189812    \n",
       "genderMale      0.1453904  0.1149739   1.265 0.207051    \n",
       "anger           0.0108287  0.0183308   0.591 0.555157    \n",
       "anticipation   -0.0060187  0.0115439  -0.521 0.602502    \n",
       "disgust         0.0038910  0.0214846   0.181 0.856410    \n",
       "fear            0.0075479  0.0158966   0.475 0.635280    \n",
       "joy             0.0306451  0.0129733   2.362 0.018832 *  \n",
       "sadness        -0.0306797  0.0164181  -1.869 0.062683 .  \n",
       "surprise       -0.0047735  0.0171606  -0.278 0.781083    \n",
       "trust          -0.0072860  0.0096296  -0.757 0.449890    \n",
       "positive_bing   0.0036644  0.0056012   0.654 0.513497    \n",
       "negative_bing  -0.0021807  0.0117432  -0.186 0.852811    \n",
       "um_count       -0.0182769  0.0071706  -2.549 0.011324 *  \n",
       "quest_count     0.0326688  0.0134747   2.424 0.015945 *  \n",
       "pause_count    -0.0085532  0.0131998  -0.648 0.517512    \n",
       "mean.pitch      0.0027079  0.0011203   2.417 0.016260 *  \n",
       "mean.energy     3.3287298  2.1295586   1.563 0.119122    \n",
       "avg.voiced.seg -0.0699111  0.0937831  -0.745 0.456602    \n",
       "self_count      0.0012096  0.0037802   0.320 0.749207    \n",
       "we_count       -0.0040022  0.0133760  -0.299 0.764995    \n",
       "afinn_mean     -0.0082119  0.0983871  -0.083 0.933539    \n",
       "avg_char_len   -0.0005136  0.0016659  -0.308 0.758076    \n",
       "hogv.entropy    0.1762639  0.0520834   3.384 0.000812 ***\n",
       "hogv.median     0.8759795  0.5824951   1.504 0.133715    \n",
       "hogv.cogR       0.0041803  0.0027996   1.493 0.136482    \n",
       "hogv.cogC       0.0010702  0.0027035   0.396 0.692502    \n",
       "freq_i         -1.7987841  2.6416694  -0.681 0.496463    \n",
       "freq_we         3.6868708  8.2930688   0.445 0.656961    \n",
       "negation_freq  -4.1812252  7.9783643  -0.524 0.600631    \n",
       "swear_count     0.0188581  0.0278832   0.676 0.499375    \n",
       "time.speaking   1.6552923  0.4312816   3.838 0.000152 ***\n",
       "num.turns      -0.7981139  0.7139824  -1.118 0.264566    \n",
       "voice.rate      4.2445194  5.8926637   0.720 0.471919    \n",
       "avg.len.seg    -0.0197210  0.0252356  -0.781 0.435164    \n",
       "---\n",
       "Signif. codes:  0 ‘***’ 0.001 ‘**’ 0.01 ‘*’ 0.05 ‘.’ 0.1 ‘ ’ 1\n",
       "\n",
       "Residual standard error: 0.8389 on 289 degrees of freedom\n",
       "  (80 observations deleted due to missingness)\n",
       "Multiple R-squared:  0.3251,\tAdjusted R-squared:  0.248 \n",
       "F-statistic: 4.219 on 33 and 289 DF,  p-value: 1.003e-11\n",
       "\n",
       "\n",
       "Response Agr :\n",
       "\n",
       "Call:\n",
       "lm(formula = Agr ~ gender + anger + anticipation + disgust + \n",
       "    fear + joy + sadness + surprise + trust + positive_bing + \n",
       "    negative_bing + um_count + quest_count + pause_count + mean.pitch + \n",
       "    mean.energy + avg.voiced.seg + self_count + we_count + afinn_mean + \n",
       "    avg_char_len + hogv.entropy + hogv.median + hogv.cogR + hogv.cogC + \n",
       "    freq_i + freq_we + negation_freq + swear_count + time.speaking + \n",
       "    num.turns + voice.rate + avg.len.seg, data = our_df)\n",
       "\n",
       "Residuals:\n",
       "     Min       1Q   Median       3Q      Max \n",
       "-1.95331 -0.41153  0.03469  0.44717  2.01829 \n",
       "\n",
       "Coefficients:\n",
       "                 Estimate Std. Error t value Pr(>|t|)    \n",
       "(Intercept)     5.315e+00  7.218e-01   7.364 1.87e-12 ***\n",
       "genderMale     -3.087e-01  9.664e-02  -3.194  0.00156 ** \n",
       "anger          -3.031e-02  1.541e-02  -1.967  0.05014 .  \n",
       "anticipation    2.480e-03  9.703e-03   0.256  0.79845    \n",
       "disgust        -1.453e-02  1.806e-02  -0.805  0.42176    \n",
       "fear            1.838e-02  1.336e-02   1.375  0.17010    \n",
       "joy             8.497e-03  1.090e-02   0.779  0.43651    \n",
       "sadness        -1.052e-02  1.380e-02  -0.762  0.44665    \n",
       "surprise        1.376e-02  1.442e-02   0.954  0.34102    \n",
       "trust          -8.464e-03  8.094e-03  -1.046  0.29660    \n",
       "positive_bing  -3.955e-03  4.708e-03  -0.840  0.40151    \n",
       "negative_bing   5.116e-03  9.871e-03   0.518  0.60468    \n",
       "um_count        4.163e-03  6.027e-03   0.691  0.49027    \n",
       "quest_count     6.663e-03  1.133e-02   0.588  0.55682    \n",
       "pause_count    -1.023e-02  1.110e-02  -0.922  0.35708    \n",
       "mean.pitch     -2.321e-04  9.416e-04  -0.247  0.80545    \n",
       "mean.energy     1.146e-01  1.790e+00   0.064  0.94902    \n",
       "avg.voiced.seg  4.541e-02  7.883e-02   0.576  0.56502    \n",
       "self_count      4.160e-04  3.177e-03   0.131  0.89594    \n",
       "we_count        8.038e-03  1.124e-02   0.715  0.47522    \n",
       "afinn_mean      3.554e-01  8.270e-02   4.297 2.37e-05 ***\n",
       "avg_char_len    1.497e-03  1.400e-03   1.069  0.28593    \n",
       "hogv.entropy    9.650e-03  4.378e-02   0.220  0.82570    \n",
       "hogv.median    -1.914e-01  4.896e-01  -0.391  0.69615    \n",
       "hogv.cogR      -1.709e-03  2.353e-03  -0.726  0.46828    \n",
       "hogv.cogC      -5.783e-03  2.272e-03  -2.545  0.01145 *  \n",
       "freq_i          4.425e+00  2.220e+00   1.993  0.04721 *  \n",
       "freq_we         5.149e+00  6.971e+00   0.739  0.46069    \n",
       "negation_freq  -2.089e+01  6.706e+00  -3.115  0.00203 ** \n",
       "swear_count    -6.895e-02  2.344e-02  -2.942  0.00353 ** \n",
       "time.speaking   2.267e-01  3.625e-01   0.625  0.53232    \n",
       "num.turns      -2.558e-01  6.001e-01  -0.426  0.67020    \n",
       "voice.rate      3.580e+00  4.953e+00   0.723  0.47037    \n",
       "avg.len.seg    -3.591e-03  2.121e-02  -0.169  0.86569    \n",
       "---\n",
       "Signif. codes:  0 ‘***’ 0.001 ‘**’ 0.01 ‘*’ 0.05 ‘.’ 0.1 ‘ ’ 1\n",
       "\n",
       "Residual standard error: 0.7051 on 289 degrees of freedom\n",
       "  (80 observations deleted due to missingness)\n",
       "Multiple R-squared:  0.438,\tAdjusted R-squared:  0.3738 \n",
       "F-statistic: 6.825 on 33 and 289 DF,  p-value: < 2.2e-16\n",
       "\n",
       "\n",
       "Response Cons :\n",
       "\n",
       "Call:\n",
       "lm(formula = Cons ~ gender + anger + anticipation + disgust + \n",
       "    fear + joy + sadness + surprise + trust + positive_bing + \n",
       "    negative_bing + um_count + quest_count + pause_count + mean.pitch + \n",
       "    mean.energy + avg.voiced.seg + self_count + we_count + afinn_mean + \n",
       "    avg_char_len + hogv.entropy + hogv.median + hogv.cogR + hogv.cogC + \n",
       "    freq_i + freq_we + negation_freq + swear_count + time.speaking + \n",
       "    num.turns + voice.rate + avg.len.seg, data = our_df)\n",
       "\n",
       "Residuals:\n",
       "     Min       1Q   Median       3Q      Max \n",
       "-2.41006 -0.40820  0.00211  0.48221  2.05287 \n",
       "\n",
       "Coefficients:\n",
       "                 Estimate Std. Error t value Pr(>|t|)    \n",
       "(Intercept)     5.3619793  0.7387428   7.258 3.64e-12 ***\n",
       "genderMale     -0.0734235  0.0989090  -0.742  0.45849    \n",
       "anger          -0.0326785  0.0157695  -2.072  0.03913 *  \n",
       "anticipation   -0.0055516  0.0099309  -0.559  0.57658    \n",
       "disgust        -0.0162931  0.0184827  -0.882  0.37876    \n",
       "fear            0.0345848  0.0136754   2.529  0.01197 *  \n",
       "joy             0.0017399  0.0111606   0.156  0.87622    \n",
       "sadness         0.0122321  0.0141241   0.866  0.38718    \n",
       "surprise        0.0020675  0.0147628   0.140  0.88872    \n",
       "trust           0.0098483  0.0082841   1.189  0.23549    \n",
       "positive_bing  -0.0018796  0.0048186  -0.390  0.69676    \n",
       "negative_bing  -0.0157835  0.0101024  -1.562  0.11930    \n",
       "um_count        0.0030614  0.0061686   0.496  0.62007    \n",
       "quest_count    -0.0087861  0.0115919  -0.758  0.44910    \n",
       "pause_count    -0.0106339  0.0113555  -0.936  0.34982    \n",
       "mean.pitch     -0.0009986  0.0009637  -1.036  0.30100    \n",
       "mean.energy     0.0538091  1.8320038   0.029  0.97659    \n",
       "avg.voiced.seg  0.0571691  0.0806791   0.709  0.47914    \n",
       "self_count      0.0022124  0.0032520   0.680  0.49685    \n",
       "we_count        0.0202152  0.0115070   1.757  0.08002 .  \n",
       "afinn_mean      0.0030149  0.0846399   0.036  0.97161    \n",
       "avg_char_len    0.0005699  0.0014331   0.398  0.69117    \n",
       "hogv.entropy   -0.0559814  0.0448060  -1.249  0.21252    \n",
       "hogv.median     0.2531448  0.5011054   0.505  0.61382    \n",
       "hogv.cogR       0.0003208  0.0024084   0.133  0.89412    \n",
       "hogv.cogC      -0.0055618  0.0023258  -2.391  0.01743 *  \n",
       "freq_i         -4.8516440  2.2725594  -2.135  0.03361 *  \n",
       "freq_we        -7.4019400  7.1343111  -1.038  0.30036    \n",
       "negation_freq  -5.6067463  6.8635791  -0.817  0.41467    \n",
       "swear_count    -0.0106698  0.0239872  -0.445  0.65679    \n",
       "time.speaking   1.2249215  0.3710203   3.301  0.00108 ** \n",
       "num.turns      -0.3818453  0.6142204  -0.622  0.53465    \n",
       "voice.rate      8.1963160  5.0693051   1.617  0.10700    \n",
       "avg.len.seg    -0.0300433  0.0217096  -1.384  0.16746    \n",
       "---\n",
       "Signif. codes:  0 ‘***’ 0.001 ‘**’ 0.01 ‘*’ 0.05 ‘.’ 0.1 ‘ ’ 1\n",
       "\n",
       "Residual standard error: 0.7217 on 289 degrees of freedom\n",
       "  (80 observations deleted due to missingness)\n",
       "Multiple R-squared:  0.2501,\tAdjusted R-squared:  0.1645 \n",
       "F-statistic: 2.921 on 33 and 289 DF,  p-value: 7.992e-07\n",
       "\n",
       "\n",
       "Response Emot :\n",
       "\n",
       "Call:\n",
       "lm(formula = Emot ~ gender + anger + anticipation + disgust + \n",
       "    fear + joy + sadness + surprise + trust + positive_bing + \n",
       "    negative_bing + um_count + quest_count + pause_count + mean.pitch + \n",
       "    mean.energy + avg.voiced.seg + self_count + we_count + afinn_mean + \n",
       "    avg_char_len + hogv.entropy + hogv.median + hogv.cogR + hogv.cogC + \n",
       "    freq_i + freq_we + negation_freq + swear_count + time.speaking + \n",
       "    num.turns + voice.rate + avg.len.seg, data = our_df)\n",
       "\n",
       "Residuals:\n",
       "     Min       1Q   Median       3Q      Max \n",
       "-2.02787 -0.41334  0.02477  0.46435  1.71459 \n",
       "\n",
       "Coefficients:\n",
       "                 Estimate Std. Error t value Pr(>|t|)    \n",
       "(Intercept)     4.562e+00  7.178e-01   6.356 8.05e-10 ***\n",
       "genderMale     -1.109e-01  9.611e-02  -1.154  0.24933    \n",
       "anger          -1.139e-02  1.532e-02  -0.743  0.45807    \n",
       "anticipation    6.464e-04  9.650e-03   0.067  0.94664    \n",
       "disgust         8.415e-04  1.796e-02   0.047  0.96266    \n",
       "fear            1.153e-02  1.329e-02   0.868  0.38632    \n",
       "joy             3.013e-03  1.084e-02   0.278  0.78130    \n",
       "sadness        -1.225e-02  1.372e-02  -0.893  0.37264    \n",
       "surprise        5.609e-03  1.434e-02   0.391  0.69608    \n",
       "trust           6.649e-03  8.049e-03   0.826  0.40946    \n",
       "positive_bing  -1.325e-03  4.682e-03  -0.283  0.77735    \n",
       "negative_bing  -4.999e-03  9.816e-03  -0.509  0.61092    \n",
       "um_count        2.046e-03  5.994e-03   0.341  0.73313    \n",
       "quest_count     1.534e-02  1.126e-02   1.362  0.17433    \n",
       "pause_count     2.947e-03  1.103e-02   0.267  0.78957    \n",
       "mean.pitch     -9.156e-04  9.364e-04  -0.978  0.32904    \n",
       "mean.energy     4.024e-01  1.780e+00   0.226  0.82132    \n",
       "avg.voiced.seg  6.981e-02  7.839e-02   0.890  0.37395    \n",
       "self_count     -3.101e-03  3.160e-03  -0.981  0.32720    \n",
       "we_count        2.705e-03  1.118e-02   0.242  0.80899    \n",
       "afinn_mean      2.462e-01  8.224e-02   2.994  0.00299 ** \n",
       "avg_char_len    1.096e-03  1.393e-03   0.787  0.43189    \n",
       "hogv.entropy   -3.487e-02  4.354e-02  -0.801  0.42385    \n",
       "hogv.median     6.981e-01  4.869e-01   1.434  0.15275    \n",
       "hogv.cogR       4.606e-03  2.340e-03   1.968  0.05002 .  \n",
       "hogv.cogC      -3.854e-03  2.260e-03  -1.705  0.08919 .  \n",
       "freq_i          1.459e+00  2.208e+00   0.661  0.50932    \n",
       "freq_we         2.778e+00  6.932e+00   0.401  0.68891    \n",
       "negation_freq  -1.777e+01  6.669e+00  -2.664  0.00816 ** \n",
       "swear_count    -4.565e-02  2.331e-02  -1.959  0.05110 .  \n",
       "time.speaking   5.918e-01  3.605e-01   1.642  0.10176    \n",
       "num.turns      -2.791e-01  5.968e-01  -0.468  0.64040    \n",
       "voice.rate      1.802e+00  4.926e+00   0.366  0.71473    \n",
       "avg.len.seg    -2.068e-02  2.109e-02  -0.980  0.32776    \n",
       "---\n",
       "Signif. codes:  0 ‘***’ 0.001 ‘**’ 0.01 ‘*’ 0.05 ‘.’ 0.1 ‘ ’ 1\n",
       "\n",
       "Residual standard error: 0.7012 on 289 degrees of freedom\n",
       "  (80 observations deleted due to missingness)\n",
       "Multiple R-squared:  0.2586,\tAdjusted R-squared:  0.1739 \n",
       "F-statistic: 3.054 on 33 and 289 DF,  p-value: 2.557e-07\n",
       "\n",
       "\n",
       "Response Open :\n",
       "\n",
       "Call:\n",
       "lm(formula = Open ~ gender + anger + anticipation + disgust + \n",
       "    fear + joy + sadness + surprise + trust + positive_bing + \n",
       "    negative_bing + um_count + quest_count + pause_count + mean.pitch + \n",
       "    mean.energy + avg.voiced.seg + self_count + we_count + afinn_mean + \n",
       "    avg_char_len + hogv.entropy + hogv.median + hogv.cogR + hogv.cogC + \n",
       "    freq_i + freq_we + negation_freq + swear_count + time.speaking + \n",
       "    num.turns + voice.rate + avg.len.seg, data = our_df)\n",
       "\n",
       "Residuals:\n",
       "     Min       1Q   Median       3Q      Max \n",
       "-2.15202 -0.43044  0.01378  0.42707  1.66422 \n",
       "\n",
       "Coefficients:\n",
       "                 Estimate Std. Error t value Pr(>|t|)    \n",
       "(Intercept)     3.5617919  0.6837496   5.209 3.61e-07 ***\n",
       "genderMale      0.1236353  0.0915461   1.351  0.17790    \n",
       "anger           0.0063384  0.0145956   0.434  0.66442    \n",
       "anticipation   -0.0013546  0.0091916  -0.147  0.88294    \n",
       "disgust         0.0122953  0.0171068   0.719  0.47288    \n",
       "fear           -0.0128170  0.0126574  -1.013  0.31209    \n",
       "joy             0.0273327  0.0103298   2.646  0.00859 ** \n",
       "sadness        -0.0109593  0.0130727  -0.838  0.40254    \n",
       "surprise       -0.0240950  0.0136639  -1.763  0.07889 .  \n",
       "trust          -0.0008407  0.0076674  -0.110  0.91276    \n",
       "positive_bing   0.0004222  0.0044599   0.095  0.92465    \n",
       "negative_bing   0.0033450  0.0093503   0.358  0.72080    \n",
       "um_count       -0.0082745  0.0057094  -1.449  0.14835    \n",
       "quest_count     0.0207784  0.0107290   1.937  0.05376 .  \n",
       "pause_count    -0.0049710  0.0105101  -0.473  0.63659    \n",
       "mean.pitch      0.0003649  0.0008920   0.409  0.68281    \n",
       "mean.energy    -0.3211017  1.6956266  -0.189  0.84994    \n",
       "avg.voiced.seg  0.0533190  0.0746732   0.714  0.47578    \n",
       "self_count     -0.0035372  0.0030099  -1.175  0.24089    \n",
       "we_count        0.0107729  0.0106504   1.012  0.31262    \n",
       "afinn_mean      0.0263317  0.0783392   0.336  0.73702    \n",
       "avg_char_len    0.0021006  0.0013264   1.584  0.11436    \n",
       "hogv.entropy    0.0280536  0.0414706   0.676  0.49928    \n",
       "hogv.median     1.3082416  0.4638023   2.821  0.00512 ** \n",
       "hogv.cogR       0.0025839  0.0022292   1.159  0.24735    \n",
       "hogv.cogC      -0.0022840  0.0021526  -1.061  0.28956    \n",
       "freq_i          3.1566169  2.1033864   1.501  0.13452    \n",
       "freq_we        -4.0867237  6.6032216  -0.619  0.53647    \n",
       "negation_freq  -5.2699723  6.3526433  -0.830  0.40747    \n",
       "swear_count    -0.0441470  0.0222016  -1.988  0.04770 *  \n",
       "time.speaking   0.7469186  0.3434010   2.175  0.03044 *  \n",
       "num.turns      -0.9871393  0.5684969  -1.736  0.08356 .  \n",
       "voice.rate      4.2951105  4.6919380   0.915  0.36073    \n",
       "avg.len.seg    -0.0341884  0.0200935  -1.701  0.08993 .  \n",
       "---\n",
       "Signif. codes:  0 ‘***’ 0.001 ‘**’ 0.01 ‘*’ 0.05 ‘.’ 0.1 ‘ ’ 1\n",
       "\n",
       "Residual standard error: 0.668 on 289 degrees of freedom\n",
       "  (80 observations deleted due to missingness)\n",
       "Multiple R-squared:  0.2037,\tAdjusted R-squared:  0.1128 \n",
       "F-statistic: 2.241 on 33 and 289 DF,  p-value: 0.0002225\n",
       "\n"
      ]
     },
     "metadata": {},
     "output_type": "display_data"
    }
   ],
   "source": [
    "fit_our_ml <- lm(cbind(Extr, Agr, Cons, Emot, Open) ~ gender + anger + anticipation + \n",
    "                         disgust + fear + joy + sadness + surprise + trust + positive_bing + \n",
    "                         negative_bing + um_count + quest_count + pause_count + mean.pitch + \n",
    "                         mean.energy + avg.voiced.seg + self_count + we_count + afinn_mean + avg_char_len +\n",
    "                         hogv.entropy + hogv.median + hogv.cogR + hogv.cogC + freq_i + freq_we + \n",
    "                         negation_freq + swear_count + time.speaking + num.turns + voice.rate + avg.len.seg, \n",
    "                         data = our_df)\n",
    "\n",
    "summary(fit_our_ml)"
   ]
  },
  {
   "cell_type": "markdown",
   "id": "63a3d7ba",
   "metadata": {
    "papermill": {
     "duration": 0.111202,
     "end_time": "2021-12-29T17:13:17.611346",
     "exception": false,
     "start_time": "2021-12-29T17:13:17.500144",
     "status": "completed"
    },
    "tags": []
   },
   "source": [
    "# 9. Making predictions on the test set\n",
    "\n",
    "For the competition we have to make **predictions** for the data in the **test set**\n",
    "\n",
    "- The predictions will be evaluated by computing the **Root Means Square Error**:\n",
    "    - $\\displaystyle{RMSE =\\sqrt{{1 \\over 5n} \\sum_{k \\in \\{cEXT, \\ldots, cOPN\\}} \\sum_{i=1}^n (y_{ik} - \\hat y_{ik})^2}}$\n",
    "    - Here \n",
    "        - $y_{ik}$ is the observed value for vlogger $i$ \n",
    "        - $\\hat y_{ik}$ is your prediction for vlogger $i$\n",
    "        \n",
    "        \n",
    "You will have to take the following steps:\n",
    "\n",
    "1. Extract the test set from the `vlogger_df`\n",
    "2. Compute predictions for the test set using your model\n",
    "3. Write those predictions to file in the right format\n",
    "\n",
    "The following gives code for these steps in order."
   ]
  },
  {
   "cell_type": "markdown",
   "id": "4db80937",
   "metadata": {
    "papermill": {
     "duration": 0.111793,
     "end_time": "2021-12-29T17:13:17.834588",
     "exception": false,
     "start_time": "2021-12-29T17:13:17.722795",
     "status": "completed"
    },
    "tags": []
   },
   "source": [
    "## 9.1 The test set\n",
    "\n",
    "The test set are those `vlogId` that are missing in the personality scores data frame `pers`. They are the rows in `vlogger_df` for which the personality scores are missing:"
   ]
  },
  {
   "cell_type": "code",
   "execution_count": 47,
   "id": "f72e904f",
   "metadata": {
    "execution": {
     "iopub.execute_input": "2021-12-29T17:13:18.066444Z",
     "iopub.status.busy": "2021-12-29T17:13:18.064373Z",
     "iopub.status.idle": "2021-12-29T17:13:18.107261Z",
     "shell.execute_reply": "2021-12-29T17:13:18.105389Z"
    },
    "papermill": {
     "duration": 0.159896,
     "end_time": "2021-12-29T17:13:18.107420",
     "exception": false,
     "start_time": "2021-12-29T17:13:17.947524",
     "status": "completed"
    },
    "tags": []
   },
   "outputs": [
    {
     "data": {
      "text/html": [
       "<table class=\"dataframe\">\n",
       "<caption>A data.frame: 6 × 39</caption>\n",
       "<thead>\n",
       "\t<tr><th></th><th scope=col>vlogId</th><th scope=col>gender</th><th scope=col>Extr</th><th scope=col>Agr</th><th scope=col>Cons</th><th scope=col>Emot</th><th scope=col>Open</th><th scope=col>negative_bing</th><th scope=col>positive_bing</th><th scope=col>mean.pitch</th><th scope=col>⋯</th><th scope=col>hogv.cogC</th><th scope=col>freq_i</th><th scope=col>freq_we</th><th scope=col>negation_freq</th><th scope=col>swear_count</th><th scope=col>we_count</th><th scope=col>time.speaking</th><th scope=col>num.turns</th><th scope=col>voice.rate</th><th scope=col>avg.len.seg</th></tr>\n",
       "\t<tr><th></th><th scope=col>&lt;chr&gt;</th><th scope=col>&lt;chr&gt;</th><th scope=col>&lt;dbl&gt;</th><th scope=col>&lt;dbl&gt;</th><th scope=col>&lt;dbl&gt;</th><th scope=col>&lt;dbl&gt;</th><th scope=col>&lt;dbl&gt;</th><th scope=col>&lt;dbl&gt;</th><th scope=col>&lt;dbl&gt;</th><th scope=col>&lt;dbl&gt;</th><th scope=col>⋯</th><th scope=col>&lt;dbl&gt;</th><th scope=col>&lt;dbl&gt;</th><th scope=col>&lt;dbl&gt;</th><th scope=col>&lt;dbl&gt;</th><th scope=col>&lt;int&gt;</th><th scope=col>&lt;int&gt;</th><th scope=col>&lt;dbl&gt;</th><th scope=col>&lt;dbl&gt;</th><th scope=col>&lt;dbl&gt;</th><th scope=col>&lt;dbl&gt;</th></tr>\n",
       "</thead>\n",
       "<tbody>\n",
       "\t<tr><th scope=row>1</th><td>VLOG8 </td><td>Female</td><td>NA</td><td>NA</td><td>NA</td><td>NA</td><td>NA</td><td> 8</td><td>19</td><td>255.58</td><td>⋯</td><td>178</td><td>0.07395498</td><td>0.000000000</td><td>0.006430868</td><td>0</td><td>0</td><td>0.46439</td><td>0.55015</td><td>0.056864</td><td>0.84412</td></tr>\n",
       "\t<tr><th scope=row>2</th><td>VLOG15</td><td>Male  </td><td>NA</td><td>NA</td><td>NA</td><td>NA</td><td>NA</td><td>13</td><td>25</td><td>157.64</td><td>⋯</td><td>165</td><td>0.02557856</td><td>0.003654080</td><td>0.008526188</td><td>1</td><td>3</td><td>0.71592</td><td>0.33342</td><td>0.031669</td><td>2.14720</td></tr>\n",
       "\t<tr><th scope=row>3</th><td>VLOG18</td><td>Male  </td><td>NA</td><td>NA</td><td>NA</td><td>NA</td><td>NA</td><td> 1</td><td> 8</td><td>194.72</td><td>⋯</td><td>157</td><td>0.02803738</td><td>0.015576324</td><td>0.003115265</td><td>0</td><td>5</td><td>0.69587</td><td>0.40860</td><td>0.046223</td><td>1.70300</td></tr>\n",
       "\t<tr><th scope=row>4</th><td>VLOG22</td><td>Female</td><td>NA</td><td>NA</td><td>NA</td><td>NA</td><td>NA</td><td> 0</td><td> 3</td><td>285.79</td><td>⋯</td><td>161</td><td>0.08000000</td><td>0.000000000</td><td>0.040000000</td><td>0</td><td>0</td><td>0.42792</td><td>0.28364</td><td>0.035558</td><td>1.50870</td></tr>\n",
       "\t<tr><th scope=row>5</th><td>VLOG28</td><td>Male  </td><td>NA</td><td>NA</td><td>NA</td><td>NA</td><td>NA</td><td> 7</td><td> 6</td><td>140.13</td><td>⋯</td><td>158</td><td>0.10116732</td><td>0.003891051</td><td>0.011673152</td><td>0</td><td>1</td><td>0.52014</td><td>0.33342</td><td>0.036923</td><td>1.56000</td></tr>\n",
       "\t<tr><th scope=row>6</th><td>VLOG29</td><td>Female</td><td>NA</td><td>NA</td><td>NA</td><td>NA</td><td>NA</td><td> 9</td><td>23</td><td>256.48</td><td>⋯</td><td>190</td><td>0.06726457</td><td>0.008968610</td><td>0.011210762</td><td>5</td><td>4</td><td>0.63590</td><td>0.28341</td><td>0.045721</td><td>2.24380</td></tr>\n",
       "</tbody>\n",
       "</table>\n"
      ],
      "text/latex": [
       "A data.frame: 6 × 39\n",
       "\\begin{tabular}{r|lllllllllllllllllllll}\n",
       "  & vlogId & gender & Extr & Agr & Cons & Emot & Open & negative\\_bing & positive\\_bing & mean.pitch & ⋯ & hogv.cogC & freq\\_i & freq\\_we & negation\\_freq & swear\\_count & we\\_count & time.speaking & num.turns & voice.rate & avg.len.seg\\\\\n",
       "  & <chr> & <chr> & <dbl> & <dbl> & <dbl> & <dbl> & <dbl> & <dbl> & <dbl> & <dbl> & ⋯ & <dbl> & <dbl> & <dbl> & <dbl> & <int> & <int> & <dbl> & <dbl> & <dbl> & <dbl>\\\\\n",
       "\\hline\n",
       "\t1 & VLOG8  & Female & NA & NA & NA & NA & NA &  8 & 19 & 255.58 & ⋯ & 178 & 0.07395498 & 0.000000000 & 0.006430868 & 0 & 0 & 0.46439 & 0.55015 & 0.056864 & 0.84412\\\\\n",
       "\t2 & VLOG15 & Male   & NA & NA & NA & NA & NA & 13 & 25 & 157.64 & ⋯ & 165 & 0.02557856 & 0.003654080 & 0.008526188 & 1 & 3 & 0.71592 & 0.33342 & 0.031669 & 2.14720\\\\\n",
       "\t3 & VLOG18 & Male   & NA & NA & NA & NA & NA &  1 &  8 & 194.72 & ⋯ & 157 & 0.02803738 & 0.015576324 & 0.003115265 & 0 & 5 & 0.69587 & 0.40860 & 0.046223 & 1.70300\\\\\n",
       "\t4 & VLOG22 & Female & NA & NA & NA & NA & NA &  0 &  3 & 285.79 & ⋯ & 161 & 0.08000000 & 0.000000000 & 0.040000000 & 0 & 0 & 0.42792 & 0.28364 & 0.035558 & 1.50870\\\\\n",
       "\t5 & VLOG28 & Male   & NA & NA & NA & NA & NA &  7 &  6 & 140.13 & ⋯ & 158 & 0.10116732 & 0.003891051 & 0.011673152 & 0 & 1 & 0.52014 & 0.33342 & 0.036923 & 1.56000\\\\\n",
       "\t6 & VLOG29 & Female & NA & NA & NA & NA & NA &  9 & 23 & 256.48 & ⋯ & 190 & 0.06726457 & 0.008968610 & 0.011210762 & 5 & 4 & 0.63590 & 0.28341 & 0.045721 & 2.24380\\\\\n",
       "\\end{tabular}\n"
      ],
      "text/markdown": [
       "\n",
       "A data.frame: 6 × 39\n",
       "\n",
       "| <!--/--> | vlogId &lt;chr&gt; | gender &lt;chr&gt; | Extr &lt;dbl&gt; | Agr &lt;dbl&gt; | Cons &lt;dbl&gt; | Emot &lt;dbl&gt; | Open &lt;dbl&gt; | negative_bing &lt;dbl&gt; | positive_bing &lt;dbl&gt; | mean.pitch &lt;dbl&gt; | ⋯ ⋯ | hogv.cogC &lt;dbl&gt; | freq_i &lt;dbl&gt; | freq_we &lt;dbl&gt; | negation_freq &lt;dbl&gt; | swear_count &lt;int&gt; | we_count &lt;int&gt; | time.speaking &lt;dbl&gt; | num.turns &lt;dbl&gt; | voice.rate &lt;dbl&gt; | avg.len.seg &lt;dbl&gt; |\n",
       "|---|---|---|---|---|---|---|---|---|---|---|---|---|---|---|---|---|---|---|---|---|---|\n",
       "| 1 | VLOG8  | Female | NA | NA | NA | NA | NA |  8 | 19 | 255.58 | ⋯ | 178 | 0.07395498 | 0.000000000 | 0.006430868 | 0 | 0 | 0.46439 | 0.55015 | 0.056864 | 0.84412 |\n",
       "| 2 | VLOG15 | Male   | NA | NA | NA | NA | NA | 13 | 25 | 157.64 | ⋯ | 165 | 0.02557856 | 0.003654080 | 0.008526188 | 1 | 3 | 0.71592 | 0.33342 | 0.031669 | 2.14720 |\n",
       "| 3 | VLOG18 | Male   | NA | NA | NA | NA | NA |  1 |  8 | 194.72 | ⋯ | 157 | 0.02803738 | 0.015576324 | 0.003115265 | 0 | 5 | 0.69587 | 0.40860 | 0.046223 | 1.70300 |\n",
       "| 4 | VLOG22 | Female | NA | NA | NA | NA | NA |  0 |  3 | 285.79 | ⋯ | 161 | 0.08000000 | 0.000000000 | 0.040000000 | 0 | 0 | 0.42792 | 0.28364 | 0.035558 | 1.50870 |\n",
       "| 5 | VLOG28 | Male   | NA | NA | NA | NA | NA |  7 |  6 | 140.13 | ⋯ | 158 | 0.10116732 | 0.003891051 | 0.011673152 | 0 | 1 | 0.52014 | 0.33342 | 0.036923 | 1.56000 |\n",
       "| 6 | VLOG29 | Female | NA | NA | NA | NA | NA |  9 | 23 | 256.48 | ⋯ | 190 | 0.06726457 | 0.008968610 | 0.011210762 | 5 | 4 | 0.63590 | 0.28341 | 0.045721 | 2.24380 |\n",
       "\n"
      ],
      "text/plain": [
       "  vlogId gender Extr Agr Cons Emot Open negative_bing positive_bing mean.pitch\n",
       "1 VLOG8  Female NA   NA  NA   NA   NA    8            19            255.58    \n",
       "2 VLOG15 Male   NA   NA  NA   NA   NA   13            25            157.64    \n",
       "3 VLOG18 Male   NA   NA  NA   NA   NA    1             8            194.72    \n",
       "4 VLOG22 Female NA   NA  NA   NA   NA    0             3            285.79    \n",
       "5 VLOG28 Male   NA   NA  NA   NA   NA    7             6            140.13    \n",
       "6 VLOG29 Female NA   NA  NA   NA   NA    9            23            256.48    \n",
       "  ⋯ hogv.cogC freq_i     freq_we     negation_freq swear_count we_count\n",
       "1 ⋯ 178       0.07395498 0.000000000 0.006430868   0           0       \n",
       "2 ⋯ 165       0.02557856 0.003654080 0.008526188   1           3       \n",
       "3 ⋯ 157       0.02803738 0.015576324 0.003115265   0           5       \n",
       "4 ⋯ 161       0.08000000 0.000000000 0.040000000   0           0       \n",
       "5 ⋯ 158       0.10116732 0.003891051 0.011673152   0           1       \n",
       "6 ⋯ 190       0.06726457 0.008968610 0.011210762   5           4       \n",
       "  time.speaking num.turns voice.rate avg.len.seg\n",
       "1 0.46439       0.55015   0.056864   0.84412    \n",
       "2 0.71592       0.33342   0.031669   2.14720    \n",
       "3 0.69587       0.40860   0.046223   1.70300    \n",
       "4 0.42792       0.28364   0.035558   1.50870    \n",
       "5 0.52014       0.33342   0.036923   1.56000    \n",
       "6 0.63590       0.28341   0.045721   2.24380    "
      ]
     },
     "metadata": {},
     "output_type": "display_data"
    }
   ],
   "source": [
    "#testset_vloggers = vlogger_df %>% \n",
    "#    filter(is.na(Extr))\n",
    "\n",
    "#head(testset_vloggers)\n",
    "##########\n",
    "testset_vloggers = our_df %>% \n",
    "    filter(is.na(Extr))\n",
    "\n",
    "head(testset_vloggers)"
   ]
  },
  {
   "cell_type": "markdown",
   "id": "280a6061",
   "metadata": {
    "papermill": {
     "duration": 0.111397,
     "end_time": "2021-12-29T17:13:18.330885",
     "exception": false,
     "start_time": "2021-12-29T17:13:18.219488",
     "status": "completed"
    },
    "tags": []
   },
   "source": [
    "## 9.2 Predictions\n",
    "\n",
    "Continuing the example `fit_mlm` model above, for almost all models we will encounter use the `predict()` function.\n",
    "\n",
    "- `predict()` function exists for most model fit function like `lm`, `glm`, etc., that we encounter\n",
    "    - first argument should be a model object (`fit_mlm` in the example)\n",
    "    - second argument should be a data frame with the test set\n",
    "    - optionnaly, a third argument specifies type of response:\n",
    "      - for `lm` object only `type = \"resp\"`\n",
    "      - for `glm` object `type = \"pred\"` (linear predictor) or `type = \"resp\"` ('response' &rarr; probabilities)\n",
    "\n",
    "For example:"
   ]
  },
  {
   "cell_type": "code",
   "execution_count": 48,
   "id": "4c68d3d4",
   "metadata": {
    "execution": {
     "iopub.execute_input": "2021-12-29T17:13:18.562892Z",
     "iopub.status.busy": "2021-12-29T17:13:18.561354Z",
     "iopub.status.idle": "2021-12-29T17:13:18.592320Z",
     "shell.execute_reply": "2021-12-29T17:13:18.590683Z"
    },
    "papermill": {
     "duration": 0.149854,
     "end_time": "2021-12-29T17:13:18.592484",
     "exception": false,
     "start_time": "2021-12-29T17:13:18.442630",
     "status": "completed"
    },
    "tags": []
   },
   "outputs": [
    {
     "data": {
      "text/html": [
       "<table class=\"dataframe\">\n",
       "<caption>A matrix: 6 × 5 of type dbl</caption>\n",
       "<thead>\n",
       "\t<tr><th></th><th scope=col>Extr</th><th scope=col>Agr</th><th scope=col>Cons</th><th scope=col>Emot</th><th scope=col>Open</th></tr>\n",
       "</thead>\n",
       "<tbody>\n",
       "\t<tr><th scope=row>1</th><td>4.748218</td><td>4.829221</td><td>4.297031</td><td>4.793365</td><td>4.607907</td></tr>\n",
       "\t<tr><th scope=row>2</th><td>3.485760</td><td>4.342099</td><td>5.115251</td><td>4.746141</td><td>3.977132</td></tr>\n",
       "\t<tr><th scope=row>3</th><td>5.335477</td><td>4.734669</td><td>4.901746</td><td>5.157851</td><td>5.106987</td></tr>\n",
       "\t<tr><th scope=row>4</th><td>4.221069</td><td>4.980525</td><td>4.063148</td><td>4.669564</td><td>4.721717</td></tr>\n",
       "\t<tr><th scope=row>5</th><td>3.201738</td><td>4.165894</td><td>4.493809</td><td>4.194404</td><td>4.105185</td></tr>\n",
       "\t<tr><th scope=row>6</th><td>4.927087</td><td>4.458777</td><td>4.262755</td><td>4.649074</td><td>4.391437</td></tr>\n",
       "</tbody>\n",
       "</table>\n"
      ],
      "text/latex": [
       "A matrix: 6 × 5 of type dbl\n",
       "\\begin{tabular}{r|lllll}\n",
       "  & Extr & Agr & Cons & Emot & Open\\\\\n",
       "\\hline\n",
       "\t1 & 4.748218 & 4.829221 & 4.297031 & 4.793365 & 4.607907\\\\\n",
       "\t2 & 3.485760 & 4.342099 & 5.115251 & 4.746141 & 3.977132\\\\\n",
       "\t3 & 5.335477 & 4.734669 & 4.901746 & 5.157851 & 5.106987\\\\\n",
       "\t4 & 4.221069 & 4.980525 & 4.063148 & 4.669564 & 4.721717\\\\\n",
       "\t5 & 3.201738 & 4.165894 & 4.493809 & 4.194404 & 4.105185\\\\\n",
       "\t6 & 4.927087 & 4.458777 & 4.262755 & 4.649074 & 4.391437\\\\\n",
       "\\end{tabular}\n"
      ],
      "text/markdown": [
       "\n",
       "A matrix: 6 × 5 of type dbl\n",
       "\n",
       "| <!--/--> | Extr | Agr | Cons | Emot | Open |\n",
       "|---|---|---|---|---|---|\n",
       "| 1 | 4.748218 | 4.829221 | 4.297031 | 4.793365 | 4.607907 |\n",
       "| 2 | 3.485760 | 4.342099 | 5.115251 | 4.746141 | 3.977132 |\n",
       "| 3 | 5.335477 | 4.734669 | 4.901746 | 5.157851 | 5.106987 |\n",
       "| 4 | 4.221069 | 4.980525 | 4.063148 | 4.669564 | 4.721717 |\n",
       "| 5 | 3.201738 | 4.165894 | 4.493809 | 4.194404 | 4.105185 |\n",
       "| 6 | 4.927087 | 4.458777 | 4.262755 | 4.649074 | 4.391437 |\n",
       "\n"
      ],
      "text/plain": [
       "  Extr     Agr      Cons     Emot     Open    \n",
       "1 4.748218 4.829221 4.297031 4.793365 4.607907\n",
       "2 3.485760 4.342099 5.115251 4.746141 3.977132\n",
       "3 5.335477 4.734669 4.901746 5.157851 5.106987\n",
       "4 4.221069 4.980525 4.063148 4.669564 4.721717\n",
       "5 3.201738 4.165894 4.493809 4.194404 4.105185\n",
       "6 4.927087 4.458777 4.262755 4.649074 4.391437"
      ]
     },
     "metadata": {},
     "output_type": "display_data"
    }
   ],
   "source": [
    "pred_mlm = predict(fit_our_ml, new = testset_vloggers)\n",
    "\n",
    "\n",
    "\n",
    "# Always check the output\n",
    "\n",
    "head(pred_mlm)"
   ]
  },
  {
   "cell_type": "code",
   "execution_count": 49,
   "id": "bbedeea4",
   "metadata": {
    "_cell_guid": "873a1bde-0f8e-446d-8153-5681e6d27134",
    "_uuid": "c3543421-d7bd-42ea-a880-23825de5f8bc",
    "collapsed": false,
    "execution": {
     "iopub.execute_input": "2021-12-29T17:13:18.827203Z",
     "iopub.status.busy": "2021-12-29T17:13:18.825417Z",
     "iopub.status.idle": "2021-12-29T17:13:18.875499Z",
     "shell.execute_reply": "2021-12-29T17:13:18.859266Z"
    },
    "jupyter": {
     "outputs_hidden": false
    },
    "papermill": {
     "duration": 0.168501,
     "end_time": "2021-12-29T17:13:18.875676",
     "exception": false,
     "start_time": "2021-12-29T17:13:18.707175",
     "status": "completed"
    },
    "tags": []
   },
   "outputs": [
    {
     "data": {
      "text/html": [
       "<table class=\"dataframe\">\n",
       "<caption>A data.frame: 6 × 6</caption>\n",
       "<thead>\n",
       "\t<tr><th></th><th scope=col>vlogId</th><th scope=col>Extr</th><th scope=col>Agr</th><th scope=col>Cons</th><th scope=col>Emot</th><th scope=col>Open</th></tr>\n",
       "\t<tr><th></th><th scope=col>&lt;chr&gt;</th><th scope=col>&lt;dbl&gt;</th><th scope=col>&lt;dbl&gt;</th><th scope=col>&lt;dbl&gt;</th><th scope=col>&lt;dbl&gt;</th><th scope=col>&lt;dbl&gt;</th></tr>\n",
       "</thead>\n",
       "<tbody>\n",
       "\t<tr><th scope=row>1</th><td>VLOG8 </td><td>4.748218</td><td>4.829221</td><td>4.297031</td><td>4.793365</td><td>4.607907</td></tr>\n",
       "\t<tr><th scope=row>2</th><td>VLOG15</td><td>3.485760</td><td>4.342099</td><td>5.115251</td><td>4.746141</td><td>3.977132</td></tr>\n",
       "\t<tr><th scope=row>3</th><td>VLOG18</td><td>5.335477</td><td>4.734669</td><td>4.901746</td><td>5.157851</td><td>5.106987</td></tr>\n",
       "\t<tr><th scope=row>4</th><td>VLOG22</td><td>4.221069</td><td>4.980525</td><td>4.063148</td><td>4.669564</td><td>4.721717</td></tr>\n",
       "\t<tr><th scope=row>5</th><td>VLOG28</td><td>3.201738</td><td>4.165894</td><td>4.493809</td><td>4.194404</td><td>4.105185</td></tr>\n",
       "\t<tr><th scope=row>6</th><td>VLOG29</td><td>4.927087</td><td>4.458777</td><td>4.262755</td><td>4.649074</td><td>4.391437</td></tr>\n",
       "</tbody>\n",
       "</table>\n"
      ],
      "text/latex": [
       "A data.frame: 6 × 6\n",
       "\\begin{tabular}{r|llllll}\n",
       "  & vlogId & Extr & Agr & Cons & Emot & Open\\\\\n",
       "  & <chr> & <dbl> & <dbl> & <dbl> & <dbl> & <dbl>\\\\\n",
       "\\hline\n",
       "\t1 & VLOG8  & 4.748218 & 4.829221 & 4.297031 & 4.793365 & 4.607907\\\\\n",
       "\t2 & VLOG15 & 3.485760 & 4.342099 & 5.115251 & 4.746141 & 3.977132\\\\\n",
       "\t3 & VLOG18 & 5.335477 & 4.734669 & 4.901746 & 5.157851 & 5.106987\\\\\n",
       "\t4 & VLOG22 & 4.221069 & 4.980525 & 4.063148 & 4.669564 & 4.721717\\\\\n",
       "\t5 & VLOG28 & 3.201738 & 4.165894 & 4.493809 & 4.194404 & 4.105185\\\\\n",
       "\t6 & VLOG29 & 4.927087 & 4.458777 & 4.262755 & 4.649074 & 4.391437\\\\\n",
       "\\end{tabular}\n"
      ],
      "text/markdown": [
       "\n",
       "A data.frame: 6 × 6\n",
       "\n",
       "| <!--/--> | vlogId &lt;chr&gt; | Extr &lt;dbl&gt; | Agr &lt;dbl&gt; | Cons &lt;dbl&gt; | Emot &lt;dbl&gt; | Open &lt;dbl&gt; |\n",
       "|---|---|---|---|---|---|---|\n",
       "| 1 | VLOG8  | 4.748218 | 4.829221 | 4.297031 | 4.793365 | 4.607907 |\n",
       "| 2 | VLOG15 | 3.485760 | 4.342099 | 5.115251 | 4.746141 | 3.977132 |\n",
       "| 3 | VLOG18 | 5.335477 | 4.734669 | 4.901746 | 5.157851 | 5.106987 |\n",
       "| 4 | VLOG22 | 4.221069 | 4.980525 | 4.063148 | 4.669564 | 4.721717 |\n",
       "| 5 | VLOG28 | 3.201738 | 4.165894 | 4.493809 | 4.194404 | 4.105185 |\n",
       "| 6 | VLOG29 | 4.927087 | 4.458777 | 4.262755 | 4.649074 | 4.391437 |\n",
       "\n"
      ],
      "text/plain": [
       "  vlogId Extr     Agr      Cons     Emot     Open    \n",
       "1 VLOG8  4.748218 4.829221 4.297031 4.793365 4.607907\n",
       "2 VLOG15 3.485760 4.342099 5.115251 4.746141 3.977132\n",
       "3 VLOG18 5.335477 4.734669 4.901746 5.157851 5.106987\n",
       "4 VLOG22 4.221069 4.980525 4.063148 4.669564 4.721717\n",
       "5 VLOG28 3.201738 4.165894 4.493809 4.194404 4.105185\n",
       "6 VLOG29 4.927087 4.458777 4.262755 4.649074 4.391437"
      ]
     },
     "metadata": {},
     "output_type": "display_data"
    }
   ],
   "source": [
    "# compute output data frame\n",
    "testset_pred = testset_vloggers %>% \n",
    "    mutate(\n",
    "        Extr = pred_mlm[,'Extr'], \n",
    "        Agr  = pred_mlm[,'Agr' ],\n",
    "        Cons = pred_mlm[,'Cons'],\n",
    "        Emot = pred_mlm[,'Emot'],\n",
    "        Open = pred_mlm[,'Open']\n",
    "    ) %>%\n",
    "    select(vlogId, Extr:Open)\n",
    "\n",
    "head(testset_pred)"
   ]
  },
  {
   "cell_type": "markdown",
   "id": "92fd1ef0",
   "metadata": {
    "_cell_guid": "4528893d-1930-4ccf-b4c0-51a0c773dae5",
    "_uuid": "2ef3a62f-62cf-42ca-9f50-c07a93d04ccf",
    "papermill": {
     "duration": 0.114022,
     "end_time": "2021-12-29T17:13:19.106140",
     "exception": false,
     "start_time": "2021-12-29T17:13:18.992118",
     "status": "completed"
    },
    "tags": []
   },
   "source": [
    "## 9.3 Writing predictions to file\n",
    "\n",
    "You need to upload your predictions in .csv file. However, there are multiple columns: `Extr`, `Agr`, `Cons`, `Emot`, `Open`, while Kaggle expects **long format**!\n",
    "\n",
    "What does long format look like?\n",
    "\n",
    "- Every prediction on a single line.\n",
    "- Columns `vlogId` and `pers_axis` to map prediction *vlogger ID* and *personality axis*.\n",
    "\n",
    "To achieve this, first `gather` the column values into a single `value` column, adding a `pers_axis` to indicate the column name:"
   ]
  },
  {
   "cell_type": "code",
   "execution_count": 50,
   "id": "91d1e224",
   "metadata": {
    "_cell_guid": "03cecf1d-4780-4764-bf18-00da7fd22984",
    "_uuid": "7697fa94-f0fd-4668-a0db-bbf98c7199a0",
    "collapsed": false,
    "execution": {
     "iopub.execute_input": "2021-12-29T17:13:19.341151Z",
     "iopub.status.busy": "2021-12-29T17:13:19.339568Z",
     "iopub.status.idle": "2021-12-29T17:13:19.373973Z",
     "shell.execute_reply": "2021-12-29T17:13:19.372364Z"
    },
    "jupyter": {
     "outputs_hidden": false
    },
    "papermill": {
     "duration": 0.152488,
     "end_time": "2021-12-29T17:13:19.374131",
     "exception": false,
     "start_time": "2021-12-29T17:13:19.221643",
     "status": "completed"
    },
    "tags": []
   },
   "outputs": [
    {
     "data": {
      "text/html": [
       "<table class=\"dataframe\">\n",
       "<caption>A data.frame: 6 × 3</caption>\n",
       "<thead>\n",
       "\t<tr><th></th><th scope=col>vlogId</th><th scope=col>pers_axis</th><th scope=col>Expected</th></tr>\n",
       "\t<tr><th></th><th scope=col>&lt;chr&gt;</th><th scope=col>&lt;chr&gt;</th><th scope=col>&lt;dbl&gt;</th></tr>\n",
       "</thead>\n",
       "<tbody>\n",
       "\t<tr><th scope=row>1</th><td>VLOG100</td><td>Agr </td><td>5.217891</td></tr>\n",
       "\t<tr><th scope=row>2</th><td>VLOG100</td><td>Cons</td><td>4.635489</td></tr>\n",
       "\t<tr><th scope=row>3</th><td>VLOG100</td><td>Emot</td><td>5.221790</td></tr>\n",
       "\t<tr><th scope=row>4</th><td>VLOG100</td><td>Extr</td><td>4.089424</td></tr>\n",
       "\t<tr><th scope=row>5</th><td>VLOG100</td><td>Open</td><td>4.908177</td></tr>\n",
       "\t<tr><th scope=row>6</th><td>VLOG113</td><td>Agr </td><td>5.309466</td></tr>\n",
       "</tbody>\n",
       "</table>\n"
      ],
      "text/latex": [
       "A data.frame: 6 × 3\n",
       "\\begin{tabular}{r|lll}\n",
       "  & vlogId & pers\\_axis & Expected\\\\\n",
       "  & <chr> & <chr> & <dbl>\\\\\n",
       "\\hline\n",
       "\t1 & VLOG100 & Agr  & 5.217891\\\\\n",
       "\t2 & VLOG100 & Cons & 4.635489\\\\\n",
       "\t3 & VLOG100 & Emot & 5.221790\\\\\n",
       "\t4 & VLOG100 & Extr & 4.089424\\\\\n",
       "\t5 & VLOG100 & Open & 4.908177\\\\\n",
       "\t6 & VLOG113 & Agr  & 5.309466\\\\\n",
       "\\end{tabular}\n"
      ],
      "text/markdown": [
       "\n",
       "A data.frame: 6 × 3\n",
       "\n",
       "| <!--/--> | vlogId &lt;chr&gt; | pers_axis &lt;chr&gt; | Expected &lt;dbl&gt; |\n",
       "|---|---|---|---|\n",
       "| 1 | VLOG100 | Agr  | 5.217891 |\n",
       "| 2 | VLOG100 | Cons | 4.635489 |\n",
       "| 3 | VLOG100 | Emot | 5.221790 |\n",
       "| 4 | VLOG100 | Extr | 4.089424 |\n",
       "| 5 | VLOG100 | Open | 4.908177 |\n",
       "| 6 | VLOG113 | Agr  | 5.309466 |\n",
       "\n"
      ],
      "text/plain": [
       "  vlogId  pers_axis Expected\n",
       "1 VLOG100 Agr       5.217891\n",
       "2 VLOG100 Cons      4.635489\n",
       "3 VLOG100 Emot      5.221790\n",
       "4 VLOG100 Extr      4.089424\n",
       "5 VLOG100 Open      4.908177\n",
       "6 VLOG113 Agr       5.309466"
      ]
     },
     "metadata": {},
     "output_type": "display_data"
    }
   ],
   "source": [
    "testset_pred_long  <- \n",
    "  testset_pred %>% \n",
    "  gather(pers_axis, Expected, -vlogId) %>%\n",
    "  arrange(vlogId, pers_axis)\n",
    "\n",
    "head(testset_pred_long)"
   ]
  },
  {
   "cell_type": "markdown",
   "id": "d74f9da0",
   "metadata": {
    "_cell_guid": "e62e1252-b466-424a-9edd-c6e71131dd95",
    "_uuid": "229b46a3-ff86-463d-ba3a-d91ce5e44b89",
    "papermill": {
     "duration": 0.11626,
     "end_time": "2021-12-29T17:13:19.604287",
     "exception": false,
     "start_time": "2021-12-29T17:13:19.488027",
     "status": "completed"
    },
    "tags": []
   },
   "source": [
    "According to the competition's [Evaluation instructions](https://www.kaggle.com/c/bda2019big5/overview/evaluation), Kaggle expects file with two colums: `Id` and `value`.\n",
    "  \n",
    "The [Evaluation instructions](https://www.kaggle.com/c/bda2019big5/overview/evaluation) specifies we need to encode the `Agr` prediction for `VLOG8` as `VLOG8_Agr` in the `Id` column. To achieve this use `unite()` function of `dplyr`.\n",
    "\n",
    "`unite()` take:\n",
    "\n",
    "- a data frame as its first argument (implicitely passed by the piping operator `%>%`)\n",
    "- the name of new column as its second argument (`Id` below)\n",
    "- all extra arguments (`vlogId` and `pers_axis` below) are concatenated with an underscore in between\n",
    "\n",
    "Then write the resulting data frame to a .csv file."
   ]
  },
  {
   "cell_type": "code",
   "execution_count": 51,
   "id": "5ec68216",
   "metadata": {
    "_cell_guid": "84498e3c-77cc-4434-a91f-a099e72c93dd",
    "_uuid": "4a729773-ad88-4830-9c24-f0893a61d381",
    "collapsed": false,
    "execution": {
     "iopub.execute_input": "2021-12-29T17:13:19.838393Z",
     "iopub.status.busy": "2021-12-29T17:13:19.836831Z",
     "iopub.status.idle": "2021-12-29T17:13:19.893899Z",
     "shell.execute_reply": "2021-12-29T17:13:19.892039Z"
    },
    "jupyter": {
     "outputs_hidden": false
    },
    "papermill": {
     "duration": 0.175756,
     "end_time": "2021-12-29T17:13:19.894073",
     "exception": false,
     "start_time": "2021-12-29T17:13:19.718317",
     "status": "completed"
    },
    "tags": []
   },
   "outputs": [
    {
     "data": {
      "text/html": [
       "<table class=\"dataframe\">\n",
       "<caption>A data.frame: 6 × 2</caption>\n",
       "<thead>\n",
       "\t<tr><th></th><th scope=col>Id</th><th scope=col>Expected</th></tr>\n",
       "\t<tr><th></th><th scope=col>&lt;chr&gt;</th><th scope=col>&lt;dbl&gt;</th></tr>\n",
       "</thead>\n",
       "<tbody>\n",
       "\t<tr><th scope=row>1</th><td>VLOG100_Agr </td><td>5.217891</td></tr>\n",
       "\t<tr><th scope=row>2</th><td>VLOG100_Cons</td><td>4.635489</td></tr>\n",
       "\t<tr><th scope=row>3</th><td>VLOG100_Emot</td><td>5.221790</td></tr>\n",
       "\t<tr><th scope=row>4</th><td>VLOG100_Extr</td><td>4.089424</td></tr>\n",
       "\t<tr><th scope=row>5</th><td>VLOG100_Open</td><td>4.908177</td></tr>\n",
       "\t<tr><th scope=row>6</th><td>VLOG113_Agr </td><td>5.309466</td></tr>\n",
       "</tbody>\n",
       "</table>\n"
      ],
      "text/latex": [
       "A data.frame: 6 × 2\n",
       "\\begin{tabular}{r|ll}\n",
       "  & Id & Expected\\\\\n",
       "  & <chr> & <dbl>\\\\\n",
       "\\hline\n",
       "\t1 & VLOG100\\_Agr  & 5.217891\\\\\n",
       "\t2 & VLOG100\\_Cons & 4.635489\\\\\n",
       "\t3 & VLOG100\\_Emot & 5.221790\\\\\n",
       "\t4 & VLOG100\\_Extr & 4.089424\\\\\n",
       "\t5 & VLOG100\\_Open & 4.908177\\\\\n",
       "\t6 & VLOG113\\_Agr  & 5.309466\\\\\n",
       "\\end{tabular}\n"
      ],
      "text/markdown": [
       "\n",
       "A data.frame: 6 × 2\n",
       "\n",
       "| <!--/--> | Id &lt;chr&gt; | Expected &lt;dbl&gt; |\n",
       "|---|---|---|\n",
       "| 1 | VLOG100_Agr  | 5.217891 |\n",
       "| 2 | VLOG100_Cons | 4.635489 |\n",
       "| 3 | VLOG100_Emot | 5.221790 |\n",
       "| 4 | VLOG100_Extr | 4.089424 |\n",
       "| 5 | VLOG100_Open | 4.908177 |\n",
       "| 6 | VLOG113_Agr  | 5.309466 |\n",
       "\n"
      ],
      "text/plain": [
       "  Id           Expected\n",
       "1 VLOG100_Agr  5.217891\n",
       "2 VLOG100_Cons 4.635489\n",
       "3 VLOG100_Emot 5.221790\n",
       "4 VLOG100_Extr 4.089424\n",
       "5 VLOG100_Open 4.908177\n",
       "6 VLOG113_Agr  5.309466"
      ]
     },
     "metadata": {},
     "output_type": "display_data"
    },
    {
     "name": "stderr",
     "output_type": "stream",
     "text": [
      "Warning message:\n",
      "“The `path` argument of `write_csv()` is deprecated as of readr 1.4.0.\n",
      "Please use the `file` argument instead.\n",
      "\u001b[90mThis warning is displayed once every 8 hours.\u001b[39m\n",
      "\u001b[90mCall `lifecycle::last_warnings()` to see where this warning was generated.\u001b[39m”\n"
     ]
    },
    {
     "data": {
      "text/html": [
       "<style>\n",
       ".list-inline {list-style: none; margin:0; padding: 0}\n",
       ".list-inline>li {display: inline-block}\n",
       ".list-inline>li:not(:last-child)::after {content: \"\\00b7\"; padding: 0 .5ex}\n",
       "</style>\n",
       "<ol class=list-inline><li>'__MACOSX'</li><li>'__notebook__.ipynb'</li><li>'AFINN'</li><li>'afinn.zip'</li><li>'en_syllable_3grams.csv'</li><li>'en_syllable_3grams.csv.zip'</li><li>'nrc.txt'</li><li>'predictions.csv'</li><li>'swear_words.txt'</li></ol>\n"
      ],
      "text/latex": [
       "\\begin{enumerate*}\n",
       "\\item '\\_\\_MACOSX'\n",
       "\\item '\\_\\_notebook\\_\\_.ipynb'\n",
       "\\item 'AFINN'\n",
       "\\item 'afinn.zip'\n",
       "\\item 'en\\_syllable\\_3grams.csv'\n",
       "\\item 'en\\_syllable\\_3grams.csv.zip'\n",
       "\\item 'nrc.txt'\n",
       "\\item 'predictions.csv'\n",
       "\\item 'swear\\_words.txt'\n",
       "\\end{enumerate*}\n"
      ],
      "text/markdown": [
       "1. '__MACOSX'\n",
       "2. '__notebook__.ipynb'\n",
       "3. 'AFINN'\n",
       "4. 'afinn.zip'\n",
       "5. 'en_syllable_3grams.csv'\n",
       "6. 'en_syllable_3grams.csv.zip'\n",
       "7. 'nrc.txt'\n",
       "8. 'predictions.csv'\n",
       "9. 'swear_words.txt'\n",
       "\n",
       "\n"
      ],
      "text/plain": [
       "[1] \"__MACOSX\"                   \"__notebook__.ipynb\"        \n",
       "[3] \"AFINN\"                      \"afinn.zip\"                 \n",
       "[5] \"en_syllable_3grams.csv\"     \"en_syllable_3grams.csv.zip\"\n",
       "[7] \"nrc.txt\"                    \"predictions.csv\"           \n",
       "[9] \"swear_words.txt\"           "
      ]
     },
     "metadata": {},
     "output_type": "display_data"
    }
   ],
   "source": [
    "# Obtain the right format for Kaggle\n",
    "testset_pred_final <- \n",
    "  testset_pred_long %>%\n",
    "  unite(Id, vlogId, pers_axis) \n",
    "\n",
    "# Check if we succeeded\n",
    "head(testset_pred_final)\n",
    "\n",
    "# Write to csv\n",
    "testset_pred_final %>%\n",
    "  write_csv(path = \"predictions.csv\")\n",
    "\n",
    "# Check if the file was written successfully.\n",
    "list.files()"
   ]
  },
  {
   "cell_type": "markdown",
   "id": "1454c083",
   "metadata": {
    "papermill": {
     "duration": 0.117896,
     "end_time": "2021-12-29T17:13:20.133910",
     "exception": false,
     "start_time": "2021-12-29T17:13:20.016014",
     "status": "completed"
    },
    "tags": []
   },
   "source": [
    "References\n",
    "\n",
    "Christian, H., Suhartono, D., Chowanda, A., & Zamli, K. Z. (2021). Text based personality prediction from multiple social media data sources using pre-trained language model and model averaging. Journal of Big Data, 8(1). https://doi.org/10.1186/s40537-021-00459-1\n",
    "Lee, C. H., Kim, K., Seo, Y. S., & Chung, C. K. (2007). The Relations Between Personality and Language Use. The Journal of General Psychology, 134(4), 405–413. https://doi.org/10.3200/genp.134.4.405-414\n",
    "Laserna, C. M., Seih, Y. T., & Pennebaker, J. W. (2014). Um . . . Who Like Says You Know. Journal of Language and Social Psychology, 33(3), 328–338. https://doi.org/10.1177/0261927x14526993\n",
    "Mehta, Y., Fatehi, S., Kazameini, A., Stachl, C., Cambria, E., & Eetemadi, S. (2020). Bottom-Up and Top-Down: Predicting Personality with Psycholinguistic and Language Model Features. 2020 IEEE International Conference on Data Mining (ICDM). Published. https://doi.org/10.1109/icdm50108.2020.00146\n",
    "Scully, I. D., & Terry, C. P. (2011). Self-Referential Memory for the Big-Five Personality Traits. Psi Chi Journal of Psychological Research, 16(3), 123–128. https://doi.org/10.24839/1089-4136.jn16.3.123\n",
    "\n"
   ]
  },
  {
   "cell_type": "markdown",
   "id": "8e83d850",
   "metadata": {
    "papermill": {
     "duration": 0.115193,
     "end_time": "2021-12-29T17:13:20.364864",
     "exception": false,
     "start_time": "2021-12-29T17:13:20.249671",
     "status": "completed"
    },
    "tags": []
   },
   "source": [
    "# Division of labour\n",
    "\n",
    "All\n",
    "* Tokenaziation of Transcript \n",
    "\n",
    "Jelena Kalinić\n",
    "* Feature Nrc\n",
    "* Feature Bing\n",
    "* Feature intonation\n",
    "* Feature swear words\n",
    "* Feature the Syllables per VlogId\n",
    "* Feature Self-reference words\n",
    "* Model selection pt.2\n",
    "\n",
    "Jesse Boot\n",
    "* Feature average number of words in a sentence\n",
    "* Description of features\n",
    "\n",
    "Jessica Bormann\n",
    "* Feature number of questions\n",
    "* Feature number of um's\n",
    "* Feature number of pauses\n",
    "* Feature swear words\n",
    "* added features of other groups\n",
    "* Model selection pt.1"
   ]
  },
  {
   "cell_type": "markdown",
   "id": "119d4cff",
   "metadata": {
    "_cell_guid": "d440c5a9-2554-4618-bdae-ae2625df13ef",
    "_uuid": "ceb46677-aa88-4b59-b6fe-1a6ea5afd432",
    "papermill": {
     "duration": 0.117526,
     "end_time": "2021-12-29T17:13:20.598207",
     "exception": false,
     "start_time": "2021-12-29T17:13:20.480681",
     "status": "completed"
    },
    "tags": []
   },
   "source": [
    "Once you have clicked the <span style=\"background-color:#000000;color:white;padding:3px;border-radius:10px;padding-left:6px;padding-right:6px;\">⟳ Save Version&nbsp;&nbsp;|&nbsp;&nbsp;0</span> button at the top left, and select the \"Save & Run All (Commit)\" option, go to the Viewer. There you will find your \"predictions.csv\" under Output. You'll also see a button there that allows you to submit your predictions with one click."
   ]
  }
 ],
 "metadata": {
  "kernelspec": {
   "display_name": "R",
   "language": "R",
   "name": "ir"
  },
  "language_info": {
   "codemirror_mode": "r",
   "file_extension": ".r",
   "mimetype": "text/x-r-source",
   "name": "R",
   "pygments_lexer": "r",
   "version": "4.0.5"
  },
  "papermill": {
   "default_parameters": {},
   "duration": 144.029108,
   "end_time": "2021-12-29T17:13:20.823853",
   "environment_variables": {},
   "exception": null,
   "input_path": "__notebook__.ipynb",
   "output_path": "__notebook__.ipynb",
   "parameters": {},
   "start_time": "2021-12-29T17:10:56.794745",
   "version": "2.3.3"
  }
 },
 "nbformat": 4,
 "nbformat_minor": 5
}
